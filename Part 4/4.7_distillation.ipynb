{
  "nbformat": 4,
  "nbformat_minor": 0,
  "metadata": {
    "colab": {
      "name": "4.7_distillation.ipynb",
      "provenance": [],
      "collapsed_sections": []
    },
    "kernelspec": {
      "name": "python3",
      "display_name": "Python 3"
    },
    "accelerator": "GPU"
  },
  "cells": [
    {
      "cell_type": "markdown",
      "metadata": {
        "id": "Tyc_eLSEmgR6"
      },
      "source": [
        "[구글 코랩(Colab)에서 실행하기](https://colab.research.google.com/github/lovedlim/tensorflow/blob/main/Part%204/4.7_distillation.ipynb)"
      ]
    },
    {
      "cell_type": "markdown",
      "metadata": {
        "id": "xkjC4oj1jOP8"
      },
      "source": [
        "## Import"
      ]
    },
    {
      "cell_type": "code",
      "metadata": {
        "id": "mFalwKikrSjH"
      },
      "source": [
        "import tensorflow as tf\n",
        "import numpy as np\n",
        "from google.colab.patches import cv2_imshow\n",
        "from tqdm import tqdm"
      ],
      "execution_count": null,
      "outputs": []
    },
    {
      "cell_type": "markdown",
      "metadata": {
        "id": "8SS_ObaljUg-"
      },
      "source": [
        "## 주요 파라미터 설정"
      ]
    },
    {
      "cell_type": "code",
      "metadata": {
        "id": "RezYW_jarv6E"
      },
      "source": [
        "#@title 파라미터 설정\n",
        "t_ephoc = 10 #@param {type:\"slider\", min:1, max:100, step:1}\n",
        "s_ephoc = 5 #@param {type:\"slider\", min:1, max:100, step:1}\n",
        "learning_rate = 0.01 \n",
        "batch_size = 64 #@param [32, 64, 128, 256] {type:\"raw\"}\n",
        "temperature = 3 #@param {type:\"slider\", min:1, max:10, step:1}\n",
        "alpha = 0.5 #@param {type:\"slider\", min:0.1, max:0.9, step:0.1}"
      ],
      "execution_count": null,
      "outputs": []
    },
    {
      "cell_type": "markdown",
      "metadata": {
        "id": "R05hGW2OjYVJ"
      },
      "source": [
        "## 데이터셋"
      ]
    },
    {
      "cell_type": "code",
      "metadata": {
        "id": "hq8D_Jr3sXL9"
      },
      "source": [
        "# MNIST 데이터셋 가져오기\n",
        "\n",
        "(x_train, y_train), (x_test, y_test) = tf.keras.datasets.mnist.load_data()\n",
        "\n",
        "x_train = x_train.astype(\"float32\") / 255.0\n",
        "x_train = np.reshape(x_train, (-1, 28, 28, 1))\n",
        "\n",
        "x_test = x_test.astype(\"float32\") / 255.0\n",
        "x_test = np.reshape(x_test, (-1, 28, 28, 1))"
      ],
      "execution_count": null,
      "outputs": []
    },
    {
      "cell_type": "markdown",
      "metadata": {
        "id": "IYZOFJWUjjIK"
      },
      "source": [
        "## 모델 정의"
      ]
    },
    {
      "cell_type": "code",
      "metadata": {
        "id": "T-4ivaWisb20",
        "colab": {
          "base_uri": "https://localhost:8080/"
        },
        "outputId": "3555faa4-312e-47c1-8646-46d98230c30a"
      },
      "source": [
        "# teacher 모델\n",
        "i=tf.keras.Input(shape=(28, 28, 1))\n",
        "out=tf.keras.layers.Conv2D(256, (3, 3), strides=(2, 2), padding=\"same\")(i)\n",
        "out=tf.keras.layers.LeakyReLU(alpha=0.2)(out)\n",
        "out=tf.keras.layers.MaxPooling2D(pool_size=(2, 2), strides=(1, 1), padding=\"same\")(out)\n",
        "out=tf.keras.layers.Conv2D(512, (3, 3), strides=(2, 2), padding=\"same\")(out)\n",
        "out=tf.keras.layers.Flatten()(out)\n",
        "out=tf.keras.layers.Dense(10)(out)\n",
        "t_model=tf.keras.Model(inputs=[i],outputs=[out])\n",
        "\n",
        "t_model.summary()"
      ],
      "execution_count": null,
      "outputs": [
        {
          "output_type": "stream",
          "text": [
            "Model: \"model\"\n",
            "_________________________________________________________________\n",
            "Layer (type)                 Output Shape              Param #   \n",
            "=================================================================\n",
            "input_1 (InputLayer)         [(None, 28, 28, 1)]       0         \n",
            "_________________________________________________________________\n",
            "conv2d (Conv2D)              (None, 14, 14, 256)       2560      \n",
            "_________________________________________________________________\n",
            "leaky_re_lu (LeakyReLU)      (None, 14, 14, 256)       0         \n",
            "_________________________________________________________________\n",
            "max_pooling2d (MaxPooling2D) (None, 14, 14, 256)       0         \n",
            "_________________________________________________________________\n",
            "conv2d_1 (Conv2D)            (None, 7, 7, 512)         1180160   \n",
            "_________________________________________________________________\n",
            "flatten (Flatten)            (None, 25088)             0         \n",
            "_________________________________________________________________\n",
            "dense (Dense)                (None, 10)                250890    \n",
            "=================================================================\n",
            "Total params: 1,433,610\n",
            "Trainable params: 1,433,610\n",
            "Non-trainable params: 0\n",
            "_________________________________________________________________\n"
          ],
          "name": "stdout"
        }
      ]
    },
    {
      "cell_type": "code",
      "metadata": {
        "id": "C6YTZ1UatV7U",
        "colab": {
          "base_uri": "https://localhost:8080/"
        },
        "outputId": "86281277-4e13-4b44-e403-60802e3c1f77"
      },
      "source": [
        "# student 모델\n",
        "i=tf.keras.Input(shape=(28, 28, 1))\n",
        "out=tf.keras.layers.Flatten()(i)\n",
        "out=tf.keras.layers.Dense(28)(out)\n",
        "out=tf.keras.layers.Dense(10)(out)\n",
        "\n",
        "s_model_1=tf.keras.Model(inputs=[i],outputs=[out])\n",
        "s_model_2=tf.keras.models.clone_model(s_model_1)\n",
        "\n",
        "s_model_1.summary()"
      ],
      "execution_count": null,
      "outputs": [
        {
          "output_type": "stream",
          "text": [
            "Model: \"model_1\"\n",
            "_________________________________________________________________\n",
            "Layer (type)                 Output Shape              Param #   \n",
            "=================================================================\n",
            "input_2 (InputLayer)         [(None, 28, 28, 1)]       0         \n",
            "_________________________________________________________________\n",
            "flatten_1 (Flatten)          (None, 784)               0         \n",
            "_________________________________________________________________\n",
            "dense_1 (Dense)              (None, 28)                21980     \n",
            "_________________________________________________________________\n",
            "dense_2 (Dense)              (None, 10)                290       \n",
            "=================================================================\n",
            "Total params: 22,270\n",
            "Trainable params: 22,270\n",
            "Non-trainable params: 0\n",
            "_________________________________________________________________\n"
          ],
          "name": "stdout"
        }
      ]
    },
    {
      "cell_type": "markdown",
      "metadata": {
        "id": "1onqN9IUqAOH"
      },
      "source": [
        "## 모델 컴파일"
      ]
    },
    {
      "cell_type": "code",
      "metadata": {
        "id": "2BpF-cT50veK"
      },
      "source": [
        "# teacher 모델\n",
        "t_model.compile(tf.keras.optimizers.Adam(learning_rate),\n",
        "                tf.keras.losses.SparseCategoricalCrossentropy(from_logits=True),\n",
        "                metrics=[tf.keras.metrics.SparseCategoricalAccuracy()])\n",
        "\n",
        "# student 모델 (distillation 적용)\n",
        "s_model_1.compile(tf.keras.optimizers.Adam(learning_rate),\n",
        "                tf.keras.losses.SparseCategoricalCrossentropy(from_logits=True),\n",
        "                metrics=[tf.keras.metrics.SparseCategoricalAccuracy()])\n",
        "\n",
        "# 비교 모델 (distillation 미적용)\n",
        "s_model_2.compile(tf.keras.optimizers.Adam(learning_rate),\n",
        "                tf.keras.losses.SparseCategoricalCrossentropy(from_logits=True),\n",
        "                metrics=[tf.keras.metrics.SparseCategoricalAccuracy()])"
      ],
      "execution_count": null,
      "outputs": []
    },
    {
      "cell_type": "markdown",
      "metadata": {
        "id": "RbJzRxowqQfv"
      },
      "source": [
        "## 모델 훈련"
      ]
    },
    {
      "cell_type": "code",
      "metadata": {
        "colab": {
          "base_uri": "https://localhost:8080/"
        },
        "id": "I1ae_LpuvRix",
        "outputId": "82b328c2-35d6-483d-e7ef-ec479002b6b8"
      },
      "source": [
        "# teacher 모델\n",
        "t_model.fit(x_train, y_train,batch_size=batch_size,epochs=t_ephoc)"
      ],
      "execution_count": null,
      "outputs": [
        {
          "output_type": "stream",
          "text": [
            "Epoch 1/10\n",
            "938/938 [==============================] - 9s 7ms/step - loss: 1.8960 - sparse_categorical_accuracy: 0.8368\n",
            "Epoch 2/10\n",
            "938/938 [==============================] - 7s 7ms/step - loss: 17.1700 - sparse_categorical_accuracy: 0.9142\n",
            "Epoch 3/10\n",
            "938/938 [==============================] - 7s 7ms/step - loss: 4.8890 - sparse_categorical_accuracy: 0.9621\n",
            "Epoch 4/10\n",
            "938/938 [==============================] - 7s 7ms/step - loss: 5.8202 - sparse_categorical_accuracy: 0.9633\n",
            "Epoch 5/10\n",
            "938/938 [==============================] - 7s 7ms/step - loss: 10.4369 - sparse_categorical_accuracy: 0.9643\n",
            "Epoch 6/10\n",
            "938/938 [==============================] - 7s 7ms/step - loss: 7.3991 - sparse_categorical_accuracy: 0.9717\n",
            "Epoch 7/10\n",
            "938/938 [==============================] - 7s 7ms/step - loss: 9.6172 - sparse_categorical_accuracy: 0.9706\n",
            "Epoch 8/10\n",
            "938/938 [==============================] - 7s 7ms/step - loss: 8.7060 - sparse_categorical_accuracy: 0.9752\n",
            "Epoch 9/10\n",
            "938/938 [==============================] - 7s 7ms/step - loss: 10.9805 - sparse_categorical_accuracy: 0.9751\n",
            "Epoch 10/10\n",
            "938/938 [==============================] - 7s 7ms/step - loss: 9.5541 - sparse_categorical_accuracy: 0.9787\n"
          ],
          "name": "stdout"
        },
        {
          "output_type": "execute_result",
          "data": {
            "text/plain": [
              "<tensorflow.python.keras.callbacks.History at 0x7f17b97aa650>"
            ]
          },
          "metadata": {
            "tags": []
          },
          "execution_count": 7
        }
      ]
    },
    {
      "cell_type": "code",
      "metadata": {
        "id": "PfkUXv9QzP5w"
      },
      "source": [
        "# student 손실함수\n",
        "s_loss = tf.keras.losses.SparseCategoricalCrossentropy(from_logits=True)\n",
        "# distillation 손실함수\n",
        "d_loss = tf.keras.losses.KLDivergence()"
      ],
      "execution_count": null,
      "outputs": []
    },
    {
      "cell_type": "code",
      "metadata": {
        "colab": {
          "base_uri": "https://localhost:8080/"
        },
        "id": "S8iYE3f8TxTJ",
        "outputId": "ae1676dc-3bed-4c0d-9e36-2b98da6f3826"
      },
      "source": [
        "x_train.shape"
      ],
      "execution_count": null,
      "outputs": [
        {
          "output_type": "execute_result",
          "data": {
            "text/plain": [
              "(60000, 28, 28, 1)"
            ]
          },
          "metadata": {
            "tags": []
          },
          "execution_count": 10
        }
      ]
    },
    {
      "cell_type": "code",
      "metadata": {
        "colab": {
          "base_uri": "https://localhost:8080/"
        },
        "id": "-x3-mPIRwR0q",
        "outputId": "981561a3-fe64-470b-ca08-ad784907a8f2"
      },
      "source": [
        "batch_count =x_train.shape[0]//batch_size\n",
        "\n",
        "opt = tf.keras.optimizers.Adam(learning_rate)\n",
        "\n",
        "for e in range(s_ephoc):\n",
        "    for _ in range(batch_count):\n",
        "        batch_num=np.random.randint(0, x_train.shape[0], size=batch_size)\n",
        "        t_pred = t_model.predict(x_train[batch_num])\n",
        "\n",
        "        with tf.GradientTape() as tape:\n",
        "            s_pred_1 = s_model_1(x_train[batch_num])\n",
        "            student_loss = s_loss(y_train[batch_num], s_pred_1)\n",
        "            distillation_loss = d_loss(\n",
        "                tf.nn.softmax(t_pred / temperature, axis=1),\n",
        "                tf.nn.softmax(s_pred_1 / temperature, axis=1),\n",
        "            )\n",
        "            loss = alpha * student_loss + (1 - alpha) * distillation_loss\n",
        "\n",
        "        vars = s_model_1.trainable_variables\n",
        "        grad = tape.gradient(loss, vars)\n",
        "        opt.apply_gradients(zip(grad, vars))\n",
        "\n",
        "        with tf.GradientTape() as tape:\n",
        "            s_pred_2 = s_model_2(x_train[batch_num])\n",
        "            student_loss = s_loss(y_train[batch_num], s_pred_2)\n",
        "        vars = s_model_2.trainable_variables\n",
        "        grad = tape.gradient(student_loss, vars)\n",
        "        opt.apply_gradients(zip(grad, vars))\n",
        "\n",
        "    print(\"에포크 {}\".format(e))\n",
        "    print(\"선생님께 배운 경우\")\n",
        "    s_model_1.evaluate(x_test, y_test)\n",
        "    print(\"혼자 공부한 경우\")\n",
        "    s_model_2.evaluate(x_test, y_test)\n",
        "    print(\"\\n\")"
      ],
      "execution_count": null,
      "outputs": [
        {
          "output_type": "stream",
          "text": [
            "에포크 0\n",
            "선생님께 배운 경우\n",
            "313/313 [==============================] - 1s 2ms/step - loss: 0.5909 - sparse_categorical_accuracy: 0.8753\n",
            "혼자 공부한 경우\n",
            "313/313 [==============================] - 1s 2ms/step - loss: 0.4053 - sparse_categorical_accuracy: 0.8880\n",
            "\n",
            "\n",
            "에포크 1\n",
            "선생님께 배운 경우\n",
            "313/313 [==============================] - 0s 1ms/step - loss: 0.4574 - sparse_categorical_accuracy: 0.9058\n",
            "혼자 공부한 경우\n",
            "313/313 [==============================] - 0s 2ms/step - loss: 0.3765 - sparse_categorical_accuracy: 0.8931\n",
            "\n",
            "\n",
            "에포크 2\n",
            "선생님께 배운 경우\n",
            "313/313 [==============================] - 1s 2ms/step - loss: 0.4398 - sparse_categorical_accuracy: 0.9133\n",
            "혼자 공부한 경우\n",
            "313/313 [==============================] - 1s 2ms/step - loss: 0.3225 - sparse_categorical_accuracy: 0.9103\n",
            "\n",
            "\n",
            "에포크 3\n",
            "선생님께 배운 경우\n",
            "313/313 [==============================] - 1s 2ms/step - loss: 0.4557 - sparse_categorical_accuracy: 0.9089\n",
            "혼자 공부한 경우\n",
            "313/313 [==============================] - 0s 2ms/step - loss: 0.3301 - sparse_categorical_accuracy: 0.9087\n",
            "\n",
            "\n",
            "에포크 4\n",
            "선생님께 배운 경우\n",
            "313/313 [==============================] - 0s 2ms/step - loss: 0.4307 - sparse_categorical_accuracy: 0.9191\n",
            "혼자 공부한 경우\n",
            "313/313 [==============================] - 1s 2ms/step - loss: 0.3304 - sparse_categorical_accuracy: 0.9109\n",
            "\n",
            "\n"
          ],
          "name": "stdout"
        }
      ]
    }
  ]
}