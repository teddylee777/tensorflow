{
  "nbformat": 4,
  "nbformat_minor": 5,
  "metadata": {
    "kernelspec": {
      "name": "python3",
      "display_name": "Python 3"
    },
    "colab": {
      "name": "4.1_mnist_cnn.ipynb",
      "provenance": [],
      "collapsed_sections": []
    },
    "accelerator": "GPU"
  },
  "cells": [
    {
      "cell_type": "markdown",
      "metadata": {
        "id": "Vi3aZ9Eqkvzy"
      },
      "source": [
        "[구글 코랩(Colab)에서 실행하기](https://colab.research.google.com/github/lovedlim/tensorflow/blob/main/Part%204/4.1_mnist_cnn.ipynb)"
      ],
      "id": "Vi3aZ9Eqkvzy"
    },
    {
      "cell_type": "markdown",
      "metadata": {
        "id": "characteristic-adventure"
      },
      "source": [
        "## import"
      ],
      "id": "characteristic-adventure"
    },
    {
      "cell_type": "code",
      "metadata": {
        "id": "opened-yield"
      },
      "source": [
        "# tensorflow 모듈 import \n",
        "import tensorflow as tf"
      ],
      "id": "opened-yield",
      "execution_count": null,
      "outputs": []
    },
    {
      "cell_type": "markdown",
      "metadata": {
        "id": "clinical-cowboy"
      },
      "source": [
        "## Dataset"
      ],
      "id": "clinical-cowboy"
    },
    {
      "cell_type": "code",
      "metadata": {
        "colab": {
          "base_uri": "https://localhost:8080/"
        },
        "id": "heard-salad",
        "outputId": "f0393fc6-5d70-4aa1-932c-5686b9f1f430"
      },
      "source": [
        "# MNIST 손글씨 이미지 데이터 로드\n",
        "mnist = tf.keras.datasets.mnist\n",
        "(x_train, y_train), (x_valid, y_valid) = mnist.load_data()\n",
        "\n",
        "print(x_train.shape, y_train.shape)\n",
        "print(x_valid.shape, y_valid.shape)"
      ],
      "id": "heard-salad",
      "execution_count": null,
      "outputs": [
        {
          "output_type": "stream",
          "text": [
            "Downloading data from https://storage.googleapis.com/tensorflow/tf-keras-datasets/mnist.npz\n",
            "11493376/11490434 [==============================] - 0s 0us/step\n",
            "(60000, 28, 28) (60000,)\n",
            "(10000, 28, 28) (10000,)\n"
          ],
          "name": "stdout"
        }
      ]
    },
    {
      "cell_type": "code",
      "metadata": {
        "colab": {
          "base_uri": "https://localhost:8080/",
          "height": 303
        },
        "id": "joUirjDUmlPu",
        "outputId": "719f4b6d-87e5-4ca1-a020-493490fe1b8d"
      },
      "source": [
        "# 샘플 이미지 출력\n",
        "import matplotlib.pylab as plt\n",
        "\n",
        "def plot_image(data, idx):\n",
        "    plt.figure(figsize=(5, 5))\n",
        "    plt.imshow(data[idx], cmap=\"gray\")\n",
        "    plt.axis(\"off\")\n",
        "    plt.show()\n",
        "\n",
        "plot_image(x_train, 0)"
      ],
      "id": "joUirjDUmlPu",
      "execution_count": null,
      "outputs": [
        {
          "output_type": "display_data",
          "data": {
            "image/png": "[encoded data removed]",
            "text/plain": [
              "<Figure size 360x360 with 1 Axes>"
            ]
          },
          "metadata": {
            "tags": [],
            "needs_background": "light"
          }
        }
      ]
    },
    {
      "cell_type": "code",
      "metadata": {
        "colab": {
          "base_uri": "https://localhost:8080/"
        },
        "id": "f5hACZpVmjLH",
        "outputId": "345ba4a7-03d6-4a1c-c62f-3564ccd5c624"
      },
      "source": [
        "print(x_train.min(), x_train.max())\n",
        "print(x_valid.min(), x_valid.max())"
      ],
      "id": "f5hACZpVmjLH",
      "execution_count": null,
      "outputs": [
        {
          "output_type": "stream",
          "text": [
            "0 255\n",
            "0 255\n"
          ],
          "name": "stdout"
        }
      ]
    },
    {
      "cell_type": "code",
      "metadata": {
        "colab": {
          "base_uri": "https://localhost:8080/"
        },
        "id": "os1op0H7mT-A",
        "outputId": "32f76117-0532-4f42-96f0-6440be91bc6d"
      },
      "source": [
        "# 정규화(Normalization)\n",
        "x_train = x_train / 255.0\n",
        "x_valid = x_valid / 255.0\n",
        "\n",
        "print(x_train.min(), x_train.max())\n",
        "print(x_valid.min(), x_valid.max())"
      ],
      "id": "os1op0H7mT-A",
      "execution_count": null,
      "outputs": [
        {
          "output_type": "stream",
          "text": [
            "0.0 1.0\n",
            "0.0 1.0\n"
          ],
          "name": "stdout"
        }
      ]
    },
    {
      "cell_type": "code",
      "metadata": {
        "colab": {
          "base_uri": "https://localhost:8080/"
        },
        "id": "professional-quantity",
        "outputId": "652adc39-35d6-456f-ff31-9fec9415535c"
      },
      "source": [
        "# 채널 추가\n",
        "print(x_train.shape, x_valid.shape)\n",
        "\n",
        "x_train_in = x_train[..., tf.newaxis]\n",
        "x_valid_in = x_valid[..., tf.newaxis]\n",
        "\n",
        "print(x_train_in.shape, x_valid_in.shape)"
      ],
      "id": "professional-quantity",
      "execution_count": null,
      "outputs": [
        {
          "output_type": "stream",
          "text": [
            "(60000, 28, 28) (10000, 28, 28)\n",
            "(60000, 28, 28, 1) (10000, 28, 28, 1)\n"
          ],
          "name": "stdout"
        }
      ]
    },
    {
      "cell_type": "markdown",
      "metadata": {
        "id": "portuguese-oriental"
      },
      "source": [
        "## Simple CNN"
      ],
      "id": "portuguese-oriental"
    },
    {
      "cell_type": "code",
      "metadata": {
        "id": "unusual-clone"
      },
      "source": [
        "# Sequential API를 사용하여 샘플 모델 생성\n",
        "model = tf.keras.Sequential([\n",
        "    # Convolution 적용 (32 filters)\n",
        "    tf.keras.layers.Conv2D(32, (3, 3), activation='relu', \n",
        "                           input_shape=(28, 28, 1), name='conv'),\n",
        "    # Max Pooling 적용\n",
        "    tf.keras.layers.MaxPooling2D((2, 2), name='pool'),\n",
        "    # Classifier 출력층 \n",
        "    tf.keras.layers.Flatten(),\n",
        "    tf.keras.layers.Dense(10, activation='softmax'),\n",
        "])"
      ],
      "id": "unusual-clone",
      "execution_count": null,
      "outputs": []
    },
    {
      "cell_type": "code",
      "metadata": {
        "colab": {
          "base_uri": "https://localhost:8080/"
        },
        "id": "bulgarian-reader",
        "outputId": "c78392b6-0e9b-4273-b072-06ee73d14bf4"
      },
      "source": [
        "# 모델 컴파일\n",
        "model.compile(optimizer='adam', loss='sparse_categorical_crossentropy', metrics=['accuracy'])\n",
        "\n",
        "# 모델 훈련\n",
        "history = model.fit(x_train_in, y_train, \n",
        "                    validation_data=(x_valid_in, y_valid), \n",
        "                    epochs=10)"
      ],
      "id": "bulgarian-reader",
      "execution_count": null,
      "outputs": [
        {
          "output_type": "stream",
          "text": [
            "Epoch 1/10\n",
            "1875/1875 [==============================] - 38s 4ms/step - loss: 0.3955 - accuracy: 0.8899 - val_loss: 0.0928 - val_accuracy: 0.9727\n",
            "Epoch 2/10\n",
            "1875/1875 [==============================] - 8s 4ms/step - loss: 0.0794 - accuracy: 0.9765 - val_loss: 0.0657 - val_accuracy: 0.9795\n",
            "Epoch 3/10\n",
            "1875/1875 [==============================] - 8s 4ms/step - loss: 0.0605 - accuracy: 0.9820 - val_loss: 0.0624 - val_accuracy: 0.9803\n",
            "Epoch 4/10\n",
            "1875/1875 [==============================] - 8s 4ms/step - loss: 0.0487 - accuracy: 0.9854 - val_loss: 0.0563 - val_accuracy: 0.9812\n",
            "Epoch 5/10\n",
            "1875/1875 [==============================] - 8s 4ms/step - loss: 0.0397 - accuracy: 0.9883 - val_loss: 0.0568 - val_accuracy: 0.9818\n",
            "Epoch 6/10\n",
            "1875/1875 [==============================] - 8s 4ms/step - loss: 0.0339 - accuracy: 0.9897 - val_loss: 0.0658 - val_accuracy: 0.9795\n",
            "Epoch 7/10\n",
            "1875/1875 [==============================] - 8s 4ms/step - loss: 0.0280 - accuracy: 0.9913 - val_loss: 0.0586 - val_accuracy: 0.9831\n",
            "Epoch 8/10\n",
            "1875/1875 [==============================] - 8s 4ms/step - loss: 0.0260 - accuracy: 0.9918 - val_loss: 0.0540 - val_accuracy: 0.9829\n",
            "Epoch 9/10\n",
            "1875/1875 [==============================] - 8s 4ms/step - loss: 0.0210 - accuracy: 0.9935 - val_loss: 0.0583 - val_accuracy: 0.9831\n",
            "Epoch 10/10\n",
            "1875/1875 [==============================] - 8s 4ms/step - loss: 0.0180 - accuracy: 0.9944 - val_loss: 0.0551 - val_accuracy: 0.9851\n"
          ],
          "name": "stdout"
        }
      ]
    },
    {
      "cell_type": "code",
      "metadata": {
        "colab": {
          "base_uri": "https://localhost:8080/"
        },
        "id": "difficult-princess",
        "outputId": "b4534e27-9679-446b-9ebd-c00baba191d6"
      },
      "source": [
        "model.evaluate(x_valid_in, y_valid)"
      ],
      "id": "difficult-princess",
      "execution_count": null,
      "outputs": [
        {
          "output_type": "stream",
          "text": [
            "313/313 [==============================] - 1s 3ms/step - loss: 0.0551 - accuracy: 0.9851\n"
          ],
          "name": "stdout"
        },
        {
          "output_type": "execute_result",
          "data": {
            "text/plain": [
              "[0.0550571046769619, 0.9850999712944031]"
            ]
          },
          "metadata": {
            "tags": []
          },
          "execution_count": 9
        }
      ]
    },
    {
      "cell_type": "code",
      "metadata": {
        "colab": {
          "base_uri": "https://localhost:8080/",
          "height": 281
        },
        "id": "zP3lUAEWnO6w",
        "outputId": "2fcf7801-54b6-4307-e469-30af7d4c3fbe"
      },
      "source": [
        "def plot_loss_acc(history, epoch):\n",
        "\n",
        "    loss, val_loss = history.history['loss'], history.history['val_loss']\n",
        "    acc, val_acc = history.history['accuracy'], history.history['val_accuracy']\n",
        "\n",
        "    fig, axes = plt.subplots(1, 2, figsize=(12, 4))\n",
        "\n",
        "    axes[0].plot(range(1, epoch + 1), loss, label='Training')\n",
        "    axes[0].plot(range(1, epoch + 1), val_loss, label='Validation')\n",
        "    axes[0].legend(loc='best')\n",
        "    axes[0].set_title('Loss')\n",
        "\n",
        "    axes[1].plot(range(1, epoch + 1), acc, label='Training')\n",
        "    axes[1].plot(range(1, epoch + 1), val_acc, label='Validation')\n",
        "    axes[1].legend(loc='best')\n",
        "    axes[1].set_title('Accuracy')\n",
        "\n",
        "    plt.show()\n",
        "\n",
        "plot_loss_acc(history, 10)"
      ],
      "id": "zP3lUAEWnO6w",
      "execution_count": null,
      "outputs": [
        {
          "output_type": "display_data",
          "data": {
            "image/png": "[encoded data removed]",
            "text/plain": [
              "<Figure size 864x288 with 2 Axes>"
            ]
          },
          "metadata": {
            "tags": [],
            "needs_background": "light"
          }
        }
      ]
    },
    {
      "cell_type": "markdown",
      "metadata": {
        "id": "challenging-accident"
      },
      "source": [
        "## CNN 레이어 중간 출력값을 시각화"
      ],
      "id": "challenging-accident"
    },
    {
      "cell_type": "code",
      "metadata": {
        "colab": {
          "base_uri": "https://localhost:8080/"
        },
        "id": "broken-billy",
        "outputId": "fd6ceee7-cd93-4b5c-ec51-eb6b97cee350"
      },
      "source": [
        "# 모델 구조 \n",
        "model.summary()"
      ],
      "id": "broken-billy",
      "execution_count": null,
      "outputs": [
        {
          "output_type": "stream",
          "text": [
            "Model: \"sequential\"\n",
            "_________________________________________________________________\n",
            "Layer (type)                 Output Shape              Param #   \n",
            "=================================================================\n",
            "conv (Conv2D)                (None, 26, 26, 32)        320       \n",
            "_________________________________________________________________\n",
            "pool (MaxPooling2D)          (None, 13, 13, 32)        0         \n",
            "_________________________________________________________________\n",
            "flatten (Flatten)            (None, 5408)              0         \n",
            "_________________________________________________________________\n",
            "dense (Dense)                (None, 10)                54090     \n",
            "=================================================================\n",
            "Total params: 54,410\n",
            "Trainable params: 54,410\n",
            "Non-trainable params: 0\n",
            "_________________________________________________________________\n"
          ],
          "name": "stdout"
        }
      ]
    },
    {
      "cell_type": "code",
      "metadata": {
        "colab": {
          "base_uri": "https://localhost:8080/"
        },
        "id": "bridal-alignment",
        "outputId": "3e862e3d-8907-41f3-b69e-38522c7aadc5"
      },
      "source": [
        "# 입력 텐서 형태 \n",
        "model.input"
      ],
      "id": "bridal-alignment",
      "execution_count": null,
      "outputs": [
        {
          "output_type": "execute_result",
          "data": {
            "text/plain": [
              "<KerasTensor: shape=(None, 28, 28, 1) dtype=float32 (created by layer 'conv_input')>"
            ]
          },
          "metadata": {
            "tags": []
          },
          "execution_count": 12
        }
      ]
    },
    {
      "cell_type": "code",
      "metadata": {
        "colab": {
          "base_uri": "https://localhost:8080/"
        },
        "id": "bsZRWtCMcNov",
        "outputId": "c5130f0f-b2ee-4a9a-a8d8-624dcf035962"
      },
      "source": [
        "# 출력 텐서 형태 \n",
        "model.output"
      ],
      "id": "bsZRWtCMcNov",
      "execution_count": null,
      "outputs": [
        {
          "output_type": "execute_result",
          "data": {
            "text/plain": [
              "<KerasTensor: shape=(None, 10) dtype=float32 (created by layer 'dense')>"
            ]
          },
          "metadata": {
            "tags": []
          },
          "execution_count": 13
        }
      ]
    },
    {
      "cell_type": "code",
      "metadata": {
        "colab": {
          "base_uri": "https://localhost:8080/"
        },
        "id": "downtown-cooking",
        "outputId": "a9acec59-9b78-48f9-9203-89147bf05abf"
      },
      "source": [
        "# 레이어 \n",
        "model.layers"
      ],
      "id": "downtown-cooking",
      "execution_count": null,
      "outputs": [
        {
          "output_type": "execute_result",
          "data": {
            "text/plain": [
              "[<tensorflow.python.keras.layers.convolutional.Conv2D at 0x7fad3406bed0>,\n",
              " <tensorflow.python.keras.layers.pooling.MaxPooling2D at 0x7fad34096190>,\n",
              " <tensorflow.python.keras.layers.core.Flatten at 0x7fad33bb48d0>,\n",
              " <tensorflow.python.keras.layers.core.Dense at 0x7fad33bb4d90>]"
            ]
          },
          "metadata": {
            "tags": []
          },
          "execution_count": 14
        }
      ]
    },
    {
      "cell_type": "code",
      "metadata": {
        "colab": {
          "base_uri": "https://localhost:8080/"
        },
        "id": "I7S3PdXNcfiw",
        "outputId": "257c1a34-3650-4135-dd12-dda0d8d8cfcf"
      },
      "source": [
        "# 첫번째 레이어 선택\n",
        "model.layers[0]"
      ],
      "id": "I7S3PdXNcfiw",
      "execution_count": null,
      "outputs": [
        {
          "output_type": "execute_result",
          "data": {
            "text/plain": [
              "<tensorflow.python.keras.layers.convolutional.Conv2D at 0x7fad3406bed0>"
            ]
          },
          "metadata": {
            "tags": []
          },
          "execution_count": 15
        }
      ]
    },
    {
      "cell_type": "code",
      "metadata": {
        "colab": {
          "base_uri": "https://localhost:8080/"
        },
        "id": "r2O_XJDscfwF",
        "outputId": "f2c42222-9c67-4f19-a644-92da802e0653"
      },
      "source": [
        "# 첫번째 레이어 입력\n",
        "model.layers[0].input"
      ],
      "id": "r2O_XJDscfwF",
      "execution_count": null,
      "outputs": [
        {
          "output_type": "execute_result",
          "data": {
            "text/plain": [
              "<KerasTensor: shape=(None, 28, 28, 1) dtype=float32 (created by layer 'conv_input')>"
            ]
          },
          "metadata": {
            "tags": []
          },
          "execution_count": 16
        }
      ]
    },
    {
      "cell_type": "code",
      "metadata": {
        "colab": {
          "base_uri": "https://localhost:8080/"
        },
        "id": "g6k5TC4pcfzj",
        "outputId": "e63cc70f-6e61-463e-df5d-df1ede9600b6"
      },
      "source": [
        "# 첫번째 레이어 출력\n",
        "model.layers[0].output"
      ],
      "id": "g6k5TC4pcfzj",
      "execution_count": null,
      "outputs": [
        {
          "output_type": "execute_result",
          "data": {
            "text/plain": [
              "<KerasTensor: shape=(None, 26, 26, 32) dtype=float32 (created by layer 'conv')>"
            ]
          },
          "metadata": {
            "tags": []
          },
          "execution_count": 17
        }
      ]
    },
    {
      "cell_type": "code",
      "metadata": {
        "colab": {
          "base_uri": "https://localhost:8080/"
        },
        "id": "1JJXfeRocfsP",
        "outputId": "a517b681-438f-49ed-c0fe-7c9a72bacdd5"
      },
      "source": [
        "# 첫번째 레이어 가중치\n",
        "model.layers[0].weights"
      ],
      "id": "1JJXfeRocfsP",
      "execution_count": null,
      "outputs": [
        {
          "output_type": "execute_result",
          "data": {
            "text/plain": [
              "[<tf.Variable 'conv/kernel:0' shape=(3, 3, 1, 32) dtype=float32, numpy=\n",
              " array([[[[-7.27075756e-01,  1.46875456e-01,  4.02693301e-01,\n",
              "           -6.71303868e-02,  3.98314923e-01, -6.46262288e-01,\n",
              "            1.90392897e-01, -3.24461013e-01, -8.99984300e-01,\n",
              "           -4.02971730e-02,  2.01271892e-01, -1.17213905e+00,\n",
              "            8.73183906e-01, -1.73754320e-02, -9.05383706e-01,\n",
              "            1.57798931e-01, -1.74934849e-01, -7.58423507e-02,\n",
              "            4.46165428e-02,  4.93290126e-01, -7.95668364e-01,\n",
              "            3.46035302e-01, -8.29338789e-01, -4.01658952e-01,\n",
              "           -3.50777715e-01,  1.99450150e-01,  2.17454582e-01,\n",
              "           -2.55935162e-01,  2.77804136e-01, -1.58167765e-01,\n",
              "            8.83195698e-01,  6.96766302e-02]],\n",
              " \n",
              "         [[-8.90297666e-02,  1.95714027e-01,  2.27585897e-01,\n",
              "           -9.76476967e-01, -1.40947413e+00, -3.07316303e-01,\n",
              "            1.87507436e-01, -2.72753567e-01, -1.06099224e+00,\n",
              "            2.38024384e-01,  2.38562867e-01, -2.89463162e-01,\n",
              "            4.25470710e-01,  4.90424961e-01, -9.33150351e-01,\n",
              "            4.64827925e-01,  5.96742658e-03,  4.75854017e-02,\n",
              "            2.32645720e-01,  5.27794480e-01, -9.04404595e-02,\n",
              "            2.25402489e-01,  9.30238143e-02,  7.34237805e-02,\n",
              "            9.71222669e-03,  2.94104427e-01, -3.39955121e-01,\n",
              "           -1.03102878e-01,  1.41242206e-01,  3.53370219e-01,\n",
              "           -6.68435156e-01, -2.33791228e-02]],\n",
              " \n",
              "         [[ 6.29493594e-02,  3.55006069e-01, -3.22554231e-01,\n",
              "            3.50614578e-01, -3.58014405e-01,  2.15902865e-01,\n",
              "            2.44238630e-01, -6.79995865e-02, -6.86654568e-01,\n",
              "            6.07321560e-01, -9.84739140e-02,  1.97664246e-01,\n",
              "           -8.30061257e-01,  3.94584984e-01, -8.75134766e-01,\n",
              "           -1.86136082e-01, -2.29869142e-01, -6.90570325e-02,\n",
              "           -4.36813682e-01,  3.61768901e-01,  4.14132804e-01,\n",
              "           -4.10187662e-01,  5.45423269e-01,  2.85207927e-01,\n",
              "            1.28726199e-01, -5.11092603e-01, -4.54142898e-01,\n",
              "            2.53495336e-01, -7.05583930e-01,  3.80418420e-01,\n",
              "           -4.84890610e-01, -4.18823287e-02]]],\n",
              " \n",
              " \n",
              "        [[[ 9.22189206e-02, -7.26527125e-02, -8.25871751e-02,\n",
              "            4.64942515e-01, -6.31183624e-01, -4.57777269e-03,\n",
              "           -1.23968937e-01,  2.67490983e-01, -1.04948573e-01,\n",
              "           -3.62091750e-01, -7.40156531e-01, -4.13742691e-01,\n",
              "            4.68109787e-01, -8.18774343e-01,  2.45875120e-01,\n",
              "           -9.37820911e-01,  1.62749067e-01,  7.21635148e-02,\n",
              "            5.33543043e-02,  1.11413095e-02, -4.64553922e-01,\n",
              "           -3.13361704e-01, -9.35522437e-01, -4.63799164e-02,\n",
              "            1.85370132e-01,  5.26770890e-01,  5.40817203e-03,\n",
              "           -9.40318853e-02,  5.73944569e-01,  2.97210068e-01,\n",
              "           -7.92200089e-01,  1.00924775e-01]],\n",
              " \n",
              "         [[ 5.61971545e-01,  6.66405380e-01, -1.28082275e-01,\n",
              "           -6.12526059e-01, -6.42221987e-01,  4.76297706e-01,\n",
              "            1.01000212e-01,  2.21764907e-01,  3.99860114e-01,\n",
              "           -1.38870120e-01,  2.80006677e-01,  1.82830244e-01,\n",
              "           -9.05263424e-01, -1.01175152e-01,  2.72240192e-01,\n",
              "            3.27503473e-01,  1.80412963e-01,  2.47276947e-02,\n",
              "            2.38138333e-01,  1.70815274e-01,  1.03202257e-02,\n",
              "            1.58271924e-01, -3.14165801e-01,  2.51427203e-01,\n",
              "           -2.74475038e-01,  1.21312041e-03, -3.40174556e-01,\n",
              "            3.68061811e-01, -6.60728291e-02, -7.32195005e-02,\n",
              "           -7.49076843e-01,  2.35886946e-02]],\n",
              " \n",
              "         [[ 8.20382014e-02,  4.25742060e-01,  4.92351316e-02,\n",
              "           -4.04484093e-01,  6.56326473e-01,  3.01297933e-01,\n",
              "            6.32261559e-02,  3.96818072e-01, -8.84820700e-01,\n",
              "            3.88429970e-01,  2.57036418e-01,  3.19503993e-01,\n",
              "           -9.96013761e-01,  4.47488189e-01, -2.34918147e-01,\n",
              "            5.94764709e-01,  3.45087945e-01,  1.96774788e-02,\n",
              "            1.68822348e-01, -5.20603120e-01,  3.25228184e-01,\n",
              "            9.33584124e-02,  6.00786090e-01, -8.26572999e-02,\n",
              "            1.35204615e-02, -7.08657205e-01, -1.14821211e-01,\n",
              "           -1.15320712e-01, -6.16802037e-01, -1.64164171e-01,\n",
              "            3.54890525e-01,  1.65753111e-01]]],\n",
              " \n",
              " \n",
              "        [[[ 8.48707482e-02, -8.49783242e-01, -1.68763071e-01,\n",
              "            7.23049521e-01, -1.03441525e+00,  3.03537458e-01,\n",
              "           -6.69385791e-01,  1.16420768e-01,  1.61845490e-01,\n",
              "           -3.42201203e-01, -3.66451234e-01, -4.44428146e-01,\n",
              "           -1.04242373e+00, -6.32825971e-01,  6.29769087e-01,\n",
              "           -6.86681569e-01,  2.28987541e-02, -3.80990990e-02,\n",
              "           -5.84269688e-02, -1.13339913e+00, -2.94136077e-01,\n",
              "           -1.13624468e-01, -8.36900592e-01,  3.17510158e-01,\n",
              "           -7.04527944e-02,  5.90548038e-01,  3.50757807e-01,\n",
              "            2.20721737e-01,  4.32563931e-01, -4.99248773e-01,\n",
              "           -1.78926736e-01,  4.41508554e-02]],\n",
              " \n",
              "         [[ 9.22108069e-02, -8.43851924e-01,  1.86660379e-01,\n",
              "           -2.91757919e-02,  1.43315867e-01, -5.59087982e-03,\n",
              "           -3.93172532e-01, -1.75985664e-01,  4.33322906e-01,\n",
              "           -9.01394427e-01,  2.14966804e-01, -9.38751996e-02,\n",
              "           -1.07760799e+00, -4.90267068e-01,  6.51085436e-01,\n",
              "           -7.57526815e-01, -4.31915164e-01, -6.57196641e-02,\n",
              "           -3.62951070e-01, -6.22079790e-01, -5.08540310e-02,\n",
              "            1.46183804e-01, -5.11352360e-01,  5.53389713e-02,\n",
              "            2.40818605e-01, -1.05472259e-01,  5.39625585e-01,\n",
              "            4.25542369e-02,  1.61712691e-01, -4.29526985e-01,\n",
              "            5.07619500e-01, -1.34573564e-01]],\n",
              " \n",
              "         [[-7.17740178e-01, -9.00958717e-01,  3.25394332e-01,\n",
              "           -3.97979543e-02,  6.44887745e-01, -3.28075171e-01,\n",
              "           -1.13077806e-02, -2.98480123e-01, -3.38919103e-01,\n",
              "           -5.63377678e-01,  2.17409119e-01,  4.16546464e-01,\n",
              "            7.49790072e-01,  2.47130066e-01,  2.27311954e-01,\n",
              "           -3.90330672e-01,  4.34435578e-03,  7.87174031e-02,\n",
              "            2.54218042e-01, -8.46316159e-01,  3.08868349e-01,\n",
              "            1.75059035e-01,  2.53229707e-01, -2.38524884e-01,\n",
              "            3.47428806e-02, -4.45293546e-01,  3.31549853e-01,\n",
              "           -2.48484448e-01, -2.58296043e-01, -2.16753334e-01,\n",
              "            5.91735542e-01,  8.65746364e-02]]]], dtype=float32)>,\n",
              " <tf.Variable 'conv/bias:0' shape=(32,) dtype=float32, numpy=\n",
              " array([-5.3787671e-02, -5.2496571e-02, -3.1037807e-01, -6.2355306e-03,\n",
              "         4.3236297e-03, -2.5760353e-01, -1.4174899e-01, -1.1861333e-01,\n",
              "         2.5405148e-01, -3.0890337e-04, -2.5814164e-01, -8.1634715e-02,\n",
              "         1.1744299e-03, -1.4437065e-01, -2.2770142e-02, -7.2788792e-03,\n",
              "        -6.5501705e-02, -1.8962550e-01, -1.4084974e-01, -9.7447420e-03,\n",
              "        -1.8232903e-01, -2.1299854e-01, -5.7888988e-02, -3.1682134e-01,\n",
              "        -1.5401344e-01, -1.2288534e-01, -1.4725171e-01, -2.1240796e-01,\n",
              "        -1.7704983e-01, -1.0568336e-02,  1.9348746e-03, -2.6310834e-01],\n",
              "       dtype=float32)>]"
            ]
          },
          "metadata": {
            "tags": []
          },
          "execution_count": 18
        }
      ]
    },
    {
      "cell_type": "code",
      "metadata": {
        "colab": {
          "base_uri": "https://localhost:8080/"
        },
        "id": "T6kUGg_OdV63",
        "outputId": "59ea88fd-8442-465a-ca76-647022068a9b"
      },
      "source": [
        "# 첫번째 레이어 커널 가중치\n",
        "model.layers[0].kernel"
      ],
      "id": "T6kUGg_OdV63",
      "execution_count": null,
      "outputs": [
        {
          "output_type": "execute_result",
          "data": {
            "text/plain": [
              "<tf.Variable 'conv/kernel:0' shape=(3, 3, 1, 32) dtype=float32, numpy=\n",
              "array([[[[-7.27075756e-01,  1.46875456e-01,  4.02693301e-01,\n",
              "          -6.71303868e-02,  3.98314923e-01, -6.46262288e-01,\n",
              "           1.90392897e-01, -3.24461013e-01, -8.99984300e-01,\n",
              "          -4.02971730e-02,  2.01271892e-01, -1.17213905e+00,\n",
              "           8.73183906e-01, -1.73754320e-02, -9.05383706e-01,\n",
              "           1.57798931e-01, -1.74934849e-01, -7.58423507e-02,\n",
              "           4.46165428e-02,  4.93290126e-01, -7.95668364e-01,\n",
              "           3.46035302e-01, -8.29338789e-01, -4.01658952e-01,\n",
              "          -3.50777715e-01,  1.99450150e-01,  2.17454582e-01,\n",
              "          -2.55935162e-01,  2.77804136e-01, -1.58167765e-01,\n",
              "           8.83195698e-01,  6.96766302e-02]],\n",
              "\n",
              "        [[-8.90297666e-02,  1.95714027e-01,  2.27585897e-01,\n",
              "          -9.76476967e-01, -1.40947413e+00, -3.07316303e-01,\n",
              "           1.87507436e-01, -2.72753567e-01, -1.06099224e+00,\n",
              "           2.38024384e-01,  2.38562867e-01, -2.89463162e-01,\n",
              "           4.25470710e-01,  4.90424961e-01, -9.33150351e-01,\n",
              "           4.64827925e-01,  5.96742658e-03,  4.75854017e-02,\n",
              "           2.32645720e-01,  5.27794480e-01, -9.04404595e-02,\n",
              "           2.25402489e-01,  9.30238143e-02,  7.34237805e-02,\n",
              "           9.71222669e-03,  2.94104427e-01, -3.39955121e-01,\n",
              "          -1.03102878e-01,  1.41242206e-01,  3.53370219e-01,\n",
              "          -6.68435156e-01, -2.33791228e-02]],\n",
              "\n",
              "        [[ 6.29493594e-02,  3.55006069e-01, -3.22554231e-01,\n",
              "           3.50614578e-01, -3.58014405e-01,  2.15902865e-01,\n",
              "           2.44238630e-01, -6.79995865e-02, -6.86654568e-01,\n",
              "           6.07321560e-01, -9.84739140e-02,  1.97664246e-01,\n",
              "          -8.30061257e-01,  3.94584984e-01, -8.75134766e-01,\n",
              "          -1.86136082e-01, -2.29869142e-01, -6.90570325e-02,\n",
              "          -4.36813682e-01,  3.61768901e-01,  4.14132804e-01,\n",
              "          -4.10187662e-01,  5.45423269e-01,  2.85207927e-01,\n",
              "           1.28726199e-01, -5.11092603e-01, -4.54142898e-01,\n",
              "           2.53495336e-01, -7.05583930e-01,  3.80418420e-01,\n",
              "          -4.84890610e-01, -4.18823287e-02]]],\n",
              "\n",
              "\n",
              "       [[[ 9.22189206e-02, -7.26527125e-02, -8.25871751e-02,\n",
              "           4.64942515e-01, -6.31183624e-01, -4.57777269e-03,\n",
              "          -1.23968937e-01,  2.67490983e-01, -1.04948573e-01,\n",
              "          -3.62091750e-01, -7.40156531e-01, -4.13742691e-01,\n",
              "           4.68109787e-01, -8.18774343e-01,  2.45875120e-01,\n",
              "          -9.37820911e-01,  1.62749067e-01,  7.21635148e-02,\n",
              "           5.33543043e-02,  1.11413095e-02, -4.64553922e-01,\n",
              "          -3.13361704e-01, -9.35522437e-01, -4.63799164e-02,\n",
              "           1.85370132e-01,  5.26770890e-01,  5.40817203e-03,\n",
              "          -9.40318853e-02,  5.73944569e-01,  2.97210068e-01,\n",
              "          -7.92200089e-01,  1.00924775e-01]],\n",
              "\n",
              "        [[ 5.61971545e-01,  6.66405380e-01, -1.28082275e-01,\n",
              "          -6.12526059e-01, -6.42221987e-01,  4.76297706e-01,\n",
              "           1.01000212e-01,  2.21764907e-01,  3.99860114e-01,\n",
              "          -1.38870120e-01,  2.80006677e-01,  1.82830244e-01,\n",
              "          -9.05263424e-01, -1.01175152e-01,  2.72240192e-01,\n",
              "           3.27503473e-01,  1.80412963e-01,  2.47276947e-02,\n",
              "           2.38138333e-01,  1.70815274e-01,  1.03202257e-02,\n",
              "           1.58271924e-01, -3.14165801e-01,  2.51427203e-01,\n",
              "          -2.74475038e-01,  1.21312041e-03, -3.40174556e-01,\n",
              "           3.68061811e-01, -6.60728291e-02, -7.32195005e-02,\n",
              "          -7.49076843e-01,  2.35886946e-02]],\n",
              "\n",
              "        [[ 8.20382014e-02,  4.25742060e-01,  4.92351316e-02,\n",
              "          -4.04484093e-01,  6.56326473e-01,  3.01297933e-01,\n",
              "           6.32261559e-02,  3.96818072e-01, -8.84820700e-01,\n",
              "           3.88429970e-01,  2.57036418e-01,  3.19503993e-01,\n",
              "          -9.96013761e-01,  4.47488189e-01, -2.34918147e-01,\n",
              "           5.94764709e-01,  3.45087945e-01,  1.96774788e-02,\n",
              "           1.68822348e-01, -5.20603120e-01,  3.25228184e-01,\n",
              "           9.33584124e-02,  6.00786090e-01, -8.26572999e-02,\n",
              "           1.35204615e-02, -7.08657205e-01, -1.14821211e-01,\n",
              "          -1.15320712e-01, -6.16802037e-01, -1.64164171e-01,\n",
              "           3.54890525e-01,  1.65753111e-01]]],\n",
              "\n",
              "\n",
              "       [[[ 8.48707482e-02, -8.49783242e-01, -1.68763071e-01,\n",
              "           7.23049521e-01, -1.03441525e+00,  3.03537458e-01,\n",
              "          -6.69385791e-01,  1.16420768e-01,  1.61845490e-01,\n",
              "          -3.42201203e-01, -3.66451234e-01, -4.44428146e-01,\n",
              "          -1.04242373e+00, -6.32825971e-01,  6.29769087e-01,\n",
              "          -6.86681569e-01,  2.28987541e-02, -3.80990990e-02,\n",
              "          -5.84269688e-02, -1.13339913e+00, -2.94136077e-01,\n",
              "          -1.13624468e-01, -8.36900592e-01,  3.17510158e-01,\n",
              "          -7.04527944e-02,  5.90548038e-01,  3.50757807e-01,\n",
              "           2.20721737e-01,  4.32563931e-01, -4.99248773e-01,\n",
              "          -1.78926736e-01,  4.41508554e-02]],\n",
              "\n",
              "        [[ 9.22108069e-02, -8.43851924e-01,  1.86660379e-01,\n",
              "          -2.91757919e-02,  1.43315867e-01, -5.59087982e-03,\n",
              "          -3.93172532e-01, -1.75985664e-01,  4.33322906e-01,\n",
              "          -9.01394427e-01,  2.14966804e-01, -9.38751996e-02,\n",
              "          -1.07760799e+00, -4.90267068e-01,  6.51085436e-01,\n",
              "          -7.57526815e-01, -4.31915164e-01, -6.57196641e-02,\n",
              "          -3.62951070e-01, -6.22079790e-01, -5.08540310e-02,\n",
              "           1.46183804e-01, -5.11352360e-01,  5.53389713e-02,\n",
              "           2.40818605e-01, -1.05472259e-01,  5.39625585e-01,\n",
              "           4.25542369e-02,  1.61712691e-01, -4.29526985e-01,\n",
              "           5.07619500e-01, -1.34573564e-01]],\n",
              "\n",
              "        [[-7.17740178e-01, -9.00958717e-01,  3.25394332e-01,\n",
              "          -3.97979543e-02,  6.44887745e-01, -3.28075171e-01,\n",
              "          -1.13077806e-02, -2.98480123e-01, -3.38919103e-01,\n",
              "          -5.63377678e-01,  2.17409119e-01,  4.16546464e-01,\n",
              "           7.49790072e-01,  2.47130066e-01,  2.27311954e-01,\n",
              "          -3.90330672e-01,  4.34435578e-03,  7.87174031e-02,\n",
              "           2.54218042e-01, -8.46316159e-01,  3.08868349e-01,\n",
              "           1.75059035e-01,  2.53229707e-01, -2.38524884e-01,\n",
              "           3.47428806e-02, -4.45293546e-01,  3.31549853e-01,\n",
              "          -2.48484448e-01, -2.58296043e-01, -2.16753334e-01,\n",
              "           5.91735542e-01,  8.65746364e-02]]]], dtype=float32)>"
            ]
          },
          "metadata": {
            "tags": []
          },
          "execution_count": 19
        }
      ]
    },
    {
      "cell_type": "code",
      "metadata": {
        "colab": {
          "base_uri": "https://localhost:8080/"
        },
        "id": "6DOj4K_2drzJ",
        "outputId": "43b25d9b-a1a5-4855-960c-2a573adb76e6"
      },
      "source": [
        "# 첫번째 레이어 bias 가중치\n",
        "model.layers[0].bias"
      ],
      "id": "6DOj4K_2drzJ",
      "execution_count": null,
      "outputs": [
        {
          "output_type": "execute_result",
          "data": {
            "text/plain": [
              "<tf.Variable 'conv/bias:0' shape=(32,) dtype=float32, numpy=\n",
              "array([-5.3787671e-02, -5.2496571e-02, -3.1037807e-01, -6.2355306e-03,\n",
              "        4.3236297e-03, -2.5760353e-01, -1.4174899e-01, -1.1861333e-01,\n",
              "        2.5405148e-01, -3.0890337e-04, -2.5814164e-01, -8.1634715e-02,\n",
              "        1.1744299e-03, -1.4437065e-01, -2.2770142e-02, -7.2788792e-03,\n",
              "       -6.5501705e-02, -1.8962550e-01, -1.4084974e-01, -9.7447420e-03,\n",
              "       -1.8232903e-01, -2.1299854e-01, -5.7888988e-02, -3.1682134e-01,\n",
              "       -1.5401344e-01, -1.2288534e-01, -1.4725171e-01, -2.1240796e-01,\n",
              "       -1.7704983e-01, -1.0568336e-02,  1.9348746e-03, -2.6310834e-01],\n",
              "      dtype=float32)>"
            ]
          },
          "metadata": {
            "tags": []
          },
          "execution_count": 20
        }
      ]
    },
    {
      "cell_type": "code",
      "metadata": {
        "colab": {
          "base_uri": "https://localhost:8080/"
        },
        "id": "JdSi6v_xeGiQ",
        "outputId": "2c850127-7195-4fd2-f2fd-0e39fadec460"
      },
      "source": [
        "# 레이어 이름 사용하여 레이어 선택\n",
        "model.get_layer('conv')"
      ],
      "id": "JdSi6v_xeGiQ",
      "execution_count": null,
      "outputs": [
        {
          "output_type": "execute_result",
          "data": {
            "text/plain": [
              "<tensorflow.python.keras.layers.convolutional.Conv2D at 0x7fad3406bed0>"
            ]
          },
          "metadata": {
            "tags": []
          },
          "execution_count": 21
        }
      ]
    },
    {
      "cell_type": "code",
      "metadata": {
        "colab": {
          "base_uri": "https://localhost:8080/"
        },
        "id": "continuous-chocolate",
        "outputId": "02ba9729-ae53-4f4e-edea-84e4a2b3dabc"
      },
      "source": [
        "# 샘플 이미지의 레이어별 출력을 리스트에 추가 (첫번째, 두번째 레이어)\n",
        "activator = tf.keras.Model(inputs=model.input, \n",
        "                           outputs=[layer.output for layer in model.layers[:2]] ) \n",
        "activations = activator.predict(x_train_in[0][tf.newaxis, ...]) \n",
        "\n",
        "len(activations)"
      ],
      "id": "continuous-chocolate",
      "execution_count": null,
      "outputs": [
        {
          "output_type": "execute_result",
          "data": {
            "text/plain": [
              "2"
            ]
          },
          "metadata": {
            "tags": []
          },
          "execution_count": 22
        }
      ]
    },
    {
      "cell_type": "code",
      "metadata": {
        "colab": {
          "base_uri": "https://localhost:8080/"
        },
        "id": "affiliated-insert",
        "outputId": "2582a8cc-a1af-478d-cc12-469640dde2ba"
      },
      "source": [
        "# 첫 번째 레이어(conv) 출력층 \n",
        "conv_activation = activations[0]\n",
        "conv_activation.shape"
      ],
      "id": "affiliated-insert",
      "execution_count": null,
      "outputs": [
        {
          "output_type": "execute_result",
          "data": {
            "text/plain": [
              "(1, 26, 26, 32)"
            ]
          },
          "metadata": {
            "tags": []
          },
          "execution_count": 23
        }
      ]
    },
    {
      "cell_type": "code",
      "metadata": {
        "colab": {
          "base_uri": "https://localhost:8080/",
          "height": 369
        },
        "id": "advisory-testing",
        "outputId": "978be6ef-1062-44cc-c077-2943212944f9"
      },
      "source": [
        "# Convolution 시각화\n",
        "fig, axes = plt.subplots(4, 8)\n",
        "fig.set_size_inches(10, 5)\n",
        "\n",
        "for i in range(32):\n",
        "    axes[i//8, i%8].matshow(conv_activation[0, :, :, i], cmap='viridis')\n",
        "    axes[i//8, i%8].set_title('kernel %s'%str(i), fontsize=10)\n",
        "    plt.setp( axes[i//8, i%8].get_xticklabels(), visible=False)\n",
        "    plt.setp( axes[i//8, i%8].get_yticklabels(), visible=False)\n",
        "\n",
        "plt.tight_layout()\n",
        "plt.show()"
      ],
      "id": "advisory-testing",
      "execution_count": null,
      "outputs": [
        {
          "output_type": "display_data",
          "data": {
            "image/png": "[encoded data removed]",
            "text/plain": [
              "<Figure size 720x360 with 32 Axes>"
            ]
          },
          "metadata": {
            "tags": []
          }
        }
      ]
    },
    {
      "cell_type": "code",
      "metadata": {
        "colab": {
          "base_uri": "https://localhost:8080/"
        },
        "id": "funded-collins",
        "outputId": "b844cfee-9c60-4c6d-9765-112974a37914"
      },
      "source": [
        "# 두 번째 레이어(pool) 출력층 \n",
        "pooling_activation = activations[1]\n",
        "print(pooling_activation.shape)"
      ],
      "id": "funded-collins",
      "execution_count": null,
      "outputs": [
        {
          "output_type": "stream",
          "text": [
            "(1, 13, 13, 32)\n"
          ],
          "name": "stdout"
        }
      ]
    },
    {
      "cell_type": "code",
      "metadata": {
        "colab": {
          "base_uri": "https://localhost:8080/",
          "height": 369
        },
        "id": "thorough-algebra",
        "outputId": "4b0acdca-95b3-4dc2-ad03-6e8acffa37b7"
      },
      "source": [
        "# 시각화\n",
        "fig, axes = plt.subplots(4, 8)\n",
        "fig.set_size_inches(10, 5)\n",
        "\n",
        "for i in range(32):\n",
        "    axes[i//8, i%8].matshow(pooling_activation[0, :, :, i], cmap='viridis')\n",
        "    axes[i//8, i%8].set_title('kernel %s'%str(i), fontsize=10)\n",
        "    plt.setp( axes[i//8, i%8].get_xticklabels(), visible=False)\n",
        "    plt.setp( axes[i//8, i%8].get_yticklabels(), visible=False)\n",
        "\n",
        "plt.tight_layout()\n",
        "plt.show()"
      ],
      "id": "thorough-algebra",
      "execution_count": null,
      "outputs": [
        {
          "output_type": "display_data",
          "data": {
            "image/png": "[encoded data removed]",
            "text/plain": [
              "<Figure size 720x360 with 32 Axes>"
            ]
          },
          "metadata": {
            "tags": []
          }
        }
      ]
    }
  ]
}