{
  "nbformat": 4,
  "nbformat_minor": 0,
  "metadata": {
    "colab": {
      "name": "2.8_variable.ipynb",
      "provenance": [],
      "collapsed_sections": []
    },
    "kernelspec": {
      "name": "python3",
      "display_name": "Python 3"
    },
    "language_info": {
      "name": "python"
    }
  },
  "cells": [
    {
      "cell_type": "markdown",
      "metadata": {
        "id": "EgILompctZwg"
      },
      "source": [
        "[구글 코랩(Colab)에서 실행하기](https://colab.research.google.com/github/lovedlim/tensorflow/blob/main/Part%202/2.8_variable.ipynb)"
      ]
    },
    {
      "cell_type": "code",
      "metadata": {
        "colab": {
          "base_uri": "https://localhost:8080/"
        },
        "id": "CCKv3tPbjl8v",
        "outputId": "2c8a6109-e862-426a-c759-3d1fff4f320a"
      },
      "source": [
        "# 텐서플로 불러오기\n",
        "import tensorflow as tf\n",
        "\n",
        "# 텐서 정의하기\n",
        "tensor1 = tf.constant([[0, 1, 2], \n",
        "                      [3, 4, 5]])\n",
        "print(tensor1)"
      ],
      "execution_count": null,
      "outputs": [
        {
          "output_type": "stream",
          "text": [
            "tf.Tensor(\n",
            "[[0 1 2]\n",
            " [3 4 5]], shape=(2, 3), dtype=int32)\n"
          ],
          "name": "stdout"
        }
      ]
    },
    {
      "cell_type": "code",
      "metadata": {
        "colab": {
          "base_uri": "https://localhost:8080/"
        },
        "id": "ZFiyV6KlkAC2",
        "outputId": "cd0c73b9-2cde-4ff5-d003-d51afbde1d0d"
      },
      "source": [
        "tensor_var1 = tf.Variable(tensor1)\n",
        "print(tensor_var1)"
      ],
      "execution_count": null,
      "outputs": [
        {
          "output_type": "stream",
          "text": [
            "<tf.Variable 'Variable:0' shape=(2, 3) dtype=int32, numpy=\n",
            "array([[0, 1, 2],\n",
            "       [3, 4, 5]], dtype=int32)>\n"
          ],
          "name": "stdout"
        }
      ]
    },
    {
      "cell_type": "code",
      "metadata": {
        "colab": {
          "base_uri": "https://localhost:8080/"
        },
        "id": "AczwTRAJkAC3",
        "outputId": "f2383eee-09a8-48aa-c8cc-5da06269282a"
      },
      "source": [
        "print(\"이름: \", tensor_var1.name)\n",
        "print(\"크기: \", tensor_var1.shape)\n",
        "print(\"자료형: \", tensor_var1.dtype)\n",
        "print(\"배열: \", tensor_var1.numpy())"
      ],
      "execution_count": null,
      "outputs": [
        {
          "output_type": "stream",
          "text": [
            "이름:  Variable:0\n",
            "크기:  (2, 3)\n",
            "자료형:  <dtype: 'int32'>\n",
            "배열:  [[0 1 2]\n",
            " [3 4 5]]\n"
          ],
          "name": "stdout"
        }
      ]
    },
    {
      "cell_type": "code",
      "metadata": {
        "colab": {
          "base_uri": "https://localhost:8080/"
        },
        "id": "63PIcA2PkAC3",
        "outputId": "85becdda-306a-485a-855f-4550eb6e20b8"
      },
      "source": [
        "tensor_var1.assign([[1, 1, 1], \n",
        "                    [2, 2, 2]])\n",
        "print(tensor_var1)"
      ],
      "execution_count": null,
      "outputs": [
        {
          "output_type": "stream",
          "text": [
            "<tf.Variable 'Variable:0' shape=(2, 3) dtype=int32, numpy=\n",
            "array([[1, 1, 1],\n",
            "       [2, 2, 2]], dtype=int32)>\n"
          ],
          "name": "stdout"
        }
      ]
    },
    {
      "cell_type": "code",
      "metadata": {
        "colab": {
          "base_uri": "https://localhost:8080/"
        },
        "id": "GoQRBlRbkAC4",
        "outputId": "c45c40ea-2f8d-4fb2-eebc-b3fb51c0890e"
      },
      "source": [
        "tensor2 = tf.convert_to_tensor(tensor_var1)\n",
        "print(tensor2)"
      ],
      "execution_count": null,
      "outputs": [
        {
          "output_type": "stream",
          "text": [
            "tf.Tensor(\n",
            "[[1 1 1]\n",
            " [2 2 2]], shape=(2, 3), dtype=int32)\n"
          ],
          "name": "stdout"
        }
      ]
    },
    {
      "cell_type": "code",
      "metadata": {
        "colab": {
          "base_uri": "https://localhost:8080/"
        },
        "id": "xnjLZg-6kAC4",
        "outputId": "f89d8df2-f15c-4d58-b084-1ed9f327c1bf"
      },
      "source": [
        "tensor_var2 = tf.Variable(tensor2, name='New Name')\n",
        "print(tensor_var2.name)"
      ],
      "execution_count": null,
      "outputs": [
        {
          "output_type": "stream",
          "text": [
            "New Name:0\n"
          ],
          "name": "stdout"
        }
      ]
    },
    {
      "cell_type": "code",
      "metadata": {
        "colab": {
          "base_uri": "https://localhost:8080/"
        },
        "id": "1K_82ZankAC4",
        "outputId": "23d61bf1-859f-4868-e52e-2d46e2045243"
      },
      "source": [
        "tensor_var1 + tensor_var2"
      ],
      "execution_count": null,
      "outputs": [
        {
          "output_type": "execute_result",
          "data": {
            "text/plain": [
              "<tf.Tensor: shape=(2, 3), dtype=int32, numpy=\n",
              "array([[2, 2, 2],\n",
              "       [4, 4, 4]], dtype=int32)>"
            ]
          },
          "metadata": {
            "tags": []
          },
          "execution_count": 7
        }
      ]
    }
  ]
}