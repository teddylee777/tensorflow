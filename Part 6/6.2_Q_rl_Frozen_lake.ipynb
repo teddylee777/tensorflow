{
  "nbformat": 4,
  "nbformat_minor": 0,
  "metadata": {
    "colab": {
      "name": "6.2_Q-rl_Frozen_lake.ipynb",
      "provenance": [],
      "collapsed_sections": []
    },
    "kernelspec": {
      "display_name": "Python 3",
      "name": "python3"
    }
  },
  "cells": [
    {
      "cell_type": "markdown",
      "metadata": {
        "id": "gGKG-iO9tze9"
      },
      "source": [
        "[구글 코랩(Colab)에서 실행하기](https://colab.research.google.com/github/lovedlim/tensorflow/blob/main/Part%206/6.2_Q-rl_Frozen_lake.ipynb)"
      ]
    },
    {
      "cell_type": "code",
      "metadata": {
        "id": "TDD5klAKCTSH"
      },
      "source": [
        "# 필요한 패키지 임포트\n",
        "import gym\n",
        "import cv2\n",
        "import numpy as np\n",
        "from google.colab.patches import cv2_imshow\n",
        "import matplotlib.pyplot as plt\n",
        "\n",
        "\n",
        "# 상태와 Q-Table값을 입력받으면 이미지를 그려주는 함수를 정의해 보자\n",
        "def draw_state(state, q_table):\n",
        "    img = np.zeros((401, 401, 3))\n",
        "    # 배경을 그리도록 하자\n",
        "    for i in range(4):\n",
        "        cv2.line(img, ((i+1)*100, 0), ((i+1)*100, 400), (255, 255, 255), 1)\n",
        "        cv2.line(img, (0, (i+1)*100), (400, (i+1)*100), (255, 255, 255), 1)\n",
        "    # H와 G를 적어준다\n",
        "    cv2.putText(img, 'H', (1*100+10, 1*100+80), cv2.FONT_HERSHEY_COMPLEX, \n",
        "                3, (255, 0, 0))\n",
        "    cv2.putText(img, 'H', (3*100+12, 1*100+80), cv2.FONT_HERSHEY_COMPLEX, \n",
        "                3, (255, 0, 0))\n",
        "    cv2.putText(img, 'H', (3*100+12, 2*100+80), cv2.FONT_HERSHEY_COMPLEX, \n",
        "                3, (255, 0, 0))\n",
        "    cv2.putText(img, 'H', (0*100+12, 3*100+80), cv2.FONT_HERSHEY_COMPLEX, \n",
        "                3, (255, 0, 0))\n",
        "    cv2.putText(img, 'G', (3*100+12, 3*100+80), cv2.FONT_HERSHEY_COMPLEX, \n",
        "                3, (0, 255, 0))\n",
        "    # Agent 위치 표시\n",
        "    row = state//4\n",
        "    col = state%4\n",
        "    cv2.circle(img, (col*100+50, row*100+50), 15, (0, 0, 255), -1)\n",
        "    # Q Table 표시\n",
        "    for i in range(16):\n",
        "        if (i == 5 or i == 7 or i == 11 or i == 12 or i == 15):\n",
        "            continue\n",
        "        row = i//4\n",
        "        col = i%4\n",
        "        cv2.putText(img, str(round(q_table[i][0], 3)), (col*100+1, row*100+55), \n",
        "                    cv2.FONT_HERSHEY_COMPLEX, 0.3,\n",
        "                    (255, 255, 255))\n",
        "        cv2.putText(img, str(round(q_table[i][1], 3)), (col*100+40, row*100+90), \n",
        "                    cv2.FONT_HERSHEY_COMPLEX, 0.3,\n",
        "                    (255, 255, 255))\n",
        "        cv2.putText(img, str(round(q_table[i][2], 3)), (col*100+70, row*100+55), \n",
        "                    cv2.FONT_HERSHEY_COMPLEX, 0.3,\n",
        "                    (255, 255, 255))\n",
        "        cv2.putText(img, str(round(q_table[i][3], 3)), (col*100+40, row*100+10), \n",
        "                    cv2.FONT_HERSHEY_COMPLEX, 0.3,\n",
        "                    (255, 255, 255))\n",
        "    return img\n",
        "\n",
        "\n",
        "# 문자열을 적으면 이미지로 변경해 주는 함수를 정의해 주자\n",
        "def draw_txt(txt):\n",
        "    img = np.zeros((401, 401, 3))\n",
        "    cv2.putText(img, txt, (10, 200), cv2.FONT_HERSHEY_COMPLEX, 1.5, (255, 255, 255))\n",
        "    return img\n",
        "\n",
        "# 파라미터를 설정해 주자\n",
        "num_episode = 3000\n",
        "is_video_save = True\n",
        "fps = 1"
      ],
      "execution_count": null,
      "outputs": []
    },
    {
      "cell_type": "code",
      "metadata": {
        "colab": {
          "base_uri": "https://localhost:8080/",
          "height": 718
        },
        "id": "Zqgim4gyAV3-",
        "outputId": "541a9b44-46d9-47fd-932f-439ead03bfef"
      },
      "source": [
        "# 앞서 랜덤하게 움직이는 부분을 3000 에피소드 만큼만 돌리는 것으로 동일하므로\n",
        "# 이 셀의 코드는 책에서 설명하지 않는다.\n",
        "\n",
        "# 미끄럽지 않은 환경을 만들어주자\n",
        "avi_file_name = 'Q-rl-1.avi'\n",
        "\n",
        "env = gym.make('FrozenLake-v0', is_slippery=False)\n",
        "# Q-Table은 나중에 설명하겠다.\n",
        "q_table = np.zeros((16, 4))\n",
        "# 이미지를 동영상으로 기록해 보자\n",
        "if (is_video_save):\n",
        "    fcc = cv2.VideoWriter_fourcc(*'DIVX')\n",
        "    out = cv2.VideoWriter(avi_file_name, fcc, fps, (401, 401))\n",
        "# 보상을 기록할 리스트를 정의해 주자\n",
        "reward_list = []\n",
        "reward_100_average = []\n",
        "\n",
        "# 정해진 게임을 진행해보자\n",
        "for epi in range(num_episode):\n",
        "    if (is_video_save):\n",
        "        txt = 'Episode : '+str(epi)\n",
        "        for _ in range(3):\n",
        "            out.write(np.uint8(draw_txt(txt)))\n",
        "    d = False\n",
        "    total_reward = 0\n",
        "    s = env.reset()\n",
        "    # 게임이 종료될 때까지 이어서 하자\n",
        "    while not d:\n",
        "        if (is_video_save):\n",
        "            out.write(np.uint8(draw_state(s, q_table)))\n",
        "        # env.action_space.sample()은 임의의 행동하나(0~3 사이의 값)을 돌려준다.\n",
        "        n_s, r, d, _ = env.step(env.action_space.sample())\n",
        "        total_reward = total_reward+r\n",
        "        s = n_s\n",
        "\n",
        "    reward_list.append(total_reward)\n",
        "\n",
        "    if (is_video_save):\n",
        "        out.write(np.uint8(draw_state(s, q_table)))\n",
        "    if (total_reward == 1):\n",
        "        txt = 'Success'\n",
        "    else:\n",
        "        txt = 'Fail'\n",
        "\n",
        "    if (is_video_save):\n",
        "        for _ in range(3):\n",
        "            out.write(np.uint8(draw_txt(txt)))\n",
        "    # 진행상태를 보고자 한다면 아래 print함수의 주석을 풀어보자.\n",
        "    # print(epi,np.average(reward_list[-100:]))\n",
        "    reward_100_average.append(np.average(reward_list[-100:]))\n",
        "\n",
        "if (is_video_save):\n",
        "    txt = 'Success : '+str(np.sum(reward_list))\n",
        "    for _ in range(3):\n",
        "        out.write(np.uint8(draw_txt(txt)))\n",
        "    out.release()\n",
        "\n",
        "print('{}번 시도 중 {}번 성공!'.format(num_episode, np.sum(reward_list)))\n",
        "print('성공률은 {}% 입니다.'.format(round(np.sum(reward_list)/num_episode*100, 2)))\n",
        "cv2_imshow(draw_state(0, q_table))\n",
        "plt.plot(reward_100_average)"
      ],
      "execution_count": null,
      "outputs": [
        {
          "output_type": "stream",
          "text": [
            "3000번 시도 중 38.0번 성공!\n",
            "성공률은 1.27% 입니다.\n"
          ],
          "name": "stdout"
        },
        {
          "output_type": "display_data",
          "data": {
            "image/png": "[encoded data removed]",
            "text/plain": [
              "<PIL.Image.Image image mode=RGB size=401x401 at 0x7FDDEA947DD0>"
            ]
          },
          "metadata": {
            "tags": []
          }
        },
        {
          "output_type": "execute_result",
          "data": {
            "text/plain": [
              "[<matplotlib.lines.Line2D at 0x7fddea7f8350>]"
            ]
          },
          "metadata": {
            "tags": []
          },
          "execution_count": 2
        },
        {
          "output_type": "display_data",
          "data": {
            "image/png": "[encoded data removed]",
            "text/plain": [
              "<Figure size 432x288 with 1 Axes>"
            ]
          },
          "metadata": {
            "tags": [],
            "needs_background": "light"
          }
        }
      ]
    },
    {
      "cell_type": "code",
      "metadata": {
        "colab": {
          "base_uri": "https://localhost:8080/",
          "height": 718
        },
        "id": "J5TPx1n8fs8J",
        "outputId": "bc9465bc-1aea-442b-bd4d-fc54eb207e5b"
      },
      "source": [
        "avi_file_name = 'Q-rl-2.avi'\n",
        "\n",
        "env = gym.make('FrozenLake-v0', is_slippery=False)\n",
        "q_table = np.zeros((16, 4))\n",
        "\n",
        "if (is_video_save):\n",
        "    fcc = cv2.VideoWriter_fourcc(*'DIVX')\n",
        "    out = cv2.VideoWriter(avi_file_name, fcc, fps, (401, 401))\n",
        "\n",
        "reward_list = []\n",
        "reward_100_average = []\n",
        "\n",
        "for epi in range(num_episode):\n",
        "    if (is_video_save):\n",
        "        txt = 'Episode : '+str(epi)\n",
        "        for _ in range(3):\n",
        "            out.write(np.uint8(draw_txt(txt)))\n",
        "    d = False\n",
        "    total_reward = 0\n",
        "    s = env.reset()\n",
        "    while not d:\n",
        "        if (is_video_save):\n",
        "            out.write(np.uint8(draw_state(s, q_table)))\n",
        "        # 액션 4개 중 Q값이 가장 큰값을 선택한다\n",
        "        # 만약 Q값이 큰 값이 여러개면 랜덤하게 선택한다.\n",
        "        action = np.argmax(np.random.random((4,))*(q_table[s] == q_table[s].max()))\n",
        "        n_s, r, d, _ = env.step(action)\n",
        "        total_reward = total_reward+r\n",
        "\n",
        "        # Q값을 업데이트해준다\n",
        "        q_table[s][action] = r+np.max(q_table[n_s])\n",
        "        s = n_s\n",
        "\n",
        "    reward_list.append(total_reward)\n",
        "\n",
        "    if (is_video_save):\n",
        "        out.write(np.uint8(draw_state(s, q_table)))\n",
        "    if (total_reward == 1):\n",
        "        txt = 'Success'\n",
        "    else:\n",
        "        txt = 'Fail'\n",
        "    if (is_video_save):\n",
        "        for _ in range(3):\n",
        "            out.write(np.uint8(draw_txt(txt)))\n",
        "            # print(epi,np.average(reward_list[-100:]))\n",
        "    reward_100_average.append(np.average(reward_list[-100:]))\n",
        "\n",
        "if (is_video_save):\n",
        "    txt = 'Success : '+str(np.sum(reward_list))\n",
        "    for _ in range(3):\n",
        "        out.write(np.uint8(draw_txt(txt)))\n",
        "    out.release()\n",
        "\n",
        "print('{}번 시도 중 {}번 성공!'.format(num_episode, np.sum(reward_list)))\n",
        "print('성공률은 {}% 입니다.'.format(round(np.sum(reward_list)/num_episode*100, 2)))\n",
        "cv2_imshow(draw_state(0, q_table))\n",
        "plt.plot(reward_100_average)"
      ],
      "execution_count": null,
      "outputs": [
        {
          "output_type": "stream",
          "text": [
            "3000번 시도 중 2774.0번 성공!\n",
            "성공률은 92.47% 입니다.\n"
          ],
          "name": "stdout"
        },
        {
          "output_type": "display_data",
          "data": {
            "image/png": "[encoded data removed]",
            "text/plain": [
              "<PIL.Image.Image image mode=RGB size=401x401 at 0x7FDDEA947BD0>"
            ]
          },
          "metadata": {
            "tags": []
          }
        },
        {
          "output_type": "execute_result",
          "data": {
            "text/plain": [
              "[<matplotlib.lines.Line2D at 0x7fddea72f2d0>]"
            ]
          },
          "metadata": {
            "tags": []
          },
          "execution_count": 3
        },
        {
          "output_type": "display_data",
          "data": {
            "image/png": "[encoded data removed]",
            "text/plain": [
              "<Figure size 432x288 with 1 Axes>"
            ]
          },
          "metadata": {
            "tags": [],
            "needs_background": "light"
          }
        }
      ]
    },
    {
      "cell_type": "code",
      "metadata": {
        "colab": {
          "base_uri": "https://localhost:8080/",
          "height": 718
        },
        "id": "b1nLQH22c0qg",
        "outputId": "5da5a954-b596-4120-82f1-7fc7816829c4"
      },
      "source": [
        "avi_file_name = 'Q-rl-3.avi'\n",
        "\n",
        "# 초반에는 랜덤하게 움직일 확률을 높이고,\n",
        "# 학습이 진행될 수록 랜덤하게 움직이는 비율을 낮추어 보자\n",
        "epsilon_max = 0.9\n",
        "epsilon_min = 0.1\n",
        "epsilon_count = 2000\n",
        "\n",
        "epsilon = epsilon_max\n",
        "epsilon_decay = epsilon_min/epsilon_max\n",
        "epsilon_decay = epsilon_decay**(1./float(epsilon_count))\n",
        "\n",
        "env = gym.make('FrozenLake-v0', is_slippery=False)\n",
        "q_table = np.zeros((16, 4))\n",
        "\n",
        "if (is_video_save):\n",
        "    fcc = cv2.VideoWriter_fourcc(*'DIVX')\n",
        "    out = cv2.VideoWriter(avi_file_name, fcc, fps, (401, 401))\n",
        "\n",
        "reward_list = []\n",
        "reward_100_average = []\n",
        "\n",
        "for epi in range(num_episode):\n",
        "    if (is_video_save):\n",
        "        txt = 'Episode : '+str(epi)\n",
        "        for _ in range(3):\n",
        "            out.write(np.uint8(draw_txt(txt)))\n",
        "    d = False\n",
        "    total_reward = 0\n",
        "    s = env.reset()\n",
        "    while not d:\n",
        "        if (is_video_save):\n",
        "            out.write(np.uint8(draw_state(s, q_table)))\n",
        "        # 랜덤함수를 사용하여 일정비율로는 랜덤하게 움직이고,\n",
        "        # 나머지 비율로는 이전처럼 큰 Q값을 따라 다녀보자\n",
        "        if (np.random.rand()) < epsilon:\n",
        "            action = env.action_space.sample()\n",
        "        else:\n",
        "            action = np.argmax(np.random.random((4,))*(q_table[s] == q_table[s].max()))\n",
        "        n_s, r, d, _ = env.step(action)\n",
        "        total_reward = total_reward+r\n",
        "        q_table[s][action] = r+np.max(q_table[n_s])\n",
        "        s = n_s\n",
        "\n",
        "    reward_list.append(total_reward)\n",
        "\n",
        "    if (epsilon > epsilon_min):\n",
        "        epsilon = epsilon*epsilon_decay\n",
        "\n",
        "    if (is_video_save):\n",
        "        out.write(np.uint8(draw_state(s, q_table)))\n",
        "\n",
        "    if (total_reward == 1):\n",
        "        txt = 'Success'\n",
        "    else:\n",
        "        txt = 'Fail'\n",
        "    if (is_video_save):\n",
        "        for _ in range(3):\n",
        "            out.write(np.uint8(draw_txt(txt)))\n",
        "    # print(epi,np.average(reward_list[-100:]))\n",
        "    reward_100_average.append(np.average(reward_list[-100:]))\n",
        "\n",
        "if (is_video_save):\n",
        "    txt = 'Success : '+str(np.sum(reward_list))\n",
        "    for _ in range(3):\n",
        "        out.write(np.uint8(draw_txt(txt)))\n",
        "    out.release()\n",
        "\n",
        "print('{}번 시도 중 {}번 성공!'.format(num_episode, np.sum(reward_list)))\n",
        "print('성공률은 {}% 입니다.'.format(round(np.sum(reward_list)/num_episode*100, 2)))\n",
        "cv2_imshow(draw_state(0, q_table))\n",
        "plt.plot(reward_100_average)"
      ],
      "execution_count": null,
      "outputs": [
        {
          "output_type": "stream",
          "text": [
            "3000번 시도 중 639.0번 성공!\n",
            "성공률은 21.3% 입니다.\n"
          ],
          "name": "stdout"
        },
        {
          "output_type": "display_data",
          "data": {
            "image/png": "[encoded data removed]",
            "text/plain": [
              "<PIL.Image.Image image mode=RGB size=401x401 at 0x7FDDEA25D2D0>"
            ]
          },
          "metadata": {
            "tags": []
          }
        },
        {
          "output_type": "execute_result",
          "data": {
            "text/plain": [
              "[<matplotlib.lines.Line2D at 0x7fddea280990>]"
            ]
          },
          "metadata": {
            "tags": []
          },
          "execution_count": 4
        },
        {
          "output_type": "display_data",
          "data": {
            "image/png": "[encoded data removed]",
            "text/plain": [
              "<Figure size 432x288 with 1 Axes>"
            ]
          },
          "metadata": {
            "tags": [],
            "needs_background": "light"
          }
        }
      ]
    },
    {
      "cell_type": "code",
      "metadata": {
        "colab": {
          "base_uri": "https://localhost:8080/",
          "height": 719
        },
        "id": "K3ICu7l_gEbp",
        "outputId": "236a2599-1252-4615-9a6c-62168e679609"
      },
      "source": [
        "avi_file_name = 'Q-rl-4.avi'\n",
        "\n",
        "epsilon_max = 0.9\n",
        "epsilon_min = 0.1\n",
        "epsilon_count = 2000\n",
        "\n",
        "# 할인률은 0.9로 하자\n",
        "discount_rate = 0.9\n",
        "\n",
        "epsilon = epsilon_max\n",
        "epsilon_decay = epsilon_min/epsilon_max\n",
        "epsilon_decay = epsilon_decay**(1./float(epsilon_count))\n",
        "\n",
        "env = gym.make('FrozenLake-v0', is_slippery=False)\n",
        "q_table = np.zeros((16, 4))\n",
        "\n",
        "if (is_video_save):\n",
        "    fcc = cv2.VideoWriter_fourcc(*'DIVX')\n",
        "    out = cv2.VideoWriter(avi_file_name, fcc, fps, (401, 401))\n",
        "\n",
        "reward_list = []\n",
        "reward_100_average = []\n",
        "\n",
        "for epi in range(num_episode):\n",
        "    if (is_video_save):\n",
        "        txt = 'Episode : '+str(epi)\n",
        "        for _ in range(3):\n",
        "            out.write(np.uint8(draw_txt(txt)))\n",
        "    d = False\n",
        "    total_reward = 0\n",
        "    s = env.reset()\n",
        "    while not d:\n",
        "        if (is_video_save):\n",
        "            out.write(np.uint8(draw_state(s, q_table)))\n",
        "        if (np.random.rand()) < epsilon:\n",
        "            action = env.action_space.sample()\n",
        "        else:\n",
        "            action = np.argmax(np.random.random((4,))*(q_table[s] == q_table[s].max()))\n",
        "        n_s, r, d, _ = env.step(action)\n",
        "        total_reward = total_reward+r\n",
        "\n",
        "        # Q값을 업데이트 해줄때 할인율을 곱해서 해주자.\n",
        "        q_table[s][action] = r+discount_rate*np.max(q_table[n_s])\n",
        "        s = n_s\n",
        "\n",
        "    reward_list.append(total_reward)\n",
        "\n",
        "    if (epsilon > epsilon_min):\n",
        "        epsilon = epsilon*epsilon_decay\n",
        "\n",
        "    if (is_video_save):\n",
        "        out.write(np.uint8(draw_state(s, q_table)))\n",
        "\n",
        "    if (total_reward == 1):\n",
        "        txt = 'Success'\n",
        "    else:\n",
        "        txt = 'Fail'\n",
        "    if (is_video_save):\n",
        "        for _ in range(3):\n",
        "            out.write(np.uint8(draw_txt(txt)))\n",
        "    # print(epi,np.average(reward_list[-100:]))\n",
        "    reward_100_average.append(np.average(reward_list[-100:]))\n",
        "\n",
        "if (is_video_save):\n",
        "    txt = 'Success : '+str(np.sum(reward_list))\n",
        "    for _ in range(3):\n",
        "        out.write(np.uint8(draw_txt(txt)))\n",
        "    out.release()\n",
        "\n",
        "print('{}번 시도 중 {}번 성공!'.format(num_episode, np.sum(reward_list)))\n",
        "print('성공률은 {}% 입니다.'.format(round(np.sum(reward_list)/num_episode*100, 2)))\n",
        "cv2_imshow(draw_state(0, q_table))\n",
        "plt.plot(reward_100_average)"
      ],
      "execution_count": null,
      "outputs": [
        {
          "output_type": "stream",
          "text": [
            "3000번 시도 중 2072.0번 성공!\n",
            "성공률은 69.07% 입니다.\n"
          ],
          "name": "stdout"
        },
        {
          "output_type": "display_data",
          "data": {
            "image/png": "[encoded data removed]",
            "text/plain": [
              "<PIL.Image.Image image mode=RGB size=401x401 at 0x7FDDEA230410>"
            ]
          },
          "metadata": {
            "tags": []
          }
        },
        {
          "output_type": "execute_result",
          "data": {
            "text/plain": [
              "[<matplotlib.lines.Line2D at 0x7fddea1de5d0>]"
            ]
          },
          "metadata": {
            "tags": []
          },
          "execution_count": 5
        },
        {
          "output_type": "display_data",
          "data": {
            "image/png": "[encoded data removed]",
            "text/plain": [
              "<Figure size 432x288 with 1 Axes>"
            ]
          },
          "metadata": {
            "tags": [],
            "needs_background": "light"
          }
        }
      ]
    },
    {
      "cell_type": "code",
      "metadata": {
        "colab": {
          "base_uri": "https://localhost:8080/",
          "height": 718
        },
        "id": "vcVjsn7YlQN_",
        "outputId": "4c6cd879-9db2-4943-ff98-e0de148c369f"
      },
      "source": [
        "avi_file_name = 'Q-rl-5.avi'\n",
        "\n",
        "epsilon_max = 0.9\n",
        "epsilon_min = 0.1\n",
        "epsilon_count = 2000\n",
        "\n",
        "# 할인률은 0.9로 하자\n",
        "discount_rate = 0.9\n",
        "\n",
        "epsilon = epsilon_max\n",
        "epsilon_decay = epsilon_min/epsilon_max\n",
        "epsilon_decay = epsilon_decay**(1./float(epsilon_count))\n",
        "\n",
        "env = gym.make('FrozenLake-v0', is_slippery=True)\n",
        "q_table = np.zeros((16, 4))\n",
        "\n",
        "if (is_video_save):\n",
        "    fcc = cv2.VideoWriter_fourcc(*'DIVX')\n",
        "    out = cv2.VideoWriter(avi_file_name, fcc, fps, (401, 401))\n",
        "\n",
        "reward_list = []\n",
        "reward_100_average = []\n",
        "\n",
        "for epi in range(num_episode):\n",
        "    if (is_video_save):\n",
        "        txt = 'Episode : '+str(epi)\n",
        "        for _ in range(3):\n",
        "            out.write(np.uint8(draw_txt(txt)))\n",
        "    d = False\n",
        "    total_reward = 0\n",
        "    s = env.reset()\n",
        "    while not d:\n",
        "        if (is_video_save):\n",
        "            out.write(np.uint8(draw_state(s, q_table)))\n",
        "        if (np.random.rand()) < epsilon:\n",
        "            action = env.action_space.sample()\n",
        "        else:\n",
        "            action = np.argmax(np.random.random((4,))*(q_table[s] == q_table[s].max()))\n",
        "        n_s, r, d, _ = env.step(action)\n",
        "        total_reward = total_reward+r\n",
        "\n",
        "        # Q값을 업데이트 해줄때 할인율을 곱해서 해주자.\n",
        "        q_table[s][action] = r+discount_rate*np.max(q_table[n_s])\n",
        "        s = n_s\n",
        "\n",
        "    reward_list.append(total_reward)\n",
        "\n",
        "    if (epsilon > epsilon_min):\n",
        "        epsilon = epsilon*epsilon_decay\n",
        "\n",
        "    if (is_video_save):\n",
        "        out.write(np.uint8(draw_state(s, q_table)))\n",
        "\n",
        "    if (total_reward == 1):\n",
        "        txt = 'Success'\n",
        "    else:\n",
        "        txt = 'Fail'\n",
        "    if (is_video_save):\n",
        "        for _ in range(3):\n",
        "            out.write(np.uint8(draw_txt(txt)))\n",
        "    # print(epi,np.average(reward_list[-100:]))\n",
        "    reward_100_average.append(np.average(reward_list[-100:]))\n",
        "\n",
        "if (is_video_save):\n",
        "    txt = 'Success : '+str(np.sum(reward_list))\n",
        "    for _ in range(3):\n",
        "        out.write(np.uint8(draw_txt(txt)))\n",
        "    out.release()\n",
        "\n",
        "print('{}번 시도 중 {}번 성공!'.format(num_episode, np.sum(reward_list)))\n",
        "print('성공률은 {}% 입니다.'.format(round(np.sum(reward_list)/num_episode*100, 2)))\n",
        "cv2_imshow(draw_state(0, q_table))\n",
        "plt.plot(reward_100_average)"
      ],
      "execution_count": null,
      "outputs": [
        {
          "output_type": "stream",
          "text": [
            "3000번 시도 중 92.0번 성공!\n",
            "성공률은 3.07% 입니다.\n"
          ],
          "name": "stdout"
        },
        {
          "output_type": "display_data",
          "data": {
            "image/png": "[encoded data removed]",
            "text/plain": [
              "<PIL.Image.Image image mode=RGB size=401x401 at 0x7FDE056A6050>"
            ]
          },
          "metadata": {
            "tags": []
          }
        },
        {
          "output_type": "execute_result",
          "data": {
            "text/plain": [
              "[<matplotlib.lines.Line2D at 0x7fddea1d5650>]"
            ]
          },
          "metadata": {
            "tags": []
          },
          "execution_count": 6
        },
        {
          "output_type": "display_data",
          "data": {
            "image/png": "[encoded data removed]",
            "text/plain": [
              "<Figure size 432x288 with 1 Axes>"
            ]
          },
          "metadata": {
            "tags": [],
            "needs_background": "light"
          }
        }
      ]
    },
    {
      "cell_type": "code",
      "metadata": {
        "colab": {
          "base_uri": "https://localhost:8080/",
          "height": 718
        },
        "id": "_-SY5e8dnZtK",
        "outputId": "15ccd752-e3dd-48ea-9fdd-5765a7298d41"
      },
      "source": [
        "avi_file_name = 'Q-rl-6.avi'\n",
        "# 시간이 오래 걸리니 동영상은 저장하지 않는다.\n",
        "is_video_save = False\n",
        "# 환경이 어려우니 에피소드 수를 10배정도 늘리자.\n",
        "num_episode = 30000\n",
        "\n",
        "epsilon_max = 0.9\n",
        "epsilon_min = 0.1\n",
        "epsilon_count = 20000\n",
        "\n",
        "# 맨토의 말은 단 1%만 듣자\n",
        "learning_rate = 0.01\n",
        "discount_rate = 0.9\n",
        "\n",
        "epsilon = epsilon_max\n",
        "epsilon_decay = epsilon_min/epsilon_max\n",
        "epsilon_decay = epsilon_decay**(1./float(epsilon_count))\n",
        "\n",
        "env = gym.make('FrozenLake-v0', is_slippery=True)\n",
        "q_table = np.zeros((16, 4))\n",
        "\n",
        "if (is_video_save):\n",
        "    fcc = cv2.VideoWriter_fourcc(*'DIVX')\n",
        "    out = cv2.VideoWriter(avi_file_name, fcc, fps, (401, 401))\n",
        "\n",
        "reward_list = []\n",
        "reward_100_average = []\n",
        "\n",
        "for epi in range(num_episode):\n",
        "    if (is_video_save):\n",
        "        txt = 'Episode : '+str(epi)\n",
        "        for _ in range(3):\n",
        "            out.write(np.uint8(draw_txt(txt)))\n",
        "    d = False\n",
        "    total_reward = 0\n",
        "    s = env.reset()\n",
        "    while not d:\n",
        "        if (is_video_save):\n",
        "            out.write(np.uint8(draw_state(s, q_table)))\n",
        "        if (np.random.rand()) < epsilon:\n",
        "            action = env.action_space.sample()\n",
        "        else:\n",
        "            action = np.argmax(np.random.random((4,))*(q_table[s] == q_table[s].max()))\n",
        "        n_s, r, d, _ = env.step(action)\n",
        "        total_reward = total_reward+r\n",
        "        # 멘토의 의견은 1% 나머지는 내가 가지고 있는 값 99%를 유지해 가며 \n",
        "        # 조금씩 업데이트해주자\n",
        "        q_table[s][action] = (1-learning_rate)*q_table[s][action] + \\\n",
        "        learning_rate*(r+discount_rate*np.max(q_table[n_s]))\n",
        "        s = n_s\n",
        "\n",
        "    reward_list.append(total_reward)\n",
        "\n",
        "    if (epsilon > epsilon_min):\n",
        "        epsilon = epsilon*epsilon_decay\n",
        "\n",
        "    if (is_video_save):\n",
        "        out.write(np.uint8(draw_state(s, q_table)))\n",
        "\n",
        "    if (total_reward == 1):\n",
        "        txt = 'Success'\n",
        "    else:\n",
        "        txt = 'Fail'\n",
        "    if (is_video_save):\n",
        "        for _ in range(3):\n",
        "            out.write(np.uint8(draw_txt(txt)))\n",
        "    # print(epi,np.average(reward_list[-100:]))\n",
        "    reward_100_average.append(np.average(reward_list[-100:]))\n",
        "\n",
        "if (is_video_save):\n",
        "    txt = 'Success : '+str(np.sum(reward_list))\n",
        "    for _ in range(3):\n",
        "        out.write(np.uint8(draw_txt(txt)))\n",
        "    out.release()\n",
        "\n",
        "print('{}번 시도 중 {}번 성공!'.format(num_episode, np.sum(reward_list)))\n",
        "print('성공률은 {}% 입니다.'.format(round(np.sum(reward_list)/num_episode*100, 2)))\n",
        "cv2_imshow(draw_state(0, q_table))\n",
        "plt.plot(reward_100_average)"
      ],
      "execution_count": null,
      "outputs": [
        {
          "output_type": "stream",
          "text": [
            "30000번 시도 중 7070.0번 성공!\n",
            "성공률은 23.57% 입니다.\n"
          ],
          "name": "stdout"
        },
        {
          "output_type": "display_data",
          "data": {
            "image/png": "[encoded data removed]",
            "text/plain": [
              "<PIL.Image.Image image mode=RGB size=401x401 at 0x7FDDEA7F8D90>"
            ]
          },
          "metadata": {
            "tags": []
          }
        },
        {
          "output_type": "execute_result",
          "data": {
            "text/plain": [
              "[<matplotlib.lines.Line2D at 0x7fdde9f7e2d0>]"
            ]
          },
          "metadata": {
            "tags": []
          },
          "execution_count": 7
        },
        {
          "output_type": "display_data",
          "data": {
            "image/png": "[encoded data removed]",
            "text/plain": [
              "<Figure size 432x288 with 1 Axes>"
            ]
          },
          "metadata": {
            "tags": [],
            "needs_background": "light"
          }
        }
      ]
    }
  ]
}