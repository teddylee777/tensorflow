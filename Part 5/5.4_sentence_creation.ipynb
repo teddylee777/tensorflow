{
  "nbformat": 4,
  "nbformat_minor": 0,
  "metadata": {
    "colab": {
      "name": "5.4_sentence_creation.ipynb",
      "provenance": [],
      "collapsed_sections": []
    },
    "kernelspec": {
      "name": "python3",
      "display_name": "Python 3"
    },
    "accelerator": "GPU"
  },
  "cells": [
    {
      "cell_type": "markdown",
      "metadata": {
        "id": "DmOBWMAYsMwd"
      },
      "source": [
        "[구글 코랩(Colab)에서 실행하기](https://colab.research.google.com/github/lovedlim/tensorflow/blob/main/Part%205/5.4_sentence_creation.ipynb)"
      ]
    },
    {
      "cell_type": "markdown",
      "metadata": {
        "id": "WCmn3Tx5bwj7"
      },
      "source": [
        "# 4-3. 자연어생성"
      ]
    },
    {
      "cell_type": "code",
      "metadata": {
        "id": "_G5E6kUP7kI0"
      },
      "source": [
        "# 기본 라이브러리\n",
        "import pandas as pd\n",
        "import numpy as np\n",
        "import tensorflow as tf\n",
        "import matplotlib.pyplot as plt"
      ],
      "execution_count": null,
      "outputs": []
    },
    {
      "cell_type": "markdown",
      "metadata": {
        "id": "JbceG94f5LN1"
      },
      "source": [
        "## 4-3-1 데이터 불러오기"
      ]
    },
    {
      "cell_type": "code",
      "metadata": {
        "id": "lLB6GtAt8inf",
        "colab": {
          "base_uri": "https://localhost:8080/"
        },
        "outputId": "b8405ad9-1dc1-47b6-f7ff-c469be71e8ba"
      },
      "source": [
        "# 네이버 영화리뷰 데이터셋 불러오기\n",
        "file = tf.keras.utils.get_file(\n",
        "    'ratings_train.txt', \n",
        "    origin='https://raw.githubusercontent.com/e9t/nsmc/master/ratings_train.txt', \n",
        "    extract=True)\n",
        "\n",
        "df = pd.read_csv(file, sep='\\t')"
      ],
      "execution_count": null,
      "outputs": [
        {
          "output_type": "stream",
          "text": [
            "Downloading data from https://raw.githubusercontent.com/e9t/nsmc/master/ratings_train.txt\n",
            "14630912/14628807 [==============================] - 0s 0us/step\n"
          ],
          "name": "stdout"
        }
      ]
    },
    {
      "cell_type": "code",
      "metadata": {
        "colab": {
          "base_uri": "https://localhost:8080/",
          "height": 266
        },
        "id": "S_0isva4qCaq",
        "outputId": "c15e3f9f-1996-49d7-bdf3-b2966aa4eacc"
      },
      "source": [
        "# 데이터 임의샘플 확인\n",
        "df[1000:1007]"
      ],
      "execution_count": null,
      "outputs": [
        {
          "output_type": "execute_result",
          "data": {
            "text/html": [
              "<div>\n",
              "<style scoped>\n",
              "    .dataframe tbody tr th:only-of-type {\n",
              "        vertical-align: middle;\n",
              "    }\n",
              "\n",
              "    .dataframe tbody tr th {\n",
              "        vertical-align: top;\n",
              "    }\n",
              "\n",
              "    .dataframe thead th {\n",
              "        text-align: right;\n",
              "    }\n",
              "</style>\n",
              "<table border=\"1\" class=\"dataframe\">\n",
              "  <thead>\n",
              "    <tr style=\"text-align: right;\">\n",
              "      <th></th>\n",
              "      <th>id</th>\n",
              "      <th>document</th>\n",
              "      <th>label</th>\n",
              "    </tr>\n",
              "  </thead>\n",
              "  <tbody>\n",
              "    <tr>\n",
              "      <th>1000</th>\n",
              "      <td>9856453</td>\n",
              "      <td>정말 최고의 명작 성인이 되고 본 이집트의 왕자는 또 다른 감동 그자체네요</td>\n",
              "      <td>1</td>\n",
              "    </tr>\n",
              "    <tr>\n",
              "      <th>1001</th>\n",
              "      <td>6961803</td>\n",
              "      <td>이영화만 성공 했어도 스퀘어가 에닉스랑 합병 할일은 없었을텐데..</td>\n",
              "      <td>0</td>\n",
              "    </tr>\n",
              "    <tr>\n",
              "      <th>1002</th>\n",
              "      <td>8681713</td>\n",
              "      <td>울컥하는 사회현실 ㅠㅠ</td>\n",
              "      <td>1</td>\n",
              "    </tr>\n",
              "    <tr>\n",
              "      <th>1003</th>\n",
              "      <td>5348290</td>\n",
              "      <td>기대를하나도안하면 할일없을때보기좋은영화</td>\n",
              "      <td>0</td>\n",
              "    </tr>\n",
              "    <tr>\n",
              "      <th>1004</th>\n",
              "      <td>9340549</td>\n",
              "      <td>소림사 관문 통과하기 진짜 어렵다는거 보여준 영화..극장에서 개봉하는거 반갑다..</td>\n",
              "      <td>1</td>\n",
              "    </tr>\n",
              "    <tr>\n",
              "      <th>1005</th>\n",
              "      <td>7357684</td>\n",
              "      <td>시리즈안나오나 ㅠㅠㅠㅠㅠㅠㅠㅠ</td>\n",
              "      <td>1</td>\n",
              "    </tr>\n",
              "    <tr>\n",
              "      <th>1006</th>\n",
              "      <td>9303587</td>\n",
              "      <td>끝난다는 사실이 너무 슬퍼요. 가슴이 뻥 뚫려버린것같아..</td>\n",
              "      <td>1</td>\n",
              "    </tr>\n",
              "  </tbody>\n",
              "</table>\n",
              "</div>"
            ],
            "text/plain": [
              "           id                                       document  label\n",
              "1000  9856453      정말 최고의 명작 성인이 되고 본 이집트의 왕자는 또 다른 감동 그자체네요      1\n",
              "1001  6961803           이영화만 성공 했어도 스퀘어가 에닉스랑 합병 할일은 없었을텐데..      0\n",
              "1002  8681713                                   울컥하는 사회현실 ㅠㅠ      1\n",
              "1003  5348290                          기대를하나도안하면 할일없을때보기좋은영화      0\n",
              "1004  9340549  소림사 관문 통과하기 진짜 어렵다는거 보여준 영화..극장에서 개봉하는거 반갑다..      1\n",
              "1005  7357684                               시리즈안나오나 ㅠㅠㅠㅠㅠㅠㅠㅠ      1\n",
              "1006  9303587               끝난다는 사실이 너무 슬퍼요. 가슴이 뻥 뚫려버린것같아..      1"
            ]
          },
          "metadata": {
            "tags": []
          },
          "execution_count": 3
        }
      ]
    },
    {
      "cell_type": "markdown",
      "metadata": {
        "id": "buRhUkZUb0QO"
      },
      "source": [
        "## 4-3-2. 데이터 전처리"
      ]
    },
    {
      "cell_type": "code",
      "metadata": {
        "colab": {
          "base_uri": "https://localhost:8080/"
        },
        "id": "L1-XgfrP-gdY",
        "outputId": "749e4306-34cb-4981-beb4-68f62d4d718c"
      },
      "source": [
        "# 형태소 분석기 \n",
        "!pip install konlpy\n",
        "from konlpy.tag import Okt\n",
        "okt = Okt()"
      ],
      "execution_count": null,
      "outputs": [
        {
          "output_type": "stream",
          "text": [
            "Collecting konlpy\n",
            "\u001b[?25l  Downloading https://files.pythonhosted.org/packages/85/0e/f385566fec837c0b83f216b2da65db9997b35dd675e107752005b7d392b1/konlpy-0.5.2-py2.py3-none-any.whl (19.4MB)\n",
            "\u001b[K     |████████████████████████████████| 19.4MB 1.3MB/s \n",
            "\u001b[?25hRequirement already satisfied: numpy>=1.6 in /usr/local/lib/python3.7/dist-packages (from konlpy) (1.19.5)\n",
            "Requirement already satisfied: lxml>=4.1.0 in /usr/local/lib/python3.7/dist-packages (from konlpy) (4.2.6)\n",
            "Collecting JPype1>=0.7.0\n",
            "\u001b[?25l  Downloading https://files.pythonhosted.org/packages/cd/a5/9781e2ef4ca92d09912c4794642c1653aea7607f473e156cf4d423a881a1/JPype1-1.2.1-cp37-cp37m-manylinux2010_x86_64.whl (457kB)\n",
            "\u001b[K     |████████████████████████████████| 460kB 39.8MB/s \n",
            "\u001b[?25hCollecting beautifulsoup4==4.6.0\n",
            "\u001b[?25l  Downloading https://files.pythonhosted.org/packages/9e/d4/10f46e5cfac773e22707237bfcd51bbffeaf0a576b0a847ec7ab15bd7ace/beautifulsoup4-4.6.0-py3-none-any.whl (86kB)\n",
            "\u001b[K     |████████████████████████████████| 92kB 8.9MB/s \n",
            "\u001b[?25hRequirement already satisfied: tweepy>=3.7.0 in /usr/local/lib/python3.7/dist-packages (from konlpy) (3.10.0)\n",
            "Collecting colorama\n",
            "  Downloading https://files.pythonhosted.org/packages/44/98/5b86278fbbf250d239ae0ecb724f8572af1c91f4a11edf4d36a206189440/colorama-0.4.4-py2.py3-none-any.whl\n",
            "Requirement already satisfied: typing-extensions; python_version < \"3.8\" in /usr/local/lib/python3.7/dist-packages (from JPype1>=0.7.0->konlpy) (3.7.4.3)\n",
            "Requirement already satisfied: requests-oauthlib>=0.7.0 in /usr/local/lib/python3.7/dist-packages (from tweepy>=3.7.0->konlpy) (1.3.0)\n",
            "Requirement already satisfied: requests[socks]>=2.11.1 in /usr/local/lib/python3.7/dist-packages (from tweepy>=3.7.0->konlpy) (2.23.0)\n",
            "Requirement already satisfied: six>=1.10.0 in /usr/local/lib/python3.7/dist-packages (from tweepy>=3.7.0->konlpy) (1.15.0)\n",
            "Requirement already satisfied: oauthlib>=3.0.0 in /usr/local/lib/python3.7/dist-packages (from requests-oauthlib>=0.7.0->tweepy>=3.7.0->konlpy) (3.1.0)\n",
            "Requirement already satisfied: certifi>=2017.4.17 in /usr/local/lib/python3.7/dist-packages (from requests[socks]>=2.11.1->tweepy>=3.7.0->konlpy) (2020.12.5)\n",
            "Requirement already satisfied: chardet<4,>=3.0.2 in /usr/local/lib/python3.7/dist-packages (from requests[socks]>=2.11.1->tweepy>=3.7.0->konlpy) (3.0.4)\n",
            "Requirement already satisfied: idna<3,>=2.5 in /usr/local/lib/python3.7/dist-packages (from requests[socks]>=2.11.1->tweepy>=3.7.0->konlpy) (2.10)\n",
            "Requirement already satisfied: urllib3!=1.25.0,!=1.25.1,<1.26,>=1.21.1 in /usr/local/lib/python3.7/dist-packages (from requests[socks]>=2.11.1->tweepy>=3.7.0->konlpy) (1.24.3)\n",
            "Requirement already satisfied: PySocks!=1.5.7,>=1.5.6; extra == \"socks\" in /usr/local/lib/python3.7/dist-packages (from requests[socks]>=2.11.1->tweepy>=3.7.0->konlpy) (1.7.1)\n",
            "Installing collected packages: JPype1, beautifulsoup4, colorama, konlpy\n",
            "  Found existing installation: beautifulsoup4 4.6.3\n",
            "    Uninstalling beautifulsoup4-4.6.3:\n",
            "      Successfully uninstalled beautifulsoup4-4.6.3\n",
            "Successfully installed JPype1-1.2.1 beautifulsoup4-4.6.0 colorama-0.4.4 konlpy-0.5.2\n"
          ],
          "name": "stdout"
        }
      ]
    },
    {
      "cell_type": "code",
      "metadata": {
        "id": "6wTo_FiJ9Eqv"
      },
      "source": [
        "# 데이터 전처리\n",
        "def word_tokenization(text):\n",
        "  return [word for word in okt.morphs(text)]\n",
        "\n",
        "def preprocessing(df):\n",
        "  df = df.dropna()\n",
        "  df = df[1000:2000]  # 샘플 데이터 1000개, 학습시간을 줄이고자 함 \n",
        "  df['document'] = df['document'].str.replace(\"[^A-Za-z0-9가-힣ㄱ-ㅎㅏ-ㅣ ]\",\"\")\n",
        "  data =  df['document'].apply((lambda x: word_tokenization(x)))\n",
        "  return data"
      ],
      "execution_count": null,
      "outputs": []
    },
    {
      "cell_type": "code",
      "metadata": {
        "colab": {
          "base_uri": "https://localhost:8080/"
        },
        "id": "3YuIi_V48llx",
        "outputId": "482ec6d1-3a61-4652-ba66-f2ebf2eb110f"
      },
      "source": [
        "# 텍스트 데이터 1000개 전처리 후 불러오기\n",
        "review = preprocessing(df)\n",
        "len(review)"
      ],
      "execution_count": null,
      "outputs": [
        {
          "output_type": "execute_result",
          "data": {
            "text/plain": [
              "1000"
            ]
          },
          "metadata": {
            "tags": []
          },
          "execution_count": 6
        }
      ]
    },
    {
      "cell_type": "code",
      "metadata": {
        "colab": {
          "base_uri": "https://localhost:8080/"
        },
        "id": "O3WXdKnw8t7a",
        "outputId": "050dbad5-7111-464c-d0bc-93c4d569ff8e"
      },
      "source": [
        "# 형태소 분리된 데이터 확인\n",
        "print(review[:10])"
      ],
      "execution_count": null,
      "outputs": [
        {
          "output_type": "stream",
          "text": [
            "1000    [정말, 최고, 의, 명작, 성인, 이, 되고, 본, 이집트, 의, 왕자, 는, 또...\n",
            "1001    [이영화, 만, 성공, 했어도, 스퀘어, 가, 에, 닉스, 랑, 합병, 할, 일, ...\n",
            "1002                                 [울컥, 하는, 사회, 현실, ㅠㅠ]\n",
            "1003       [기대, 를, 하나, 도안, 하, 면, 할, 일, 없을, 때, 보기, 좋은, 영화]\n",
            "1004    [소림사, 관문, 통과, 하기, 진짜, 어렵다는거, 보여준, 영화, 극장, 에서, ...\n",
            "1005                              [시리즈, 안, 나오나, ㅠㅠㅠㅠㅠㅠㅠㅠ]\n",
            "1006        [끝난다는, 사실, 이, 너무, 슬퍼요, 가슴, 이, 뻥, 뚫려, 버린것, 같아]\n",
            "1007                                             [펑점, 조절]\n",
            "1008                            [와이, 건, 진짜, 으리, 으리, 한, 데]\n",
            "1009                                [손발, 이, 오, 그라드, 네, 요]\n",
            "Name: document, dtype: object\n"
          ],
          "name": "stdout"
        }
      ]
    },
    {
      "cell_type": "code",
      "metadata": {
        "colab": {
          "base_uri": "https://localhost:8080/"
        },
        "id": "Q1PHk81a83XC",
        "outputId": "6ed2c780-c8fd-4cc3-e583-d166a0360739"
      },
      "source": [
        "# 토큰화 및 패딩\n",
        "from tensorflow.keras.preprocessing.text import Tokenizer\n",
        "from tensorflow.keras.preprocessing.sequence import pad_sequences\n",
        "tokenizer = Tokenizer()\n",
        "\n",
        "def get_tokens(review):\n",
        "  tokenizer.fit_on_texts(review)\n",
        "  total_words = len(tokenizer.word_index)+1\n",
        "  tokenized_sentences = tokenizer.texts_to_sequences(review)\n",
        "\n",
        "  input_sequences = []\n",
        "  for token in tokenized_sentences:\n",
        "    for t in range(1, len(token)):\n",
        "        n_gram_sequence = token[:t+1]\n",
        "        input_sequences.append(n_gram_sequence)\n",
        "\n",
        "  return input_sequences, total_words\n",
        "\n",
        "input_sequences, total_words = get_tokens(review)\n",
        "input_sequences[31:40] # n_gram으로 리스트된 데이터샘플 확인"
      ],
      "execution_count": null,
      "outputs": [
        {
          "output_type": "execute_result",
          "data": {
            "text/plain": [
              "[[792, 25],\n",
              " [792, 25, 539],\n",
              " [792, 25, 539, 140],\n",
              " [792, 25, 539, 140, 109],\n",
              " [338, 9],\n",
              " [338, 9, 110],\n",
              " [338, 9, 110, 540],\n",
              " [338, 9, 110, 540, 90],\n",
              " [338, 9, 110, 540, 90, 148]]"
            ]
          },
          "metadata": {
            "tags": []
          },
          "execution_count": 8
        }
      ]
    },
    {
      "cell_type": "code",
      "metadata": {
        "colab": {
          "base_uri": "https://localhost:8080/"
        },
        "id": "kE1bBt-eWW2N",
        "outputId": "0848bff6-7be0-43e4-b930-71694e810478"
      },
      "source": [
        "# 단어 사전\n",
        "print(\"감동 ==>> \",tokenizer.word_index['감동'])\n",
        "print(\"영화 ==>> \",tokenizer.word_index['영화'])\n",
        "print(\"코믹 ==>> \",tokenizer.word_index['코믹'])"
      ],
      "execution_count": null,
      "outputs": [
        {
          "output_type": "stream",
          "text": [
            "감동 ==>>  46\n",
            "영화 ==>>  2\n",
            "코믹 ==>>  415\n"
          ],
          "name": "stdout"
        }
      ]
    },
    {
      "cell_type": "code",
      "metadata": {
        "id": "89ufV5p2_G26",
        "colab": {
          "base_uri": "https://localhost:8080/"
        },
        "outputId": "5fc9be73-aa37-4644-feaa-bb1ab529472b"
      },
      "source": [
        "# 문장의 길이 동일하게 맞추기\n",
        "max_len = max([len(word) for word in input_sequences])\n",
        "print(\"max_len:\", max_len)\n",
        "input_sequences = np.array(pad_sequences(input_sequences, \n",
        "                                         maxlen=max_len, \n",
        "                                         padding='pre'))"
      ],
      "execution_count": null,
      "outputs": [
        {
          "output_type": "stream",
          "text": [
            "max_len: 59\n"
          ],
          "name": "stdout"
        }
      ]
    },
    {
      "cell_type": "code",
      "metadata": {
        "id": "5FkBTqCE_iGV"
      },
      "source": [
        "# 입력텍스트와 타겟\n",
        "from tensorflow.keras.utils import to_categorical\n",
        "X = input_sequences[:,:-1]  # 마지막 값은 제외함\n",
        "y = to_categorical(input_sequences[:,-1], \n",
        "                   num_classes=total_words) # 마지막 값만 이진 클래스 벡터로 변환"
      ],
      "execution_count": null,
      "outputs": []
    },
    {
      "cell_type": "code",
      "metadata": {
        "colab": {
          "base_uri": "https://localhost:8080/"
        },
        "id": "LrexJpd0VqDO",
        "outputId": "ee3f1ca3-badc-4200-92be-60cf29e60012"
      },
      "source": [
        "# y를 설명하기 위한 예시\n",
        "a = to_categorical([0, 1, 2, 3], num_classes=4)\n",
        "a"
      ],
      "execution_count": null,
      "outputs": [
        {
          "output_type": "execute_result",
          "data": {
            "text/plain": [
              "array([[1., 0., 0., 0.],\n",
              "       [0., 1., 0., 0.],\n",
              "       [0., 0., 1., 0.],\n",
              "       [0., 0., 0., 1.]], dtype=float32)"
            ]
          },
          "metadata": {
            "tags": []
          },
          "execution_count": 12
        }
      ]
    },
    {
      "cell_type": "markdown",
      "metadata": {
        "id": "3Or-BkJgvyta"
      },
      "source": [
        "## 4-3-3. 모델"
      ]
    },
    {
      "cell_type": "code",
      "metadata": {
        "colab": {
          "base_uri": "https://localhost:8080/"
        },
        "id": "HFEDNMVt_jt1",
        "outputId": "cf122500-0ec1-46fc-981c-ad60c28736dc"
      },
      "source": [
        "from tensorflow.keras.models import Sequential\n",
        "from tensorflow.keras.layers import Embedding, LSTM, Dense, Bidirectional, Dropout\n",
        "\n",
        "embedding_dim = 256\n",
        "\n",
        "model = Sequential([\n",
        "    Embedding(input_dim=total_words, \n",
        "              output_dim=embedding_dim, \n",
        "              input_length=max_len-1), \n",
        "    Bidirectional(LSTM(units=256)),\n",
        "    Dense(units=total_words, activation='softmax'),\n",
        "])\n",
        "model.compile(loss='categorical_crossentropy', \n",
        "              optimizer='adam', \n",
        "              metrics=['accuracy'])\n",
        "history = model.fit(X, y, epochs=20, verbose=1)"
      ],
      "execution_count": null,
      "outputs": [
        {
          "output_type": "stream",
          "text": [
            "Epoch 1/20\n",
            "375/375 [==============================] - 57s 61ms/step - loss: 7.8356 - accuracy: 0.0274\n",
            "Epoch 2/20\n",
            "375/375 [==============================] - 22s 60ms/step - loss: 7.1486 - accuracy: 0.0297\n",
            "Epoch 3/20\n",
            "375/375 [==============================] - 23s 60ms/step - loss: 6.7698 - accuracy: 0.0384\n",
            "Epoch 4/20\n",
            "375/375 [==============================] - 22s 60ms/step - loss: 6.1261 - accuracy: 0.0621\n",
            "Epoch 5/20\n",
            "375/375 [==============================] - 23s 60ms/step - loss: 5.2681 - accuracy: 0.1059\n",
            "Epoch 6/20\n",
            "375/375 [==============================] - 22s 59ms/step - loss: 4.2804 - accuracy: 0.2102\n",
            "Epoch 7/20\n",
            "375/375 [==============================] - 22s 59ms/step - loss: 3.2612 - accuracy: 0.3933\n",
            "Epoch 8/20\n",
            "375/375 [==============================] - 22s 59ms/step - loss: 2.4284 - accuracy: 0.5584\n",
            "Epoch 9/20\n",
            "375/375 [==============================] - 22s 59ms/step - loss: 1.7778 - accuracy: 0.6937\n",
            "Epoch 10/20\n",
            "375/375 [==============================] - 22s 59ms/step - loss: 1.2778 - accuracy: 0.7891\n",
            "Epoch 11/20\n",
            "375/375 [==============================] - 22s 59ms/step - loss: 0.9199 - accuracy: 0.8611\n",
            "Epoch 12/20\n",
            "375/375 [==============================] - 22s 58ms/step - loss: 0.6751 - accuracy: 0.9064\n",
            "Epoch 13/20\n",
            "375/375 [==============================] - 22s 58ms/step - loss: 0.4834 - accuracy: 0.9345\n",
            "Epoch 14/20\n",
            "375/375 [==============================] - 22s 58ms/step - loss: 0.3630 - accuracy: 0.9484\n",
            "Epoch 15/20\n",
            "375/375 [==============================] - 22s 58ms/step - loss: 0.2802 - accuracy: 0.9567\n",
            "Epoch 16/20\n",
            "375/375 [==============================] - 22s 57ms/step - loss: 0.2347 - accuracy: 0.9594\n",
            "Epoch 17/20\n",
            "375/375 [==============================] - 21s 57ms/step - loss: 0.1933 - accuracy: 0.9611\n",
            "Epoch 18/20\n",
            "375/375 [==============================] - 21s 57ms/step - loss: 0.1794 - accuracy: 0.9610\n",
            "Epoch 19/20\n",
            "375/375 [==============================] - 21s 57ms/step - loss: 0.1668 - accuracy: 0.9603\n",
            "Epoch 20/20\n",
            "375/375 [==============================] - 22s 58ms/step - loss: 0.1391 - accuracy: 0.9646\n"
          ],
          "name": "stdout"
        }
      ]
    },
    {
      "cell_type": "markdown",
      "metadata": {
        "id": "U9Tt33gv58V-"
      },
      "source": [
        "## 4-3-4. 문장 생성 (추론)"
      ]
    },
    {
      "cell_type": "code",
      "metadata": {
        "id": "Qua4qn2NBLi_"
      },
      "source": [
        "# 문장생성함수 (시작 텍스트, 생성 단어 개수)\n",
        "def text_generation(sos, count):\n",
        "    for _ in range(1, count):\n",
        "        token_list = tokenizer.texts_to_sequences([sos])[0]\n",
        "        token_list = pad_sequences([token_list], \n",
        "                                   maxlen=max_len-1, \n",
        "                                   padding='pre')\n",
        "        predicted = np.argmax(model.predict(token_list), axis=1) # 최대값 인덱스\n",
        "\n",
        "        for word, idx in tokenizer.word_index.items():\n",
        "            if idx == predicted:\n",
        "                output = word\n",
        "                break\n",
        "        sos += \" \" + output\n",
        "    return sos"
      ],
      "execution_count": null,
      "outputs": []
    },
    {
      "cell_type": "code",
      "metadata": {
        "colab": {
          "base_uri": "https://localhost:8080/"
        },
        "id": "2cdmhhcBdrJ9",
        "outputId": "be3b7711-3288-4ba0-c14c-bbcde8c4b0d1"
      },
      "source": [
        "# argmax 설명: 최대값의 인덱스 반환\n",
        "data = [[0.1, 0.2, 0.7], [0.3, 0.5, 0.2], [0.4, 0.3, 0.3]]\n",
        "np.argmax([data], axis=-1)"
      ],
      "execution_count": null,
      "outputs": [
        {
          "output_type": "execute_result",
          "data": {
            "text/plain": [
              "array([[2, 1, 0]])"
            ]
          },
          "metadata": {
            "tags": []
          },
          "execution_count": 16
        }
      ]
    },
    {
      "cell_type": "code",
      "metadata": {
        "colab": {
          "base_uri": "https://localhost:8080/",
          "height": 35
        },
        "id": "M8SBI_-EB4V9",
        "outputId": "f3a85f98-eb4c-4007-8e2c-4e86ea40b728"
      },
      "source": [
        "text_generation(\"연애 하면서\", 12)"
      ],
      "execution_count": null,
      "outputs": [
        {
          "output_type": "execute_result",
          "data": {
            "application/vnd.google.colaboratory.intrinsic+json": {
              "type": "string"
            },
            "text/plain": [
              "'연애 하면서 하지 않은 영화 인데 도 귀 자르는 장면 은 기억 에'"
            ]
          },
          "metadata": {
            "tags": []
          },
          "execution_count": 17
        }
      ]
    },
    {
      "cell_type": "code",
      "metadata": {
        "colab": {
          "base_uri": "https://localhost:8080/",
          "height": 35
        },
        "id": "ouUCr0AZBSCV",
        "outputId": "a6d1a550-cf91-41dd-e18f-fd3224ff8f2f"
      },
      "source": [
        "text_generation(\"꿀잼\", 12)"
      ],
      "execution_count": null,
      "outputs": [
        {
          "output_type": "execute_result",
          "data": {
            "application/vnd.google.colaboratory.intrinsic+json": {
              "type": "string"
            },
            "text/plain": [
              "'꿀잼 영화 추억 이다 ㅜㅜ 왜 이 있음 이런 영화 를 보는'"
            ]
          },
          "metadata": {
            "tags": []
          },
          "execution_count": 18
        }
      ]
    },
    {
      "cell_type": "code",
      "metadata": {
        "colab": {
          "base_uri": "https://localhost:8080/",
          "height": 35
        },
        "id": "PmyZAg7NBSfX",
        "outputId": "031dd147-8545-4a54-88d3-bd004afce247"
      },
      "source": [
        "text_generation(\"최고의 영화\", 12)"
      ],
      "execution_count": null,
      "outputs": [
        {
          "output_type": "execute_result",
          "data": {
            "application/vnd.google.colaboratory.intrinsic+json": {
              "type": "string"
            },
            "text/plain": [
              "'최고의 영화 정말 잘 만들었습니다 이런 영화 자주 나왔으면 좋겠습니다 좋겠습니다 만 제일'"
            ]
          },
          "metadata": {
            "tags": []
          },
          "execution_count": 19
        }
      ]
    },
    {
      "cell_type": "code",
      "metadata": {
        "colab": {
          "base_uri": "https://localhost:8080/",
          "height": 35
        },
        "id": "qFAE4o1LDIZo",
        "outputId": "d2e4fdf6-c6bb-450c-817f-f6d3436deacf"
      },
      "source": [
        "text_generation(\"손발 이\", 12)"
      ],
      "execution_count": null,
      "outputs": [
        {
          "output_type": "execute_result",
          "data": {
            "application/vnd.google.colaboratory.intrinsic+json": {
              "type": "string"
            },
            "text/plain": [
              "'손발 이 오 그라드 네 요 요 추천 요 로맨스 네 요 본방'"
            ]
          },
          "metadata": {
            "tags": []
          },
          "execution_count": 20
        }
      ]
    }
  ]
}