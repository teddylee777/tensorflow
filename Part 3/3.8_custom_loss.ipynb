{
  "nbformat": 4,
  "nbformat_minor": 0,
  "metadata": {
    "colab": {
      "name": "3.8_custom_loss.ipynb",
      "provenance": [],
      "collapsed_sections": []
    },
    "kernelspec": {
      "name": "python3",
      "display_name": "Python 3"
    },
    "language_info": {
      "name": "python"
    },
    "accelerator": "GPU"
  },
  "cells": [
    {
      "cell_type": "markdown",
      "metadata": {
        "id": "mOzqLXfYiPlL"
      },
      "source": [
        "[구글 코랩(Colab)에서 실행하기](https://colab.research.google.com/github/lovedlim/tensorflow/blob/main/Part%203/3.8_custom_loss.ipynb)"
      ]
    },
    {
      "cell_type": "markdown",
      "metadata": {
        "id": "phmyAb4ptXSF"
      },
      "source": [
        "![Huber Loss](https://qph.fs.quoracdn.net/main-qimg-b8c611a9fbd3d8667d27ff902556460b)"
      ]
    },
    {
      "cell_type": "code",
      "metadata": {
        "colab": {
          "base_uri": "https://localhost:8080/"
        },
        "id": "_S4VsugjtbAN",
        "outputId": "46f7a2d5-2ab8-4e34-985f-bc774203b104"
      },
      "source": [
        "import tensorflow as tf\n",
        "import numpy as np\n",
        "\n",
        "# 샘플 데이터 생성\n",
        "X = np.array([0.0, 1.0, 2.0, 3.0, 4.0, 5.0], dtype=float)\n",
        "Y = np.array([2.0, 4.0, 6.0, 8.0, 10.0, 12.0], dtype=float)\n",
        "\n",
        "model = tf.keras.Sequential([\n",
        "    tf.keras.layers.Dense(units=1, input_shape=[1])\n",
        "])\n",
        "\n",
        "# 사용자 정의 손실함수(Huber Loss 구현)\n",
        "def custom_huber_loss(y_true, y_pred):\n",
        "    # 임계값 정의\n",
        "    threshold = 1\n",
        "    # 손실 계산\n",
        "    error = y_true - y_pred\n",
        "    \n",
        "    small = tf.abs(error) <= threshold\n",
        "    \n",
        "    # l2 loss 적용\n",
        "    small_error = tf.square(error) / 2\n",
        "    \n",
        "    # l1 loss 적용\n",
        "    big_error = threshold * (tf.abs(error) - (threshold / 2))\n",
        "    \n",
        "    # return\n",
        "    return tf.where(small, small_error, big_error)\n",
        "\n",
        "# 사용자 정의 custom_huber_loss 함수를 적용\n",
        "model.compile(optimizer='sgd', loss=custom_huber_loss)\n",
        "model.fit(X, Y, epochs=1000,verbose=0)\n",
        "\n",
        "# 결과 확인\n",
        "print(model.predict([6.0]))"
      ],
      "execution_count": null,
      "outputs": [
        {
          "output_type": "stream",
          "text": [
            "[[14.049174]]\n"
          ],
          "name": "stdout"
        }
      ]
    }
  ]
}