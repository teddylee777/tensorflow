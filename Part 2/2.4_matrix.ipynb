{
  "nbformat": 4,
  "nbformat_minor": 0,
  "metadata": {
    "colab": {
      "name": "2.4_matrix.ipynb",
      "provenance": [],
      "collapsed_sections": []
    },
    "kernelspec": {
      "name": "python3",
      "display_name": "Python 3"
    },
    "language_info": {
      "name": "python"
    }
  },
  "cells": [
    {
      "cell_type": "markdown",
      "metadata": {
        "id": "MSt0oa0is1RH"
      },
      "source": [
        "[구글 코랩(Colab)에서 실행하기](https://colab.research.google.com/github/lovedlim/tensorflow/blob/main/Part%202/2.4_matrix.ipynb)"
      ]
    },
    {
      "cell_type": "code",
      "metadata": {
        "colab": {
          "base_uri": "https://localhost:8080/"
        },
        "id": "CCKv3tPbjl8v",
        "outputId": "a09feca4-57cd-42e5-b1f2-9b90442eae4b"
      },
      "source": [
        "# 라이브러리 불러오기\n",
        "import tensorflow as tf\n",
        "\n",
        "# 2차원 배열 정의\n",
        "list_of_list = [[10, 20], [30, 40]] \n",
        "\n",
        "# 텐서 변환 - constant 함수에 2차원 배열 입력\n",
        "mat1 = tf.constant(list_of_list)\n",
        "\n",
        "# 랭크 확인\n",
        "print(\"rank:\", tf.rank(mat1))\n",
        "\n",
        "# 텐서 출력\n",
        "print(\"mat1:\", mat1)"
      ],
      "execution_count": null,
      "outputs": [
        {
          "output_type": "stream",
          "text": [
            "rank: tf.Tensor(2, shape=(), dtype=int32)\n",
            "mat1: tf.Tensor(\n",
            "[[10 20]\n",
            " [30 40]], shape=(2, 2), dtype=int32)\n"
          ],
          "name": "stdout"
        }
      ]
    },
    {
      "cell_type": "code",
      "metadata": {
        "id": "5jBwnOjrq9wP",
        "colab": {
          "base_uri": "https://localhost:8080/"
        },
        "outputId": "ab1bb525-d83a-4a16-e114-82a22e718dd8"
      },
      "source": [
        "# 1차원 벡터 정의\n",
        "vec1 = tf.constant([1, 0])\n",
        "vec2 = tf.constant([-1, 2])\n",
        "                   \n",
        "# 텐서 변환 - stack 함수로 1차원 배열을 위아래로 쌓기\n",
        "mat2 = tf.stack([vec1, vec2])\n",
        "\n",
        "# 랭크 확인\n",
        "print(\"rank:\", tf.rank(mat2))\n",
        "\n",
        "# 텐서 출력하기\n",
        "print(\"mat2:\", mat2)"
      ],
      "execution_count": null,
      "outputs": [
        {
          "output_type": "stream",
          "text": [
            "rank: tf.Tensor(2, shape=(), dtype=int32)\n",
            "mat2: tf.Tensor(\n",
            "[[ 1  0]\n",
            " [-1  2]], shape=(2, 2), dtype=int32)\n"
          ],
          "name": "stdout"
        }
      ]
    },
    {
      "cell_type": "code",
      "metadata": {
        "id": "M1AYD2Q3j0BW",
        "colab": {
          "base_uri": "https://localhost:8080/"
        },
        "outputId": "33d7736f-8f25-415c-db27-df133b90511b"
      },
      "source": [
        "# element-by-element 연산\n",
        "element_mul = tf.math.multiply(mat1, mat2)\n",
        "print(\"result:\", element_mul)\n",
        "print(\"rank:\", tf.rank(element_mul))"
      ],
      "execution_count": null,
      "outputs": [
        {
          "output_type": "stream",
          "text": [
            "result: tf.Tensor(\n",
            "[[ 10   0]\n",
            " [-30  80]], shape=(2, 2), dtype=int32)\n",
            "rank: tf.Tensor(2, shape=(), dtype=int32)\n"
          ],
          "name": "stdout"
        }
      ]
    },
    {
      "cell_type": "code",
      "metadata": {
        "colab": {
          "base_uri": "https://localhost:8080/"
        },
        "id": "xvFR_swhjxW-",
        "outputId": "584ad30c-beba-4ed9-e342-c429a89c4afe"
      },
      "source": [
        "# 브로드캐스팅 연산\n",
        "element_bc = tf.math.multiply(mat1, 3)\n",
        "print(\"result:\", element_bc)\n",
        "print(\"rank:\", tf.rank(element_bc))"
      ],
      "execution_count": null,
      "outputs": [
        {
          "output_type": "stream",
          "text": [
            "result: tf.Tensor(\n",
            "[[ 30  60]\n",
            " [ 90 120]], shape=(2, 2), dtype=int32)\n",
            "rank: tf.Tensor(2, shape=(), dtype=int32)\n"
          ],
          "name": "stdout"
        }
      ]
    },
    {
      "cell_type": "code",
      "metadata": {
        "id": "-3bPsp1cq9wR",
        "colab": {
          "base_uri": "https://localhost:8080/"
        },
        "outputId": "1c7c2617-a29e-4a40-eb71-42b548acdcfb"
      },
      "source": [
        "# 행렬곱 연산\n",
        "mat_mul = tf.matmul(mat1, mat2)\n",
        "print(\"result:\", mat_mul)\n",
        "print(\"rank:\", tf.rank(mat_mul))"
      ],
      "execution_count": null,
      "outputs": [
        {
          "output_type": "stream",
          "text": [
            "result: tf.Tensor(\n",
            "[[-10  40]\n",
            " [-10  80]], shape=(2, 2), dtype=int32)\n",
            "rank: tf.Tensor(2, shape=(), dtype=int32)\n"
          ],
          "name": "stdout"
        }
      ]
    },
    {
      "cell_type": "code",
      "metadata": {
        "colab": {
          "base_uri": "https://localhost:8080/"
        },
        "id": "OtPXwCThfkBA",
        "outputId": "c1dc2511-6ba6-4871-a379-f01f0ac6f9c9"
      },
      "source": [
        "# 덧셈 연산\n",
        "add1 = tf.math.add(mat1, mat2)\n",
        "print(\"result:\", add1)\n",
        "print(\"rank:\", tf.rank(add1))"
      ],
      "execution_count": null,
      "outputs": [
        {
          "output_type": "stream",
          "text": [
            "result: tf.Tensor(\n",
            "[[11 20]\n",
            " [29 42]], shape=(2, 2), dtype=int32)\n",
            "rank: tf.Tensor(2, shape=(), dtype=int32)\n"
          ],
          "name": "stdout"
        }
      ]
    },
    {
      "cell_type": "code",
      "metadata": {
        "colab": {
          "base_uri": "https://localhost:8080/"
        },
        "id": "Ng-jv-2Zf-1o",
        "outputId": "2530ebcf-fcfa-4b95-8b26-54ef778436f4"
      },
      "source": [
        "# 덧셈 연산자\n",
        "add2 = mat1 + mat2\n",
        "print(\"result:\", add2)\n",
        "print(\"rank:\", tf.rank(add2))"
      ],
      "execution_count": null,
      "outputs": [
        {
          "output_type": "stream",
          "text": [
            "result: tf.Tensor(\n",
            "[[11 20]\n",
            " [29 42]], shape=(2, 2), dtype=int32)\n",
            "rank: tf.Tensor(2, shape=(), dtype=int32)\n"
          ],
          "name": "stdout"
        }
      ]
    },
    {
      "cell_type": "code",
      "metadata": {
        "id": "eaHjTqEGq9wS",
        "colab": {
          "base_uri": "https://localhost:8080/"
        },
        "outputId": "fa5db22f-817d-4781-f607-4d648eb49eec"
      },
      "source": [
        "# 텐서를 넘파이로 변환\n",
        "np_arr = mat_mul.numpy()\n",
        "print(type(np_arr))\n",
        "print(np_arr)"
      ],
      "execution_count": null,
      "outputs": [
        {
          "output_type": "stream",
          "text": [
            "<class 'numpy.ndarray'>\n",
            "[[-10  40]\n",
            " [-10  80]]\n"
          ],
          "name": "stdout"
        }
      ]
    }
  ]
}