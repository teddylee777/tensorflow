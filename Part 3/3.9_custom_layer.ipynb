{
  "nbformat": 4,
  "nbformat_minor": 0,
  "metadata": {
    "colab": {
      "name": "3.9_custom_layer.ipynb",
      "provenance": [],
      "collapsed_sections": []
    },
    "kernelspec": {
      "name": "python3",
      "display_name": "Python 3"
    },
    "language_info": {
      "name": "python"
    },
    "accelerator": "GPU"
  },
  "cells": [
    {
      "cell_type": "markdown",
      "metadata": {
        "id": "8-NeDhoeibfh"
      },
      "source": [
        "[구글 코랩(Colab)에서 실행하기](https://colab.research.google.com/github/lovedlim/tensorflow/blob/main/Part%203/3.9_custom_layer.ipynb)"
      ]
    },
    {
      "cell_type": "code",
      "metadata": {
        "id": "8KE1m7r2vMew"
      },
      "source": [
        "import numpy as np\n",
        "import tensorflow as tf\n",
        "from tensorflow.keras.layers import Layer\n",
        "\n",
        "class MyDense(Layer):\n",
        "    def __init__(self, units=32, input_shape=None):\n",
        "        super(MyDense, self).__init__(input_shape=input_shape)\n",
        "        self.units = units\n",
        "\n",
        "    def build(self, input_shape):\n",
        "        # weight를 초기화 합니다.\n",
        "        w_init = tf.random_normal_initializer()\n",
        "        self.w = tf.Variable(name=\"weight\", \n",
        "                             initial_value=w_init(shape=(input_shape[-1], self.units), dtype='float32'),\n",
        "                             trainable=True)\n",
        "\n",
        "        # bias를 초기화 합니다.\n",
        "        b_init = tf.zeros_initializer()\n",
        "        self.b = tf.Variable(name=\"bias\", \n",
        "                             initial_value=b_init(shape=(self.units,), dtype='float32'),\n",
        "                             trainable=True)\n",
        "\n",
        "    def call(self, inputs):\n",
        "        # wx + b\n",
        "        return tf.matmul(inputs, self.w) + self.b"
      ],
      "execution_count": null,
      "outputs": []
    },
    {
      "cell_type": "code",
      "metadata": {
        "id": "UrqWBuzDvPdz",
        "colab": {
          "base_uri": "https://localhost:8080/"
        },
        "outputId": "5f608746-38ea-4ddf-f238-f3f64c07ca72"
      },
      "source": [
        "# 샘플 데이터 생성\n",
        "X = np.array([0.0, 1.0, 2.0, 3.0, 4.0, 5.0], dtype=float)\n",
        "Y = np.array([2.0, 4.0, 6.0, 8.0, 10.0, 12.0], dtype=float)\n",
        "\n",
        "# 사용자 정의 MyDense 레이어를 적용한 경우\n",
        "model = tf.keras.Sequential([\n",
        "    MyDense(units=1, input_shape=[1])\n",
        "])\n",
        "# 컴파일\n",
        "model.compile(optimizer='sgd', loss='mse')\n",
        "# 훈련\n",
        "model.fit(X, Y, epochs=1000,verbose=0)\n",
        "\n",
        "# 결과 확인\n",
        "print(model.predict([6.0]))"
      ],
      "execution_count": null,
      "outputs": [
        {
          "output_type": "stream",
          "text": [
            "[[14.002428]]\n"
          ],
          "name": "stdout"
        }
      ]
    }
  ]
}