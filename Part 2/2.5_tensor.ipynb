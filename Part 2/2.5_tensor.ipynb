{
  "nbformat": 4,
  "nbformat_minor": 0,
  "metadata": {
    "colab": {
      "name": "2.5_tensor.ipynb",
      "provenance": [],
      "collapsed_sections": []
    },
    "kernelspec": {
      "name": "python3",
      "display_name": "Python 3"
    },
    "language_info": {
      "name": "python"
    }
  },
  "cells": [
    {
      "cell_type": "markdown",
      "metadata": {
        "id": "frJmcAj1tAOn"
      },
      "source": [
        "[구글 코랩(Colab)에서 실행하기](https://colab.research.google.com/github/lovedlim/tensorflow/blob/main/Part%202/2.5_tensor.ipynb)"
      ]
    },
    {
      "cell_type": "code",
      "metadata": {
        "id": "K0rtJdL4q-pS",
        "colab": {
          "base_uri": "https://localhost:8080/"
        },
        "outputId": "5d5751df-487c-42d7-d2a6-e27f0a1b97b8"
      },
      "source": [
        "# 라이브러리 불러오기\n",
        "import tensorflow as tf\n",
        "import numpy as np\n",
        "\n",
        "# 2차원 배열 정의\n",
        "mat1 = [[1, 2, 3, 4], \n",
        "        [5, 6, 7, 8]]\n",
        " \n",
        "mat2 = [[9, 10, 11, 12],\n",
        "        [13, 14, 15, 16]]   \n",
        "\n",
        "mat3 = [[17, 18, 19, 20],\n",
        "        [21, 22, 23, 24]]    \n",
        "\n",
        "# 텐서 변환 - constant 함수에 3차원 배열 입력\n",
        "tensor1 = tf.constant([mat1, mat2, mat3])\n",
        "\n",
        "# 랭크 확인\n",
        "print(\"rank:\", tf.rank(tensor1))\n",
        "\n",
        "# 텐서 출력\n",
        "print(\"tensor1:\", tensor1)"
      ],
      "execution_count": null,
      "outputs": [
        {
          "output_type": "stream",
          "text": [
            "rank: tf.Tensor(3, shape=(), dtype=int32)\n",
            "tensor1: tf.Tensor(\n",
            "[[[ 1  2  3  4]\n",
            "  [ 5  6  7  8]]\n",
            "\n",
            " [[ 9 10 11 12]\n",
            "  [13 14 15 16]]\n",
            "\n",
            " [[17 18 19 20]\n",
            "  [21 22 23 24]]], shape=(3, 2, 4), dtype=int32)\n"
          ],
          "name": "stdout"
        }
      ]
    },
    {
      "cell_type": "code",
      "metadata": {
        "colab": {
          "base_uri": "https://localhost:8080/"
        },
        "id": "CCKv3tPbjl8v",
        "outputId": "fa4d7bf1-dc40-4e48-f9e9-1de2d9f13346"
      },
      "source": [
        "# 텐서 변환 - stack 함수로 2차원 배열을 위아래로 쌓기\n",
        "tensor2 = tf.stack([mat1, mat2, mat3])\n",
        "\n",
        "# 랭크 확인\n",
        "print(\"rank:\", tf.rank(tensor2))\n",
        "\n",
        "# 텐서 출력\n",
        "print(\"tensor2:\", tensor2)"
      ],
      "execution_count": null,
      "outputs": [
        {
          "output_type": "stream",
          "text": [
            "rank: tf.Tensor(3, shape=(), dtype=int32)\n",
            "tensor2: tf.Tensor(\n",
            "[[[ 1  2  3  4]\n",
            "  [ 5  6  7  8]]\n",
            "\n",
            " [[ 9 10 11 12]\n",
            "  [13 14 15 16]]\n",
            "\n",
            " [[17 18 19 20]\n",
            "  [21 22 23 24]]], shape=(3, 2, 4), dtype=int32)\n"
          ],
          "name": "stdout"
        }
      ]
    },
    {
      "cell_type": "code",
      "metadata": {
        "id": "gozOepeWq-pf",
        "colab": {
          "base_uri": "https://localhost:8080/"
        },
        "outputId": "6d0d399a-e0a1-4204-d752-8918a06edd5f"
      },
      "source": [
        "# 1차원 배열 정의\n",
        "vec1 = [1, 2, 3, 4] \n",
        "vec2 = [5, 6, 7, 8] \n",
        "vec3 = [9, 10, 11, 12]  \n",
        "vec4 = [13, 14, 15, 16] \n",
        "vec5 = [17, 18, 19, 20] \n",
        "vec6 = [21, 22, 23, 24] \n",
        "\n",
        "# 1차원 배열을 원소로 갖는 2차원 배열 정의\n",
        "arr = [[vec1, vec2],\n",
        "        [vec3, vec4],\n",
        "        [vec5, vec6]]\n",
        "\n",
        "# 텐서 변환\n",
        "tensor3 = tf.constant(arr)\n",
        "\n",
        "# 랭크 확인\n",
        "print(\"rank:\", tf.rank(tensor3))\n",
        "\n",
        "# 텐서 출력\n",
        "print(\"tensor3:\", tensor3)"
      ],
      "execution_count": null,
      "outputs": [
        {
          "output_type": "stream",
          "text": [
            "rank: tf.Tensor(3, shape=(), dtype=int32)\n",
            "tensor3: tf.Tensor(\n",
            "[[[ 1  2  3  4]\n",
            "  [ 5  6  7  8]]\n",
            "\n",
            " [[ 9 10 11 12]\n",
            "  [13 14 15 16]]\n",
            "\n",
            " [[17 18 19 20]\n",
            "  [21 22 23 24]]], shape=(3, 2, 4), dtype=int32)\n"
          ],
          "name": "stdout"
        }
      ]
    },
    {
      "cell_type": "code",
      "metadata": {
        "id": "o6NyjIlRq-pf",
        "colab": {
          "base_uri": "https://localhost:8080/"
        },
        "outputId": "3483010a-4df5-49f9-8454-c2e0ff04b886"
      },
      "source": [
        "# 랭크-4 텐서 만들기\n",
        "tensor4 = tf.stack([tensor1, tensor2])\n",
        "\n",
        "# 랭크 확인\n",
        "print(\"rank:\", tf.rank(tensor4))\n",
        "\n",
        "# 텐서 출력\n",
        "print(\"tensor4:\", tensor4)"
      ],
      "execution_count": null,
      "outputs": [
        {
          "output_type": "stream",
          "text": [
            "rank: tf.Tensor(4, shape=(), dtype=int32)\n",
            "tensor4: tf.Tensor(\n",
            "[[[[ 1  2  3  4]\n",
            "   [ 5  6  7  8]]\n",
            "\n",
            "  [[ 9 10 11 12]\n",
            "   [13 14 15 16]]\n",
            "\n",
            "  [[17 18 19 20]\n",
            "   [21 22 23 24]]]\n",
            "\n",
            "\n",
            " [[[ 1  2  3  4]\n",
            "   [ 5  6  7  8]]\n",
            "\n",
            "  [[ 9 10 11 12]\n",
            "   [13 14 15 16]]\n",
            "\n",
            "  [[17 18 19 20]\n",
            "   [21 22 23 24]]]], shape=(2, 3, 2, 4), dtype=int32)\n"
          ],
          "name": "stdout"
        }
      ]
    }
  ]
}