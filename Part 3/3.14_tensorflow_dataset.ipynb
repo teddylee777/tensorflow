{
  "nbformat": 4,
  "nbformat_minor": 0,
  "metadata": {
    "colab": {
      "name": "3.14_tensorflow_dataset.ipynb",
      "provenance": [],
      "collapsed_sections": []
    },
    "kernelspec": {
      "name": "python3",
      "display_name": "Python 3"
    },
    "language_info": {
      "name": "python"
    }
  },
  "cells": [
    {
      "cell_type": "markdown",
      "metadata": {
        "id": "cpU_ud3-jJtb"
      },
      "source": [
        "[구글 코랩(Colab)에서 실행하기](https://colab.research.google.com/github/lovedlim/tensorflow/blob/main/Part%203/3.14_tensorflow_dataset.ipynb)"
      ]
    },
    {
      "cell_type": "code",
      "metadata": {
        "id": "BV8rMG8ALoQj"
      },
      "source": [
        "import numpy as np\n",
        "import tensorflow as tf"
      ],
      "execution_count": null,
      "outputs": []
    },
    {
      "cell_type": "markdown",
      "metadata": {
        "id": "ayilpgp0Qapf"
      },
      "source": [
        "## as_numpy_iterator"
      ]
    },
    {
      "cell_type": "code",
      "metadata": {
        "colab": {
          "base_uri": "https://localhost:8080/"
        },
        "id": "tvmLt9lbQJp0",
        "outputId": "682cc3f0-da09-48dc-ed86-cfe74294ef4c"
      },
      "source": [
        "dataset = tf.data.Dataset.range(10)\n",
        "\n",
        "list(dataset.as_numpy_iterator())"
      ],
      "execution_count": null,
      "outputs": [
        {
          "output_type": "execute_result",
          "data": {
            "text/plain": [
              "[0, 1, 2, 3, 4, 5, 6, 7, 8, 9]"
            ]
          },
          "metadata": {
            "tags": []
          },
          "execution_count": 2
        }
      ]
    },
    {
      "cell_type": "markdown",
      "metadata": {
        "id": "fdKLmLMPQf-C"
      },
      "source": [
        "## apply"
      ]
    },
    {
      "cell_type": "code",
      "metadata": {
        "colab": {
          "base_uri": "https://localhost:8080/"
        },
        "id": "QPdJiAwiQhJV",
        "outputId": "a18a3e48-7d16-47c5-da4c-094c43dfc70c"
      },
      "source": [
        "dataset = tf.data.Dataset.range(10)\n",
        "\n",
        "def filter_five(x):\n",
        "    return x.filter(lambda x: x < 5)\n",
        "\n",
        "list(dataset.apply(filter_five).as_numpy_iterator())"
      ],
      "execution_count": null,
      "outputs": [
        {
          "output_type": "execute_result",
          "data": {
            "text/plain": [
              "[0, 1, 2, 3, 4]"
            ]
          },
          "metadata": {
            "tags": []
          },
          "execution_count": 3
        }
      ]
    },
    {
      "cell_type": "markdown",
      "metadata": {
        "id": "Jlpw5cA6SpY0"
      },
      "source": [
        "## from_tensor_slices"
      ]
    },
    {
      "cell_type": "code",
      "metadata": {
        "colab": {
          "base_uri": "https://localhost:8080/"
        },
        "id": "CAJajXHNOKrX",
        "outputId": "d9aef19e-4f3e-4f9a-9dc4-9adc491641d5"
      },
      "source": [
        "ds = tf.data.Dataset.from_tensor_slices([1, 2, 3, 4, 5])\n",
        "print(type(ds))\n",
        "list(ds.as_numpy_iterator())"
      ],
      "execution_count": null,
      "outputs": [
        {
          "output_type": "stream",
          "text": [
            "<class 'tensorflow.python.data.ops.dataset_ops.TensorSliceDataset'>\n"
          ],
          "name": "stdout"
        },
        {
          "output_type": "execute_result",
          "data": {
            "text/plain": [
              "[1, 2, 3, 4, 5]"
            ]
          },
          "metadata": {
            "tags": []
          },
          "execution_count": 4
        }
      ]
    },
    {
      "cell_type": "markdown",
      "metadata": {
        "id": "o1OEiGAUS-Yg"
      },
      "source": [
        "## iteration"
      ]
    },
    {
      "cell_type": "code",
      "metadata": {
        "colab": {
          "base_uri": "https://localhost:8080/"
        },
        "id": "WOjaQBcSS_x7",
        "outputId": "f9f97d11-233f-4bfa-97f2-d31592429403"
      },
      "source": [
        "ds = tf.data.Dataset.from_tensor_slices([1, 2, 3, 4, 5])\n",
        "\n",
        "for d in ds:\n",
        "    print(d)"
      ],
      "execution_count": null,
      "outputs": [
        {
          "output_type": "stream",
          "text": [
            "tf.Tensor(1, shape=(), dtype=int32)\n",
            "tf.Tensor(2, shape=(), dtype=int32)\n",
            "tf.Tensor(3, shape=(), dtype=int32)\n",
            "tf.Tensor(4, shape=(), dtype=int32)\n",
            "tf.Tensor(5, shape=(), dtype=int32)\n"
          ],
          "name": "stdout"
        }
      ]
    },
    {
      "cell_type": "markdown",
      "metadata": {
        "id": "sJK__9MfTN-O"
      },
      "source": [
        "## range"
      ]
    },
    {
      "cell_type": "code",
      "metadata": {
        "colab": {
          "base_uri": "https://localhost:8080/"
        },
        "id": "uSwN41gdTNh8",
        "outputId": "7e9f9ee7-a71c-40f7-a5ba-0c2b66f66e30"
      },
      "source": [
        "ds = tf.data.Dataset.range(1, 10, 2)\n",
        "\n",
        "for d in ds:\n",
        "    print(d)"
      ],
      "execution_count": null,
      "outputs": [
        {
          "output_type": "stream",
          "text": [
            "tf.Tensor(1, shape=(), dtype=int64)\n",
            "tf.Tensor(3, shape=(), dtype=int64)\n",
            "tf.Tensor(5, shape=(), dtype=int64)\n",
            "tf.Tensor(7, shape=(), dtype=int64)\n",
            "tf.Tensor(9, shape=(), dtype=int64)\n"
          ],
          "name": "stdout"
        }
      ]
    },
    {
      "cell_type": "markdown",
      "metadata": {
        "id": "mRQ9rFhATGfu"
      },
      "source": [
        "## batch"
      ]
    },
    {
      "cell_type": "code",
      "metadata": {
        "colab": {
          "base_uri": "https://localhost:8080/"
        },
        "id": "poo-AgyoTF9U",
        "outputId": "42e7f77a-b4e8-4a47-921e-cd9d10a35c65"
      },
      "source": [
        "ds = tf.data.Dataset.range(8)\n",
        "for d in ds.batch(3):\n",
        "    print(d)"
      ],
      "execution_count": null,
      "outputs": [
        {
          "output_type": "stream",
          "text": [
            "tf.Tensor([0 1 2], shape=(3,), dtype=int64)\n",
            "tf.Tensor([3 4 5], shape=(3,), dtype=int64)\n",
            "tf.Tensor([6 7], shape=(2,), dtype=int64)\n"
          ],
          "name": "stdout"
        }
      ]
    },
    {
      "cell_type": "markdown",
      "metadata": {
        "id": "rInPHL7WTams"
      },
      "source": [
        "## drop_remainder"
      ]
    },
    {
      "cell_type": "code",
      "metadata": {
        "colab": {
          "base_uri": "https://localhost:8080/"
        },
        "id": "enyTR4wJTc2Q",
        "outputId": "64951214-3a06-4b7a-99c1-55ca36fcbb89"
      },
      "source": [
        "ds = tf.data.Dataset.range(8)\n",
        "for d in ds.batch(3, drop_remainder=True):\n",
        "    print(d)"
      ],
      "execution_count": null,
      "outputs": [
        {
          "output_type": "stream",
          "text": [
            "tf.Tensor([0 1 2], shape=(3,), dtype=int64)\n",
            "tf.Tensor([3 4 5], shape=(3,), dtype=int64)\n"
          ],
          "name": "stdout"
        }
      ]
    },
    {
      "cell_type": "markdown",
      "metadata": {
        "id": "PhT7ZGxHTki5"
      },
      "source": [
        "## window"
      ]
    },
    {
      "cell_type": "code",
      "metadata": {
        "colab": {
          "base_uri": "https://localhost:8080/"
        },
        "id": "9TCi-_TxL21c",
        "outputId": "fe15c20d-9d2c-41bb-fe82-29ba50488ccf"
      },
      "source": [
        "ds = tf.data.Dataset.range(10) \n",
        "ds = ds.window(5, shift=1, drop_remainder=False)\n",
        "for d in ds:\n",
        "    print(list(d.as_numpy_iterator()))"
      ],
      "execution_count": null,
      "outputs": [
        {
          "output_type": "stream",
          "text": [
            "[0, 1, 2, 3, 4]\n",
            "[1, 2, 3, 4, 5]\n",
            "[2, 3, 4, 5, 6]\n",
            "[3, 4, 5, 6, 7]\n",
            "[4, 5, 6, 7, 8]\n",
            "[5, 6, 7, 8, 9]\n",
            "[6, 7, 8, 9]\n",
            "[7, 8, 9]\n",
            "[8, 9]\n",
            "[9]\n"
          ],
          "name": "stdout"
        }
      ]
    },
    {
      "cell_type": "code",
      "metadata": {
        "colab": {
          "base_uri": "https://localhost:8080/"
        },
        "id": "0qyhpXJ-L58v",
        "outputId": "8a72404d-3b28-40a0-fb3b-b4663c16c38e"
      },
      "source": [
        "ds = tf.data.Dataset.range(10) \n",
        "ds = ds.window(5, shift=1, drop_remainder=True)\n",
        "for d in ds:\n",
        "    print(list(d.as_numpy_iterator()))"
      ],
      "execution_count": null,
      "outputs": [
        {
          "output_type": "stream",
          "text": [
            "[0, 1, 2, 3, 4]\n",
            "[1, 2, 3, 4, 5]\n",
            "[2, 3, 4, 5, 6]\n",
            "[3, 4, 5, 6, 7]\n",
            "[4, 5, 6, 7, 8]\n",
            "[5, 6, 7, 8, 9]\n"
          ],
          "name": "stdout"
        }
      ]
    },
    {
      "cell_type": "code",
      "metadata": {
        "colab": {
          "base_uri": "https://localhost:8080/"
        },
        "id": "IJ_ftDVuL7js",
        "outputId": "7454e469-d6cc-400f-b558-706960bc1806"
      },
      "source": [
        "ds = tf.data.Dataset.range(10) \n",
        "ds = ds.window(5, shift=2, drop_remainder=True)\n",
        "for d in ds:\n",
        "    print(list(d.as_numpy_iterator()))"
      ],
      "execution_count": null,
      "outputs": [
        {
          "output_type": "stream",
          "text": [
            "[0, 1, 2, 3, 4]\n",
            "[2, 3, 4, 5, 6]\n",
            "[4, 5, 6, 7, 8]\n"
          ],
          "name": "stdout"
        }
      ]
    },
    {
      "cell_type": "markdown",
      "metadata": {
        "id": "OYSFlyczTtcZ"
      },
      "source": [
        "## flat_map"
      ]
    },
    {
      "cell_type": "code",
      "metadata": {
        "colab": {
          "base_uri": "https://localhost:8080/"
        },
        "id": "5V4Bc0T5VbSa",
        "outputId": "16c6135b-5b56-453e-8ec7-2cb800006533"
      },
      "source": [
        "ds = tf.data.Dataset.range(10) \n",
        "ds = ds.window(5, shift=1, drop_remainder=True)\n",
        "# ds = ds.flat_map(lambda w: w.batch(3))\n",
        "for d in ds:\n",
        "    print(d)"
      ],
      "execution_count": null,
      "outputs": [
        {
          "output_type": "stream",
          "text": [
            "<_VariantDataset shapes: (), types: tf.int64>\n",
            "<_VariantDataset shapes: (), types: tf.int64>\n",
            "<_VariantDataset shapes: (), types: tf.int64>\n",
            "<_VariantDataset shapes: (), types: tf.int64>\n",
            "<_VariantDataset shapes: (), types: tf.int64>\n",
            "<_VariantDataset shapes: (), types: tf.int64>\n"
          ],
          "name": "stdout"
        }
      ]
    },
    {
      "cell_type": "code",
      "metadata": {
        "colab": {
          "base_uri": "https://localhost:8080/"
        },
        "id": "Oyh3QxEzL-3U",
        "outputId": "f56dcb71-1fd1-4b06-dfb5-5c188ee5e4c6"
      },
      "source": [
        "ds = tf.data.Dataset.range(10) \n",
        "ds = ds.window(5, shift=1, drop_remainder=True)\n",
        "ds = ds.flat_map(lambda w: w.batch(5))\n",
        "for d in ds:\n",
        "    print(d)"
      ],
      "execution_count": null,
      "outputs": [
        {
          "output_type": "stream",
          "text": [
            "tf.Tensor([0 1 2 3 4], shape=(5,), dtype=int64)\n",
            "tf.Tensor([1 2 3 4 5], shape=(5,), dtype=int64)\n",
            "tf.Tensor([2 3 4 5 6], shape=(5,), dtype=int64)\n",
            "tf.Tensor([3 4 5 6 7], shape=(5,), dtype=int64)\n",
            "tf.Tensor([4 5 6 7 8], shape=(5,), dtype=int64)\n",
            "tf.Tensor([5 6 7 8 9], shape=(5,), dtype=int64)\n"
          ],
          "name": "stdout"
        }
      ]
    },
    {
      "cell_type": "markdown",
      "metadata": {
        "id": "mFK_kv06Vyws"
      },
      "source": [
        "## shuffle"
      ]
    },
    {
      "cell_type": "code",
      "metadata": {
        "colab": {
          "base_uri": "https://localhost:8080/"
        },
        "id": "8SS2uIvNMCN4",
        "outputId": "b846190e-8809-42b9-ece6-17d3575c1748"
      },
      "source": [
        "# shuffle을 해주지 않은 경우\n",
        "ds = tf.data.Dataset.from_tensor_slices(np.arange(10))#.shuffle()\n",
        "\n",
        "for d in ds:\n",
        "    print(d)"
      ],
      "execution_count": null,
      "outputs": [
        {
          "output_type": "stream",
          "text": [
            "tf.Tensor(0, shape=(), dtype=int64)\n",
            "tf.Tensor(1, shape=(), dtype=int64)\n",
            "tf.Tensor(2, shape=(), dtype=int64)\n",
            "tf.Tensor(3, shape=(), dtype=int64)\n",
            "tf.Tensor(4, shape=(), dtype=int64)\n",
            "tf.Tensor(5, shape=(), dtype=int64)\n",
            "tf.Tensor(6, shape=(), dtype=int64)\n",
            "tf.Tensor(7, shape=(), dtype=int64)\n",
            "tf.Tensor(8, shape=(), dtype=int64)\n",
            "tf.Tensor(9, shape=(), dtype=int64)\n"
          ],
          "name": "stdout"
        }
      ]
    },
    {
      "cell_type": "code",
      "metadata": {
        "colab": {
          "base_uri": "https://localhost:8080/"
        },
        "id": "ArNoxXLqME3H",
        "outputId": "1eb1ed23-fcc7-4cbd-bacc-ae71ddca55b2"
      },
      "source": [
        "# shuffle 설정\n",
        "ds = tf.data.Dataset.from_tensor_slices(np.arange(10)).shuffle(buffer_size=5)\n",
        "for d in ds:\n",
        "    print(d)"
      ],
      "execution_count": null,
      "outputs": [
        {
          "output_type": "stream",
          "text": [
            "tf.Tensor(0, shape=(), dtype=int64)\n",
            "tf.Tensor(2, shape=(), dtype=int64)\n",
            "tf.Tensor(5, shape=(), dtype=int64)\n",
            "tf.Tensor(3, shape=(), dtype=int64)\n",
            "tf.Tensor(1, shape=(), dtype=int64)\n",
            "tf.Tensor(7, shape=(), dtype=int64)\n",
            "tf.Tensor(4, shape=(), dtype=int64)\n",
            "tf.Tensor(9, shape=(), dtype=int64)\n",
            "tf.Tensor(8, shape=(), dtype=int64)\n",
            "tf.Tensor(6, shape=(), dtype=int64)\n"
          ],
          "name": "stdout"
        }
      ]
    },
    {
      "cell_type": "markdown",
      "metadata": {
        "id": "ueleoyz2V2Ez"
      },
      "source": [
        "## map"
      ]
    },
    {
      "cell_type": "code",
      "metadata": {
        "colab": {
          "base_uri": "https://localhost:8080/"
        },
        "id": "gGPLL49TMGVj",
        "outputId": "039ab273-4149-4716-fe73-c648f19f318e"
      },
      "source": [
        "window_size=5\n",
        "\n",
        "ds = tf.data.Dataset.range(10) \n",
        "ds = ds.window(window_size, shift=1, drop_remainder=True)\n",
        "ds = ds.flat_map(lambda w: w.batch(window_size))\n",
        "ds = ds.shuffle(10)\n",
        "\n",
        "# 첫 4개와 마지막 1개를 분리\n",
        "ds = ds.map(lambda x: (x[:-2], x[-2:]))\n",
        "for x, y in ds:\n",
        "    print('train set: {}'.format(x))\n",
        "    print('label set: {}'.format(y))\n",
        "    print('==='*10)"
      ],
      "execution_count": null,
      "outputs": [
        {
          "output_type": "stream",
          "text": [
            "train set: [3 4 5]\n",
            "label set: [6 7]\n",
            "==============================\n",
            "train set: [5 6 7]\n",
            "label set: [8 9]\n",
            "==============================\n",
            "train set: [2 3 4]\n",
            "label set: [5 6]\n",
            "==============================\n",
            "train set: [1 2 3]\n",
            "label set: [4 5]\n",
            "==============================\n",
            "train set: [0 1 2]\n",
            "label set: [3 4]\n",
            "==============================\n",
            "train set: [4 5 6]\n",
            "label set: [7 8]\n",
            "==============================\n"
          ],
          "name": "stdout"
        }
      ]
    },
    {
      "cell_type": "code",
      "metadata": {
        "id": "I97z2auiMIQL"
      },
      "source": [
        ""
      ],
      "execution_count": null,
      "outputs": []
    }
  ]
}