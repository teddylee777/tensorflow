{
  "nbformat": 4,
  "nbformat_minor": 0,
  "metadata": {
    "colab": {
      "name": "5.2_nlp_basic.ipynb",
      "provenance": [],
      "collapsed_sections": []
    },
    "kernelspec": {
      "name": "python3",
      "display_name": "Python 3"
    }
  },
  "cells": [
    {
      "cell_type": "markdown",
      "metadata": {
        "id": "l_Wyn0Ccr3xE"
      },
      "source": [
        "[구글 코랩(Colab)에서 실행하기](https://colab.research.google.com/github/lovedlim/tensorflow/blob/main/Part%205/5.2_nlp_basic.ipynb)"
      ]
    },
    {
      "cell_type": "code",
      "metadata": {
        "colab": {
          "base_uri": "https://localhost:8080/"
        },
        "id": "9Tb_gS5mvEsR",
        "outputId": "3383ad9d-f4ad-48b7-9a27-cd560cfff876"
      },
      "source": [
        "# 텐서플로 토크나이저\n",
        "from tensorflow.keras.preprocessing.text import Tokenizer\n",
        "sentences = [\n",
        "             '영실이는 나를 정말 정말 좋아해',\n",
        "             '영실이는 영화를 좋아해'\n",
        "]\n",
        "tokenizer = Tokenizer()\n",
        "tokenizer.fit_on_texts(sentences)\n",
        "print(\"단어 인덱스:\",tokenizer.word_index)"
      ],
      "execution_count": null,
      "outputs": [
        {
          "output_type": "stream",
          "text": [
            "단어 인덱스: {'영실이는': 1, '정말': 2, '좋아해': 3, '나를': 4, '영화를': 5}\n"
          ],
          "name": "stdout"
        }
      ]
    },
    {
      "cell_type": "code",
      "metadata": {
        "colab": {
          "base_uri": "https://localhost:8080/"
        },
        "id": "PqDk2wBfxu8d",
        "outputId": "1edb9985-7afa-4fae-f99f-9c3958ec7532"
      },
      "source": [
        "# 인코딩된 결과\n",
        "word_encoding = tokenizer.texts_to_sequences(sentences)\n",
        "word_encoding"
      ],
      "execution_count": null,
      "outputs": [
        {
          "output_type": "execute_result",
          "data": {
            "text/plain": [
              "[[1, 4, 2, 2, 3], [1, 5, 3]]"
            ]
          },
          "metadata": {
            "tags": []
          },
          "execution_count": 2
        }
      ]
    },
    {
      "cell_type": "code",
      "metadata": {
        "colab": {
          "base_uri": "https://localhost:8080/"
        },
        "id": "YnqRQR-dvEun",
        "outputId": "ad6c8e0c-6f44-4200-ed0f-d50c516faf2f"
      },
      "source": [
        "# 사전에 없는 단어가 있을 때 인코딩 결과\n",
        "new_sentences = ['영실이는 경록이와 나를 좋아해']\n",
        "new_word_encoding = tokenizer.texts_to_sequences(new_sentences)\n",
        "new_word_encoding"
      ],
      "execution_count": null,
      "outputs": [
        {
          "output_type": "execute_result",
          "data": {
            "text/plain": [
              "[[1, 4, 3]]"
            ]
          },
          "metadata": {
            "tags": []
          },
          "execution_count": 3
        }
      ]
    },
    {
      "cell_type": "code",
      "metadata": {
        "colab": {
          "base_uri": "https://localhost:8080/"
        },
        "id": "fvrstaWevExG",
        "outputId": "c0935e85-9fcb-4de7-8056-5a89dde12dee"
      },
      "source": [
        "# 사전에 없는(Out Of Vocabulary) 단어 처리\n",
        "tokenizer = Tokenizer(oov_token=\"<OOV>\")\n",
        "tokenizer.fit_on_texts(sentences)\n",
        "word_index = tokenizer.word_index\n",
        "\n",
        "new_word_encoding = tokenizer.texts_to_sequences(new_sentences)\n",
        "\n",
        "print(word_index)\n",
        "print(new_word_encoding)"
      ],
      "execution_count": null,
      "outputs": [
        {
          "output_type": "stream",
          "text": [
            "{'<OOV>': 1, '영실이는': 2, '정말': 3, '좋아해': 4, '나를': 5, '영화를': 6}\n",
            "[[2, 1, 5, 4]]\n"
          ],
          "name": "stdout"
        }
      ]
    },
    {
      "cell_type": "code",
      "metadata": {
        "colab": {
          "base_uri": "https://localhost:8080/"
        },
        "id": "K3j8Z_rXjBEK",
        "outputId": "074a6d49-e9a9-49a7-8e0f-9635b029c1ed"
      },
      "source": [
        "# 단어사전 개수 설정\n",
        "tokenizer = Tokenizer(num_words=3, oov_token=\"<OOV>\")\n",
        "tokenizer.fit_on_texts(sentences)\n",
        "word_index = tokenizer.word_index\n",
        "\n",
        "new_word_encoding = tokenizer.texts_to_sequences(new_sentences)\n",
        "\n",
        "print(word_index)\n",
        "print(new_word_encoding)"
      ],
      "execution_count": null,
      "outputs": [
        {
          "output_type": "stream",
          "text": [
            "{'<OOV>': 1, '영실이는': 2, '정말': 3, '좋아해': 4, '나를': 5, '영화를': 6}\n",
            "[[2, 1, 1, 1]]\n"
          ],
          "name": "stdout"
        }
      ]
    },
    {
      "cell_type": "code",
      "metadata": {
        "colab": {
          "base_uri": "https://localhost:8080/"
        },
        "id": "rE2OxCttvE2L",
        "outputId": "9c0987a0-35bc-4909-f563-dd750216b487"
      },
      "source": [
        "# 문장의 길이 맞추기\n",
        "from tensorflow.keras.preprocessing.sequence import pad_sequences\n",
        "padded = pad_sequences(word_encoding)\n",
        "print(padded)"
      ],
      "execution_count": null,
      "outputs": [
        {
          "output_type": "stream",
          "text": [
            "[[1 4 2 2 3]\n",
            " [0 0 1 5 3]]\n"
          ],
          "name": "stdout"
        }
      ]
    },
    {
      "cell_type": "code",
      "metadata": {
        "colab": {
          "base_uri": "https://localhost:8080/"
        },
        "id": "WJnqvwN0vE4k",
        "outputId": "ad5526d0-b5d5-4e89-af3d-2023d98c2aa4"
      },
      "source": [
        "# 패딩(뒤에 0 붙이기)\n",
        "padded = pad_sequences(word_encoding, padding='post')\n",
        "print(padded)"
      ],
      "execution_count": null,
      "outputs": [
        {
          "output_type": "stream",
          "text": [
            "[[1 4 2 2 3]\n",
            " [1 5 3 0 0]]\n"
          ],
          "name": "stdout"
        }
      ]
    },
    {
      "cell_type": "code",
      "metadata": {
        "colab": {
          "base_uri": "https://localhost:8080/"
        },
        "id": "7gUBh054vE7Y",
        "outputId": "3348d8fb-4eab-4851-b1de-7a87ee1fa51d"
      },
      "source": [
        "# 문장의 최대 길이 고정\n",
        "padded = pad_sequences(word_encoding, padding='post',maxlen=4)\n",
        "print(padded)"
      ],
      "execution_count": null,
      "outputs": [
        {
          "output_type": "stream",
          "text": [
            "[[4 2 2 3]\n",
            " [1 5 3 0]]\n"
          ],
          "name": "stdout"
        }
      ]
    },
    {
      "cell_type": "code",
      "metadata": {
        "colab": {
          "base_uri": "https://localhost:8080/"
        },
        "id": "sfhef5mNvE9v",
        "outputId": "de4c859c-6fa9-4991-fdfc-8d5393e07c01"
      },
      "source": [
        "# 최대 길이보다 문장이 길 때 뒷부분 자르기\n",
        "padded = pad_sequences(word_encoding, padding='post', truncating='post', maxlen=4)\n",
        "print(padded)"
      ],
      "execution_count": null,
      "outputs": [
        {
          "output_type": "stream",
          "text": [
            "[[1 4 2 2]\n",
            " [1 5 3 0]]\n"
          ],
          "name": "stdout"
        }
      ]
    }
  ]
}