{
  "nbformat": 4,
  "nbformat_minor": 0,
  "metadata": {
    "colab": {
      "name": "6.1_gym_frozen_lake.ipynb",
      "provenance": [],
      "collapsed_sections": []
    },
    "kernelspec": {
      "name": "python3",
      "display_name": "Python 3"
    }
  },
  "cells": [
    {
      "cell_type": "markdown",
      "metadata": {
        "id": "DIhaF4Uqtsur"
      },
      "source": [
        "[구글 코랩(Colab)에서 실행하기](https://colab.research.google.com/github/lovedlim/tensorflow/blob/main/Part%206/6.1_gym_frozen_lake.ipynb)"
      ]
    },
    {
      "cell_type": "code",
      "metadata": {
        "id": "y8Nonw6P99T6",
        "colab": {
          "base_uri": "https://localhost:8080/"
        },
        "outputId": "fdedb9c6-eb7e-4795-a66d-66ea69e2c55f"
      },
      "source": [
        "# 필요한 패키지 임포트\n",
        "import gym\n",
        "import cv2\n",
        "import numpy as np\n",
        "from google.colab.patches import cv2_imshow\n",
        "\n",
        "# 프로즌 레이크 환경을 만듭니다.\n",
        "# 환경을 이해하기 위해 미끄럼 옵션은 끄고 만듭니다.\n",
        "env = gym.make('FrozenLake-v0', is_slippery=False)\n",
        "print('환경은 ? ', env)\n",
        "print('행동할수 있는 액션의 수는 ? ', env.action_space)\n",
        "print('이동할 수 있는 총 상태의 수는 ? ', env.observation_space)\n",
        "print('초기화할 경우 시작 위치는 ? ', env.reset())\n",
        "print('행동을 하고나서 리턴해주는 값은 ? ', env.step(1))"
      ],
      "execution_count": null,
      "outputs": [
        {
          "output_type": "stream",
          "text": [
            "환경은 ?  <TimeLimit<FrozenLakeEnv<FrozenLake-v0>>>\n",
            "행동할수 있는 액션의 수는 ?  Discrete(4)\n",
            "이동할 수 있는 총 상태의 수는 ?  Discrete(16)\n",
            "초기화할 경우 시작 위치는 ?  0\n",
            "행동을 하고나서 리턴해주는 값은 ?  (4, 0.0, False, {'prob': 1.0})\n"
          ],
          "name": "stdout"
        }
      ]
    },
    {
      "cell_type": "code",
      "metadata": {
        "colab": {
          "base_uri": "https://localhost:8080/"
        },
        "id": "TxjBWhh6be7J",
        "outputId": "83fe2657-724d-42c9-955c-cc463711de09"
      },
      "source": [
        "env.render()"
      ],
      "execution_count": null,
      "outputs": [
        {
          "output_type": "stream",
          "text": [
            "  (Down)\n",
            "SFFF\n",
            "\u001b[41mF\u001b[0mHFH\n",
            "FFFH\n",
            "HFFG\n"
          ],
          "name": "stdout"
        }
      ]
    },
    {
      "cell_type": "code",
      "metadata": {
        "id": "TDD5klAKCTSH",
        "colab": {
          "base_uri": "https://localhost:8080/",
          "height": 418
        },
        "outputId": "f9ded385-c321-4923-b913-438d19a90ee7"
      },
      "source": [
        "def draw_state(state):\n",
        "    img = np.zeros((401, 401, 3))\n",
        "    # 배경\n",
        "    for i in range(4):\n",
        "        cv2.line(img, ((i+1)*100, 0), ((i+1)*100, 400), (255, 255, 255), 1)\n",
        "        cv2.line(img, (0, (i+1)*100), (400, (i+1)*100), (255, 255, 255), 1)\n",
        "    cv2.putText(img, 'H', (1*100+10, 1*100+80), cv2.FONT_HERSHEY_COMPLEX, \n",
        "                3, (255, 0, 0))\n",
        "    cv2.putText(img, 'H', (3*100+12, 1*100+80), cv2.FONT_HERSHEY_COMPLEX, \n",
        "                3, (255, 0, 0))\n",
        "    cv2.putText(img, 'H', (3*100+12, 2*100+80), cv2.FONT_HERSHEY_COMPLEX,\n",
        "                3, (255, 0, 0))\n",
        "    cv2.putText(img, 'H', (0*100+12, 3*100+80), cv2.FONT_HERSHEY_COMPLEX, \n",
        "                3, (255, 0, 0))\n",
        "    cv2.putText(img, 'G', (3*100+12, 3*100+80), cv2.FONT_HERSHEY_COMPLEX, \n",
        "                3, (0, 255, 0))\n",
        "    \n",
        "    # Agent 위치 표시\n",
        "    row = state//4\n",
        "    col = state%4\n",
        "    cv2.circle(img, (col*100+50, row*100+50), 15, (0, 0, 255), -1)\n",
        "    return img\n",
        "\n",
        "cv2_imshow(draw_state(4))"
      ],
      "execution_count": null,
      "outputs": [
        {
          "output_type": "display_data",
          "data": {
            "image/png": "[encoded data removed]",
            "text/plain": [
              "<PIL.Image.Image image mode=RGB size=401x401 at 0x7FC5A30671D0>"
            ]
          },
          "metadata": {
            "tags": []
          }
        }
      ]
    },
    {
      "cell_type": "code",
      "metadata": {
        "id": "Zqgim4gyAV3-",
        "colab": {
          "base_uri": "https://localhost:8080/"
        },
        "outputId": "37dfe45a-e929-4946-94fa-8ac08bf60436"
      },
      "source": [
        "# 시작할때 게임이 아직 끝나지 않았다고 설정\n",
        "d = False\n",
        "# 환경을 초기화 해주고, 초기 상태를 s라고 저장해 두자\n",
        "s = env.reset()\n",
        "# 게임이 끝날때까지 반복하자\n",
        "while not d:\n",
        "    # 임의의 행동을 하나 뽑고, step함수로 액션을 수행한다\n",
        "    # 그 다음 상태를 n_s, 액션에 대한 보상을 r 게임이 끝났는지 알려주는 \n",
        "    # 변수를 d, 정보는 _로 저장하자.\n",
        "    n_s, r, d, _ = env.step(env.action_space.sample())\n",
        "# 게임이 끝나고, r=1 이면 성공 아니면 실패를 출력해 주자.\n",
        "if (r == 1):\n",
        "    print('Success')\n",
        "else:\n",
        "    print('Fail')"
      ],
      "execution_count": null,
      "outputs": [
        {
          "output_type": "stream",
          "text": [
            "Fail\n"
          ],
          "name": "stdout"
        }
      ]
    },
    {
      "cell_type": "code",
      "metadata": {
        "colab": {
          "base_uri": "https://localhost:8080/"
        },
        "id": "Oe6Ve77_fmQA",
        "outputId": "a39dc558-b4dd-431d-d53d-89be73cb73c2"
      },
      "source": [
        "# 저장을 위한 준비를 하자\n",
        "fcc = cv2.VideoWriter_fourcc(*'DIVX')\n",
        "out = cv2.VideoWriter('frozen_lake_random.avi', fcc, 1.0, (401, 401))\n",
        "# 시작할때 게임이 아직 끝나지 않았다고 설정\n",
        "d = False\n",
        "# 환경을 초기화 해주고, 초기 상태를 s라고 저장해 두자\n",
        "s = env.reset()\n",
        "# 게임이 끝날때까지 반복하자\n",
        "while not d:\n",
        "    # 현재 상태를 저장하자.\n",
        "    out.write(np.uint8(draw_state(s)))\n",
        "    # 임의의 행동을 하나 뽑고, step함수로 액션을 수행한다\n",
        "    # 그 다음 상태를 n_s, 액션에 대한 보상을 r 게임이 끝났는지 알려주는 \n",
        "    # 변수를 d, 정보는 _로 저장하자. \n",
        "    n_s, r, d, _ = env.step(env.action_space.sample())\n",
        "    # 다음 상태를 현재 상태로 바꾸자\n",
        "    s = n_s\n",
        "# while 문을 빠져 나와 상태를 한번 더 그려주자\n",
        "out.write(np.uint8(draw_state(s)))\n",
        "# 게임이 끝나고, r=1 이면 성공 아니면 실패를 출력해 주자.\n",
        "if (r == 1):\n",
        "    print('Success')\n",
        "else:\n",
        "    print('Fail')\n",
        "\n",
        "# 동영상을 저장하자\n",
        "out.release()"
      ],
      "execution_count": null,
      "outputs": [
        {
          "output_type": "stream",
          "text": [
            "Fail\n"
          ],
          "name": "stdout"
        }
      ]
    }
  ]
}