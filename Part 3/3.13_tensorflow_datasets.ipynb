{
  "nbformat": 4,
  "nbformat_minor": 0,
  "metadata": {
    "kernelspec": {
      "display_name": "Python 3",
      "language": "python",
      "name": "python3"
    },
    "language_info": {
      "codemirror_mode": {
        "name": "ipython",
        "version": 3
      },
      "file_extension": ".py",
      "mimetype": "text/x-python",
      "name": "python",
      "nbconvert_exporter": "python",
      "pygments_lexer": "ipython3",
      "version": "3.7.9"
    },
    "colab": {
      "name": "3.13_tensorflow_datasets.ipynb",
      "provenance": [],
      "collapsed_sections": []
    }
  },
  "cells": [
    {
      "cell_type": "markdown",
      "metadata": {
        "id": "XZZgavyejBok"
      },
      "source": [
        "[구글 코랩(Colab)에서 실행하기](https://colab.research.google.com/github/lovedlim/tensorflow/blob/main/Part%203/3.13_tensorflow_datasets.ipynb)"
      ]
    },
    {
      "cell_type": "code",
      "metadata": {
        "id": "A4XOJTuLHhPH"
      },
      "source": [
        "import tensorflow_datasets as tfds"
      ],
      "execution_count": null,
      "outputs": []
    },
    {
      "cell_type": "code",
      "metadata": {
        "id": "2FN101wjHhPM"
      },
      "source": [
        "# cifar100 데이터셋 이름 지정\n",
        "dataset_name = 'cifar100'\n",
        "# 데이터셋 로드\n",
        "ds = tfds.load(dataset_name, split='train')\n",
        "ds"
      ],
      "execution_count": null,
      "outputs": []
    },
    {
      "cell_type": "code",
      "metadata": {
        "id": "52_2Cx89HhPM"
      },
      "source": [
        "# 5개의 데이터 출력\n",
        "for data in ds.take(5):\n",
        "    print(type(data))"
      ],
      "execution_count": null,
      "outputs": []
    },
    {
      "cell_type": "code",
      "metadata": {
        "id": "j-ub8CIXHhPN"
      },
      "source": [
        "# 5개의 데이터 출력\n",
        "for data in ds.take(5):\n",
        "    # image\n",
        "    image = data['image']\n",
        "    # label\n",
        "    label = data['label']\n",
        "    print(image.shape)\n",
        "    print(label)"
      ],
      "execution_count": null,
      "outputs": []
    },
    {
      "cell_type": "code",
      "metadata": {
        "id": "CGU4PNvmHhPN"
      },
      "source": [
        "# as_supervised=True는 tuple 형식으로 x, y 데이터를 로드\n",
        "ds = tfds.load(dataset_name, split='train', as_supervised=True)\n",
        "\n",
        "for image, label in ds.take(5):\n",
        "    print(image.shape, label)"
      ],
      "execution_count": null,
      "outputs": []
    },
    {
      "cell_type": "code",
      "metadata": {
        "id": "PyWoMB_kHhPN"
      },
      "source": [
        "# with_info=True 로 데이터셋의 정보 로드\n",
        "ds, info = tfds.load(dataset_name, split='train', with_info=True)\n",
        "\n",
        "# info 확인\n",
        "info"
      ],
      "execution_count": null,
      "outputs": []
    }
  ]
}