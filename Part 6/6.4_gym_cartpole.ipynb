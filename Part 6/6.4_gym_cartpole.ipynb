{
  "nbformat": 4,
  "nbformat_minor": 0,
  "metadata": {
    "colab": {
      "name": "6.4_gym_cartpole.ipynb",
      "provenance": [],
      "collapsed_sections": []
    },
    "kernelspec": {
      "name": "python3",
      "display_name": "Python 3"
    }
  },
  "cells": [
    {
      "cell_type": "markdown",
      "metadata": {
        "id": "pBHM-2GauBPX"
      },
      "source": [
        "[구글 코랩(Colab)에서 실행하기](https://colab.research.google.com/github/lovedlim/tensorflow/blob/main/Part%206/6.4_gym_cartpole.ipynb)"
      ]
    },
    {
      "cell_type": "code",
      "metadata": {
        "id": "6_UyYjNNc5P2",
        "colab": {
          "base_uri": "https://localhost:8080/"
        },
        "outputId": "3576f9b3-dbe2-46b3-cf60-7b4492db1af7"
      },
      "source": [
        "# Colab에서 Render를 그림파일로 해주기 위한 설정\n",
        "!apt update\n",
        "!apt-get install python-opengl -y\n",
        "!apt install xvfb -y\n",
        "!pip install pyvirtualdisplay\n",
        "!pip install piglet"
      ],
      "execution_count": null,
      "outputs": [
        {
          "output_type": "stream",
          "text": [
            "\u001b[33m\r0% [Working]\u001b[0m\r            \rGet:1 http://ppa.launchpad.net/c2d4u.team/c2d4u4.0+/ubuntu bionic InRelease [15.9 kB]\n",
            "\u001b[33m\r0% [Connecting to archive.ubuntu.com (91.189.88.152)] [Waiting for headers] [Co\u001b[0m\r                                                                               \rGet:2 http://security.ubuntu.com/ubuntu bionic-security InRelease [88.7 kB]\n",
            "\u001b[33m\r0% [Connecting to archive.ubuntu.com (91.189.88.152)] [2 InRelease 0 B/88.7 kB \u001b[0m\r                                                                               \rHit:3 http://archive.ubuntu.com/ubuntu bionic InRelease\n",
            "\u001b[33m\r0% [Waiting for headers] [2 InRelease 88.7 kB/88.7 kB 100%] [Connected to cloud\u001b[0m\r                                                                               \rGet:4 http://archive.ubuntu.com/ubuntu bionic-updates InRelease [88.7 kB]\n",
            "\r                                                                               \rHit:5 http://ppa.launchpad.net/cran/libgit2/ubuntu bionic InRelease\n",
            "\u001b[33m\r0% [4 InRelease 56.2 kB/88.7 kB 63%] [Connected to cloud.r-project.org (13.227.\u001b[0m\u001b[33m\r0% [3 InRelease gpgv 242 kB] [4 InRelease 56.2 kB/88.7 kB 63%] [Connected to cl\u001b[0m\u001b[33m\r0% [3 InRelease gpgv 242 kB] [Waiting for headers] [Connected to cloud.r-projec\u001b[0m\r                                                                               \rGet:6 http://ppa.launchpad.net/deadsnakes/ppa/ubuntu bionic InRelease [15.9 kB]\n",
            "\u001b[33m\r0% [3 InRelease gpgv 242 kB] [Waiting for headers] [Connected to cloud.r-projec\u001b[0m\r                                                                               \rGet:7 http://archive.ubuntu.com/ubuntu bionic-backports InRelease [74.6 kB]\n",
            "Get:8 http://ppa.launchpad.net/graphics-drivers/ppa/ubuntu bionic InRelease [21.3 kB]\n",
            "Ign:9 https://developer.download.nvidia.com/compute/cuda/repos/ubuntu1804/x86_64  InRelease\n",
            "Get:10 https://cloud.r-project.org/bin/linux/ubuntu bionic-cran40/ InRelease [3,626 B]\n",
            "Ign:11 https://developer.download.nvidia.com/compute/machine-learning/repos/ubuntu1804/x86_64  InRelease\n",
            "Get:12 https://developer.download.nvidia.com/compute/cuda/repos/ubuntu1804/x86_64  Release [697 B]\n",
            "Hit:13 https://developer.download.nvidia.com/compute/machine-learning/repos/ubuntu1804/x86_64  Release\n",
            "Get:14 https://developer.download.nvidia.com/compute/cuda/repos/ubuntu1804/x86_64  Release.gpg [836 B]\n",
            "Get:15 http://security.ubuntu.com/ubuntu bionic-security/universe amd64 Packages [1,410 kB]\n",
            "Get:16 http://security.ubuntu.com/ubuntu bionic-security/main amd64 Packages [2,119 kB]\n",
            "Get:17 http://security.ubuntu.com/ubuntu bionic-security/multiverse amd64 Packages [24.7 kB]\n",
            "Get:18 http://security.ubuntu.com/ubuntu bionic-security/restricted amd64 Packages [399 kB]\n",
            "Get:19 http://ppa.launchpad.net/c2d4u.team/c2d4u4.0+/ubuntu bionic/main Sources [1,759 kB]\n",
            "Get:20 http://ppa.launchpad.net/c2d4u.team/c2d4u4.0+/ubuntu bionic/main amd64 Packages [900 kB]\n",
            "Get:21 http://archive.ubuntu.com/ubuntu bionic-updates/main amd64 Packages [2,550 kB]\n",
            "Get:22 http://archive.ubuntu.com/ubuntu bionic-updates/restricted amd64 Packages [429 kB]\n",
            "Get:23 http://archive.ubuntu.com/ubuntu bionic-updates/universe amd64 Packages [2,182 kB]\n",
            "Get:24 http://archive.ubuntu.com/ubuntu bionic-updates/multiverse amd64 Packages [31.6 kB]\n",
            "Get:25 http://ppa.launchpad.net/deadsnakes/ppa/ubuntu bionic/main amd64 Packages [40.8 kB]\n",
            "Get:26 http://ppa.launchpad.net/graphics-drivers/ppa/ubuntu bionic/main amd64 Packages [47.2 kB]\n",
            "Get:27 https://cloud.r-project.org/bin/linux/ubuntu bionic-cran40/ Packages [53.9 kB]\n",
            "Ign:29 https://developer.download.nvidia.com/compute/cuda/repos/ubuntu1804/x86_64  Packages\n",
            "Get:29 https://developer.download.nvidia.com/compute/cuda/repos/ubuntu1804/x86_64  Packages [763 kB]\n",
            "Fetched 13.0 MB in 3s (5,041 kB/s)\n",
            "Reading package lists... Done\n",
            "Building dependency tree       \n",
            "Reading state information... Done\n",
            "77 packages can be upgraded. Run 'apt list --upgradable' to see them.\n",
            "Reading package lists... Done\n",
            "Building dependency tree       \n",
            "Reading state information... Done\n",
            "The following package was automatically installed and is no longer required:\n",
            "  libnvidia-common-460\n",
            "Use 'apt autoremove' to remove it.\n",
            "Suggested packages:\n",
            "  libgle3\n",
            "The following NEW packages will be installed:\n",
            "  python-opengl\n",
            "0 upgraded, 1 newly installed, 0 to remove and 77 not upgraded.\n",
            "Need to get 496 kB of archives.\n",
            "After this operation, 5,416 kB of additional disk space will be used.\n",
            "Get:1 http://archive.ubuntu.com/ubuntu bionic/universe amd64 python-opengl all 3.1.0+dfsg-1 [496 kB]\n",
            "Fetched 496 kB in 0s (4,992 kB/s)\n",
            "Selecting previously unselected package python-opengl.\n",
            "(Reading database ... 160690 files and directories currently installed.)\n",
            "Preparing to unpack .../python-opengl_3.1.0+dfsg-1_all.deb ...\n",
            "Unpacking python-opengl (3.1.0+dfsg-1) ...\n",
            "Setting up python-opengl (3.1.0+dfsg-1) ...\n",
            "Reading package lists... Done\n",
            "Building dependency tree       \n",
            "Reading state information... Done\n",
            "The following package was automatically installed and is no longer required:\n",
            "  libnvidia-common-460\n",
            "Use 'apt autoremove' to remove it.\n",
            "The following NEW packages will be installed:\n",
            "  xvfb\n",
            "0 upgraded, 1 newly installed, 0 to remove and 77 not upgraded.\n",
            "Need to get 784 kB of archives.\n",
            "After this operation, 2,270 kB of additional disk space will be used.\n",
            "Get:1 http://archive.ubuntu.com/ubuntu bionic-updates/universe amd64 xvfb amd64 2:1.19.6-1ubuntu4.9 [784 kB]\n",
            "Fetched 784 kB in 0s (7,184 kB/s)\n",
            "Selecting previously unselected package xvfb.\n",
            "(Reading database ... 163045 files and directories currently installed.)\n",
            "Preparing to unpack .../xvfb_2%3a1.19.6-1ubuntu4.9_amd64.deb ...\n",
            "Unpacking xvfb (2:1.19.6-1ubuntu4.9) ...\n",
            "Setting up xvfb (2:1.19.6-1ubuntu4.9) ...\n",
            "Processing triggers for man-db (2.8.3-2ubuntu0.1) ...\n",
            "Collecting pyvirtualdisplay\n",
            "  Downloading https://files.pythonhosted.org/packages/19/88/7a198a5ee3baa3d547f5a49574cd8c3913b216f5276b690b028f89ffb325/PyVirtualDisplay-2.1-py3-none-any.whl\n",
            "Collecting EasyProcess\n",
            "  Downloading https://files.pythonhosted.org/packages/48/3c/75573613641c90c6d094059ac28adb748560d99bd27ee6f80cce398f404e/EasyProcess-0.3-py2.py3-none-any.whl\n",
            "Installing collected packages: EasyProcess, pyvirtualdisplay\n",
            "Successfully installed EasyProcess-0.3 pyvirtualdisplay-2.1\n",
            "Collecting piglet\n",
            "  Downloading https://files.pythonhosted.org/packages/11/56/6840e5f45626dc7eb7cd5dff57d11880b3113723b3b7b1fb1fa537855b75/piglet-1.0.0-py2.py3-none-any.whl\n",
            "Collecting piglet-templates\n",
            "\u001b[?25l  Downloading https://files.pythonhosted.org/packages/f1/cc/bad8acca362189a05a58523f376d24a0a2578a0e386e34e969310ced3100/piglet_templates-1.2.0-py3-none-any.whl (67kB)\n",
            "\u001b[K     |████████████████████████████████| 71kB 4.3MB/s \n",
            "\u001b[?25hRequirement already satisfied: attrs in /usr/local/lib/python3.7/dist-packages (from piglet-templates->piglet) (20.3.0)\n",
            "Requirement already satisfied: astunparse in /usr/local/lib/python3.7/dist-packages (from piglet-templates->piglet) (1.6.3)\n",
            "Requirement already satisfied: markupsafe in /usr/local/lib/python3.7/dist-packages (from piglet-templates->piglet) (1.1.1)\n",
            "Requirement already satisfied: pyparsing in /usr/local/lib/python3.7/dist-packages (from piglet-templates->piglet) (2.4.7)\n",
            "Requirement already satisfied: six<2.0,>=1.6.1 in /usr/local/lib/python3.7/dist-packages (from astunparse->piglet-templates->piglet) (1.15.0)\n",
            "Requirement already satisfied: wheel<1.0,>=0.23.0 in /usr/local/lib/python3.7/dist-packages (from astunparse->piglet-templates->piglet) (0.36.2)\n",
            "Installing collected packages: piglet-templates, piglet\n",
            "Successfully installed piglet-1.0.0 piglet-templates-1.2.0\n"
          ],
          "name": "stdout"
        }
      ]
    },
    {
      "cell_type": "code",
      "metadata": {
        "colab": {
          "base_uri": "https://localhost:8080/"
        },
        "id": "NMvDZgnudIMs",
        "outputId": "ad256d43-aa3b-4f72-d8ea-833001fea7ca"
      },
      "source": [
        "# 필요한 모듈 설치\n",
        "import tensorflow as tf\n",
        "import gym\n",
        "from IPython import display\n",
        "import cv2\n",
        "from pyvirtualdisplay import Display\n",
        "from IPython import display\n",
        "import matplotlib.pyplot as plt\n",
        "from collections import deque\n",
        "import numpy as np\n",
        "import random\n",
        "from google.colab.patches import cv2_imshow\n",
        "%matplotlib inline\n",
        "Display().start()\n",
        "\n",
        "# 카트폴 환경을 만듭니다.\n",
        "env = gym.make('CartPole-v1')\n",
        "print('환경은 ? ', env)\n",
        "print('행동할수 있는 액션의 수는 ? ', env.action_space)\n",
        "print('이동할 수 있는 총 상태의 수는 ? ', env.observation_space)\n",
        "print('초기화할 경우 시작 위치는 ? ', env.reset())\n",
        "print('행동을 하고나서 리턴해주는 값은 ? ', env.step(1))\n",
        "\n",
        "# 이미지로 렌더링 하고 이미지를 CV2로 보여주겠다.\n",
        "cv2_imshow(env.render('rgb_array'))"
      ],
      "execution_count": null,
      "outputs": [
        {
          "output_type": "stream",
          "text": [
            "환경은 ?  <TimeLimit<CartPoleEnv<CartPole-v1>>>\n",
            "행동할수 있는 액션의 수는 ?  Discrete(2)\n",
            "이동할 수 있는 총 상태의 수는 ?  Box(-3.4028234663852886e+38, 3.4028234663852886e+38, (4,), float32)\n",
            "초기화할 경우 시작 위치는 ?  [0.02418578 0.04816251 0.02180602 0.02219988]\n",
            "행동을 하고나서 리턴해주는 값은 ?  (array([ 0.02514903,  0.24296506,  0.02225001, -0.26352402]), 1.0, False, {})\n"
          ],
          "name": "stdout"
        },
        {
          "output_type": "display_data",
          "data": {
            "image/png": "[encoded data removed]",
            "text/plain": [
              "<PIL.Image.Image image mode=RGB size=600x400 at 0x7F461D25C590>"
            ]
          },
          "metadata": {
            "tags": []
          }
        }
      ]
    },
    {
      "cell_type": "code",
      "metadata": {
        "id": "Zqgim4gyAV3-",
        "colab": {
          "base_uri": "https://localhost:8080/"
        },
        "outputId": "4aa3056e-ed1b-4f2a-f178-46b4339d63be"
      },
      "source": [
        "# 시작할때 게임이 아직 끝나지 않았다고 설정\n",
        "d = False\n",
        "# 환경을 초기화 해주고, 초기 상태를 s라고 저장해 두자\n",
        "s = env.reset()\n",
        "# 게임점수를 기록하자\n",
        "total_reward = 0\n",
        "# 게임이 끝날때까지 반복하자\n",
        "while not d:\n",
        "    # 임의의 행동을 하나 뽑고, step함수로 액션을 수행한다\n",
        "    # 그 다음 상태를 n_s, 액션에 대한 보상을 r 게임이 끝났는지 알려주는 \n",
        "    # 변수를 d, 정보는 _로 저장하자.\n",
        "    n_s, r, d, _ = env.step(env.action_space.sample())\n",
        "\n",
        "    total_reward = total_reward+r\n",
        "# 게임이 끝나고, r=1 이면 성공 아니면 실패를 출력해 주자.\n",
        "print(total_reward)"
      ],
      "execution_count": null,
      "outputs": [
        {
          "output_type": "stream",
          "text": [
            "21.0\n"
          ],
          "name": "stdout"
        }
      ]
    },
    {
      "cell_type": "code",
      "metadata": {
        "colab": {
          "base_uri": "https://localhost:8080/"
        },
        "id": "Oe6Ve77_fmQA",
        "outputId": "867fb180-7b56-4af5-850b-32dd1d8028a5"
      },
      "source": [
        "# 저장을 위한 준비를 하자\n",
        "fcc = cv2.VideoWriter_fourcc(*'DIVX')\n",
        "out = cv2.VideoWriter('cartpole_random.avi', fcc, 1.0, (600, 400))\n",
        "# 시작할때 게임이 아직 끝나지 않았다고 설정\n",
        "d = False\n",
        "# 환경을 초기화 해주고, 초기 상태를 s라고 저장해 두자\n",
        "s = env.reset()\n",
        "total_reward = 0\n",
        "# 게임이 끝날때까지 반복하자\n",
        "while not d:\n",
        "    # 현재 상태를 저장하자.\n",
        "    out.write(np.uint8(env.render('rgb_array')))\n",
        "    # 임의의 행동을 하나 뽑고, step함수로 액션을 수행한다\n",
        "    # 그 다음 상태를 n_s, 액션에 대한 보상을 r 게임이 끝났는지 알려주는 변수를 d, 정보는 _로 저장하자.\n",
        "    n_s, r, d, _ = env.step(env.action_space.sample())\n",
        "    total_reward = total_reward+r\n",
        "    # 다음 상태를 현재 상태로 바꾸자\n",
        "    s = n_s\n",
        "# while 문을 빠져 나와 상태를 한번 더 그려주자\n",
        "out.write(np.uint8(env.render('rgb_array')))\n",
        "print(total_reward)\n",
        "# 동영상을 저장하자\n",
        "out.release()"
      ],
      "execution_count": null,
      "outputs": [
        {
          "output_type": "stream",
          "text": [
            "45.0\n"
          ],
          "name": "stdout"
        }
      ]
    }
  ]
}