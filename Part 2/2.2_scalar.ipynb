{
  "nbformat": 4,
  "nbformat_minor": 0,
  "metadata": {
    "colab": {
      "name": "2.2_scalar.ipynb",
      "provenance": [],
      "collapsed_sections": []
    },
    "kernelspec": {
      "name": "python3",
      "display_name": "Python 3"
    },
    "language_info": {
      "name": "python"
    }
  },
  "cells": [
    {
      "cell_type": "markdown",
      "metadata": {
        "id": "4RUJvxcAsblj"
      },
      "source": [
        "[구글 코랩(Colab)에서 실행하기](https://colab.research.google.com/github/lovedlim/tensorflow/blob/main/Part%202/2.2_scalar.ipynb)"
      ]
    },
    {
      "cell_type": "code",
      "metadata": {
        "colab": {
          "base_uri": "https://localhost:8080/"
        },
        "id": "CCKv3tPbjl8v",
        "outputId": "a994ad67-d7fe-4762-a619-74e512dfa5cf"
      },
      "source": [
        "# 텐서플로 불러오기\n",
        "import tensorflow as tf\n",
        "\n",
        "# 스칼라 정의하기\n",
        "a = tf.constant(1)\n",
        "b = tf.constant(2)\n",
        "print(\"a:\", a)\n",
        "print(\"b:\", b)"
      ],
      "execution_count": null,
      "outputs": [
        {
          "output_type": "stream",
          "text": [
            "a: tf.Tensor(1, shape=(), dtype=int32)\n",
            "b: tf.Tensor(2, shape=(), dtype=int32)\n"
          ],
          "name": "stdout"
        }
      ]
    },
    {
      "cell_type": "code",
      "metadata": {
        "colab": {
          "base_uri": "https://localhost:8080/"
        },
        "id": "BcD7j0wkjvRF",
        "outputId": "45dfb4b9-7bef-44b6-924a-f231e32ae750"
      },
      "source": [
        "# 랭크 확인하기\n",
        "print(tf.rank(a))"
      ],
      "execution_count": null,
      "outputs": [
        {
          "output_type": "stream",
          "text": [
            "tf.Tensor(0, shape=(), dtype=int32)\n"
          ],
          "name": "stdout"
        }
      ]
    },
    {
      "cell_type": "code",
      "metadata": {
        "colab": {
          "base_uri": "https://localhost:8080/"
        },
        "id": "LzF4waA5k7l0",
        "outputId": "546f255c-ebe1-4586-a9f8-69d6072741a6"
      },
      "source": [
        "# 자료형 변환\n",
        "a = tf.cast(a, tf.float32)\n",
        "b = tf.cast(b, tf.float32)\n",
        "print(a.dtype)\n",
        "print(b.dtype)"
      ],
      "execution_count": null,
      "outputs": [
        {
          "output_type": "stream",
          "text": [
            "<dtype: 'float32'>\n",
            "<dtype: 'float32'>\n"
          ],
          "name": "stdout"
        }
      ]
    },
    {
      "cell_type": "code",
      "metadata": {
        "id": "M1AYD2Q3j0BW",
        "colab": {
          "base_uri": "https://localhost:8080/"
        },
        "outputId": "80afa98d-b619-41a5-c004-b65a98ae54bb"
      },
      "source": [
        "# 덧셈\n",
        "c = tf.math.add(a, b)\n",
        "print(\"result:\", c)\n",
        "print(\"rank:\", tf.rank(c))"
      ],
      "execution_count": null,
      "outputs": [
        {
          "output_type": "stream",
          "text": [
            "result: tf.Tensor(3.0, shape=(), dtype=float32)\n",
            "rank: tf.Tensor(0, shape=(), dtype=int32)\n"
          ],
          "name": "stdout"
        }
      ]
    },
    {
      "cell_type": "code",
      "metadata": {
        "colab": {
          "base_uri": "https://localhost:8080/"
        },
        "id": "IsCzntbMehfU",
        "outputId": "f59c8a52-0797-44a3-85a4-b2f0d9f9e709"
      },
      "source": [
        "# 뺄셈\n",
        "print( tf.math.subtract(a, b) )"
      ],
      "execution_count": null,
      "outputs": [
        {
          "output_type": "stream",
          "text": [
            "tf.Tensor(-1.0, shape=(), dtype=float32)\n"
          ],
          "name": "stdout"
        }
      ]
    },
    {
      "cell_type": "code",
      "metadata": {
        "colab": {
          "base_uri": "https://localhost:8080/"
        },
        "id": "IQ1n6riLehfV",
        "outputId": "318adb44-2882-4297-f98d-b4feaccbb55f"
      },
      "source": [
        "# 곱셈\n",
        "print( tf.math.multiply(a, b) )"
      ],
      "execution_count": null,
      "outputs": [
        {
          "output_type": "stream",
          "text": [
            "tf.Tensor(2.0, shape=(), dtype=float32)\n"
          ],
          "name": "stdout"
        }
      ]
    },
    {
      "cell_type": "code",
      "metadata": {
        "colab": {
          "base_uri": "https://localhost:8080/"
        },
        "id": "zaqzWDt2ehfV",
        "outputId": "83dd22be-5ecc-47f8-ba3d-00da5d593652"
      },
      "source": [
        "# 나눗셈\n",
        "print( tf.math.divide(a, b) )"
      ],
      "execution_count": null,
      "outputs": [
        {
          "output_type": "stream",
          "text": [
            "tf.Tensor(0.5, shape=(), dtype=float32)\n"
          ],
          "name": "stdout"
        }
      ]
    },
    {
      "cell_type": "code",
      "metadata": {
        "colab": {
          "base_uri": "https://localhost:8080/"
        },
        "id": "_wS0AEaNehfV",
        "outputId": "f905f0bf-3af6-4398-ca92-1f7e4a7039ff"
      },
      "source": [
        "# 나눗셈 (나머지)\n",
        "print( tf.math.mod(a, b) )"
      ],
      "execution_count": null,
      "outputs": [
        {
          "output_type": "stream",
          "text": [
            "tf.Tensor(1.0, shape=(), dtype=float32)\n"
          ],
          "name": "stdout"
        }
      ]
    },
    {
      "cell_type": "code",
      "metadata": {
        "colab": {
          "base_uri": "https://localhost:8080/"
        },
        "id": "AsLYmuyAehfV",
        "outputId": "920aadbf-b847-4362-8f72-9c77f971e3c3"
      },
      "source": [
        "# 나눗셈 (몫)\n",
        "print( tf.math.floordiv(a, b) )"
      ],
      "execution_count": null,
      "outputs": [
        {
          "output_type": "stream",
          "text": [
            "tf.Tensor(0.0, shape=(), dtype=float32)\n"
          ],
          "name": "stdout"
        }
      ]
    }
  ]
}