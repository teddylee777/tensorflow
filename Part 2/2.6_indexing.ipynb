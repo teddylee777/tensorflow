{
  "nbformat": 4,
  "nbformat_minor": 0,
  "metadata": {
    "colab": {
      "name": "2.6_indexing.ipynb",
      "provenance": [],
      "collapsed_sections": []
    },
    "kernelspec": {
      "name": "python3",
      "display_name": "Python 3"
    },
    "language_info": {
      "name": "python"
    }
  },
  "cells": [
    {
      "cell_type": "markdown",
      "metadata": {
        "id": "5dnu5NnFtHQw"
      },
      "source": [
        "[구글 코랩(Colab)에서 실행하기](https://colab.research.google.com/github/lovedlim/tensorflow/blob/main/Part%202/2.6_indexing.ipynb)"
      ]
    },
    {
      "cell_type": "code",
      "metadata": {
        "colab": {
          "base_uri": "https://localhost:8080/"
        },
        "id": "CCKv3tPbjl8v",
        "outputId": "9a7c321a-5dfb-4e5a-974a-43905f897d8b"
      },
      "source": [
        "# 텐서플로 불러오기\n",
        "import tensorflow as tf\n",
        "\n",
        "# 벡터 정의하기\n",
        "vec = tf.constant([10, 20, 30, 40, 50])\n",
        "print(vec)"
      ],
      "execution_count": null,
      "outputs": [
        {
          "output_type": "stream",
          "text": [
            "tf.Tensor([10 20 30 40 50], shape=(5,), dtype=int32)\n"
          ],
          "name": "stdout"
        }
      ]
    },
    {
      "cell_type": "code",
      "metadata": {
        "id": "2NUpwkm2XBSu",
        "colab": {
          "base_uri": "https://localhost:8080/"
        },
        "outputId": "a3a4a019-9ec1-41c2-f047-48297590e6f2"
      },
      "source": [
        "print(vec[0])"
      ],
      "execution_count": null,
      "outputs": [
        {
          "output_type": "stream",
          "text": [
            "tf.Tensor(10, shape=(), dtype=int32)\n"
          ],
          "name": "stdout"
        }
      ]
    },
    {
      "cell_type": "code",
      "metadata": {
        "id": "4DQMPhHSXBSv",
        "colab": {
          "base_uri": "https://localhost:8080/"
        },
        "outputId": "007657ff-5c0b-4a2b-d4e5-8dc55a4d989f"
      },
      "source": [
        "print(vec[-1])"
      ],
      "execution_count": null,
      "outputs": [
        {
          "output_type": "stream",
          "text": [
            "tf.Tensor(50, shape=(), dtype=int32)\n"
          ],
          "name": "stdout"
        }
      ]
    },
    {
      "cell_type": "code",
      "metadata": {
        "id": "Wm7Xy64zXBSv",
        "colab": {
          "base_uri": "https://localhost:8080/"
        },
        "outputId": "bf3136ae-b46e-46a0-d153-81631fe8c66f"
      },
      "source": [
        "print(vec[:3])"
      ],
      "execution_count": null,
      "outputs": [
        {
          "output_type": "stream",
          "text": [
            "tf.Tensor([10 20 30], shape=(3,), dtype=int32)\n"
          ],
          "name": "stdout"
        }
      ]
    },
    {
      "cell_type": "code",
      "metadata": {
        "id": "G4hWvyYNXBSv",
        "colab": {
          "base_uri": "https://localhost:8080/"
        },
        "outputId": "589568ad-ca3f-4521-a574-13b260679e47"
      },
      "source": [
        "# 행렬 정의하기\n",
        "mat = tf.constant([[10, 20, 30], \n",
        "                    [40, 50, 60]])\n",
        "\n",
        "print(mat[0, 2])"
      ],
      "execution_count": null,
      "outputs": [
        {
          "output_type": "stream",
          "text": [
            "tf.Tensor(30, shape=(), dtype=int32)\n"
          ],
          "name": "stdout"
        }
      ]
    },
    {
      "cell_type": "code",
      "metadata": {
        "id": "RxfRH80MXBSw",
        "colab": {
          "base_uri": "https://localhost:8080/"
        },
        "outputId": "8b5cac32-fa33-41ee-99c7-35ebc6877ab5"
      },
      "source": [
        "print(mat[0, :])"
      ],
      "execution_count": null,
      "outputs": [
        {
          "output_type": "stream",
          "text": [
            "tf.Tensor([10 20 30], shape=(3,), dtype=int32)\n"
          ],
          "name": "stdout"
        }
      ]
    },
    {
      "cell_type": "code",
      "metadata": {
        "id": "81D5HCahXBSw",
        "colab": {
          "base_uri": "https://localhost:8080/"
        },
        "outputId": "524c88e0-119f-4a2e-f15f-4cbb0e8455d9"
      },
      "source": [
        "print(mat[:, 1])"
      ],
      "execution_count": null,
      "outputs": [
        {
          "output_type": "stream",
          "text": [
            "tf.Tensor([20 50], shape=(2,), dtype=int32)\n"
          ],
          "name": "stdout"
        }
      ]
    },
    {
      "cell_type": "code",
      "metadata": {
        "id": "11RLfkFwXBSw",
        "colab": {
          "base_uri": "https://localhost:8080/"
        },
        "outputId": "2b7b065c-ba23-436d-9f92-20b91a9ce9a9"
      },
      "source": [
        "print(mat[:, :])"
      ],
      "execution_count": null,
      "outputs": [
        {
          "output_type": "stream",
          "text": [
            "tf.Tensor(\n",
            "[[10 20 30]\n",
            " [40 50 60]], shape=(2, 3), dtype=int32)\n"
          ],
          "name": "stdout"
        }
      ]
    },
    {
      "cell_type": "code",
      "metadata": {
        "id": "S_-ZW42fXBSw",
        "colab": {
          "base_uri": "https://localhost:8080/"
        },
        "outputId": "ff7cdb02-e254-4996-dcf0-872e21c7f2df"
      },
      "source": [
        "# 랭크-3 텐서 정의하기\n",
        "tensor = tf.constant([\n",
        "    [[10, 20, 30], \n",
        "     [40, 50, 60]],\n",
        "    [[-10, -20, -30], \n",
        "     [-40, -50, -60]],   \n",
        "])\n",
        "print(tensor)"
      ],
      "execution_count": null,
      "outputs": [
        {
          "output_type": "stream",
          "text": [
            "tf.Tensor(\n",
            "[[[ 10  20  30]\n",
            "  [ 40  50  60]]\n",
            "\n",
            " [[-10 -20 -30]\n",
            "  [-40 -50 -60]]], shape=(2, 2, 3), dtype=int32)\n"
          ],
          "name": "stdout"
        }
      ]
    },
    {
      "cell_type": "code",
      "metadata": {
        "id": "zcwRlJ0iXBSx",
        "colab": {
          "base_uri": "https://localhost:8080/"
        },
        "outputId": "93ffc8af-91f7-4fc3-b2a5-3cb3ba8ac0b0"
      },
      "source": [
        "print(tensor[0, :, :])"
      ],
      "execution_count": null,
      "outputs": [
        {
          "output_type": "stream",
          "text": [
            "tf.Tensor(\n",
            "[[10 20 30]\n",
            " [40 50 60]], shape=(2, 3), dtype=int32)\n"
          ],
          "name": "stdout"
        }
      ]
    },
    {
      "cell_type": "code",
      "metadata": {
        "id": "JOCWM5tcXBSx",
        "colab": {
          "base_uri": "https://localhost:8080/"
        },
        "outputId": "9f2b0da2-39d8-4b41-eec4-1459cd0025d0"
      },
      "source": [
        "print(tensor[:, :2, :2])"
      ],
      "execution_count": null,
      "outputs": [
        {
          "output_type": "stream",
          "text": [
            "tf.Tensor(\n",
            "[[[ 10  20]\n",
            "  [ 40  50]]\n",
            "\n",
            " [[-10 -20]\n",
            "  [-40 -50]]], shape=(2, 2, 2), dtype=int32)\n"
          ],
          "name": "stdout"
        }
      ]
    }
  ]
}