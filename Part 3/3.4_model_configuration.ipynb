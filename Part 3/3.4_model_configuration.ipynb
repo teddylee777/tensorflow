{
  "nbformat": 4,
  "nbformat_minor": 0,
  "metadata": {
    "colab": {
      "name": "3.4_model_configuration.ipynb",
      "provenance": [],
      "collapsed_sections": []
    },
    "kernelspec": {
      "name": "python3",
      "display_name": "Python 3"
    },
    "language_info": {
      "name": "python"
    }
  },
  "cells": [
    {
      "cell_type": "markdown",
      "metadata": {
        "id": "-u-G6ErWhjSb"
      },
      "source": [
        "[구글 코랩(Colab)에서 실행하기](https://colab.research.google.com/github/lovedlim/tensorflow/blob/main/Part%203/3.4_model_configuration.ipynb)"
      ]
    },
    {
      "cell_type": "code",
      "metadata": {
        "colab": {
          "base_uri": "https://localhost:8080/"
        },
        "id": "dXaEMD0jt0d3",
        "outputId": "f4f66ed2-e3eb-4c95-bbb4-a105065c5d99"
      },
      "source": [
        "import tensorflow as tf\n",
        "\n",
        "# 케라스의 내장 데이터셋에서 mnist 데이터셋을 로드\n",
        "mnist = tf.keras.datasets.mnist\n",
        "\n",
        "# load_data()로 데이터셋을 로드 합니다.\n",
        "(x_train, y_train), (x_test, y_test) = mnist.load_data()\n",
        "\n",
        "# 로드된 데이터셋 확인\n",
        "print('train set: ', x_train.shape, y_train.shape)\n",
        "print('test  set: ', x_test.shape, y_test.shape)\n",
        "\n",
        "# 데이터 정규화\n",
        "x_train = x_train / x_train.max() # max: 255\n",
        "x_test = x_test / x_test.max() # max: 255"
      ],
      "execution_count": null,
      "outputs": [
        {
          "output_type": "stream",
          "text": [
            "train set:  (60000, 28, 28) (60000,)\n",
            "test  set:  (10000, 28, 28) (10000,)\n"
          ],
          "name": "stdout"
        }
      ]
    },
    {
      "cell_type": "markdown",
      "metadata": {
        "id": "YImkI8kKzypT"
      },
      "source": [
        "## 4-1. 초기화"
      ]
    },
    {
      "cell_type": "code",
      "metadata": {
        "colab": {
          "base_uri": "https://localhost:8080/"
        },
        "id": "16IWTVpMvAlR",
        "outputId": "214ae15d-2e23-490c-9a1b-d71f35ffe830"
      },
      "source": [
        "dense = tf.keras.layers.Dense(256, activation='relu')\n",
        "dense.get_config()['kernel_initializer']"
      ],
      "execution_count": null,
      "outputs": [
        {
          "output_type": "execute_result",
          "data": {
            "text/plain": [
              "{'class_name': 'GlorotUniform', 'config': {'seed': None}}"
            ]
          },
          "metadata": {
            "tags": []
          },
          "execution_count": 2
        }
      ]
    },
    {
      "cell_type": "code",
      "metadata": {
        "colab": {
          "base_uri": "https://localhost:8080/"
        },
        "id": "kSyO19Pzuh2C",
        "outputId": "92d2df25-f33a-46ed-fcb5-d7c86e26e812"
      },
      "source": [
        "# he normal 초기화\n",
        "dense = tf.keras.layers.Dense(256, kernel_initializer='he_normal', activation='relu')\n",
        "dense.get_config()['kernel_initializer']"
      ],
      "execution_count": null,
      "outputs": [
        {
          "output_type": "execute_result",
          "data": {
            "text/plain": [
              "{'class_name': 'HeNormal', 'config': {'seed': None}}"
            ]
          },
          "metadata": {
            "tags": []
          },
          "execution_count": 3
        }
      ]
    },
    {
      "cell_type": "code",
      "metadata": {
        "colab": {
          "base_uri": "https://localhost:8080/"
        },
        "id": "NlEK1gXsxHly",
        "outputId": "738459a8-db17-482c-dec3-3b6da377f983"
      },
      "source": [
        "# 클래스 인스턴스 초기화\n",
        "he_normal = tf.keras.initializers.HeNormal()\n",
        "dense = tf.keras.layers.Dense(256, kernel_initializer=he_normal, activation='relu')\n",
        "dense.get_config()['kernel_initializer']"
      ],
      "execution_count": null,
      "outputs": [
        {
          "output_type": "execute_result",
          "data": {
            "text/plain": [
              "{'class_name': 'HeNormal', 'config': {'seed': None}}"
            ]
          },
          "metadata": {
            "tags": []
          },
          "execution_count": 4
        }
      ]
    },
    {
      "cell_type": "markdown",
      "metadata": {
        "id": "RLvhyVBuzwkp"
      },
      "source": [
        "## 4-2. 규제"
      ]
    },
    {
      "cell_type": "code",
      "metadata": {
        "colab": {
          "base_uri": "https://localhost:8080/"
        },
        "id": "9bX0zFe40Cdf",
        "outputId": "02d751d4-7cb2-42ac-f6cf-82d7f3ff4985"
      },
      "source": [
        "# 기본 값\n",
        "dense = tf.keras.layers.Dense(256, activation='relu')\n",
        "dense.get_config()"
      ],
      "execution_count": null,
      "outputs": [
        {
          "output_type": "execute_result",
          "data": {
            "text/plain": [
              "{'activation': 'relu',\n",
              " 'activity_regularizer': None,\n",
              " 'bias_constraint': None,\n",
              " 'bias_initializer': {'class_name': 'Zeros', 'config': {}},\n",
              " 'bias_regularizer': None,\n",
              " 'dtype': 'float32',\n",
              " 'kernel_constraint': None,\n",
              " 'kernel_initializer': {'class_name': 'GlorotUniform',\n",
              "  'config': {'seed': None}},\n",
              " 'kernel_regularizer': None,\n",
              " 'name': 'dense_3',\n",
              " 'trainable': True,\n",
              " 'units': 256,\n",
              " 'use_bias': True}"
            ]
          },
          "metadata": {
            "tags": []
          },
          "execution_count": 5
        }
      ]
    },
    {
      "cell_type": "code",
      "metadata": {
        "colab": {
          "base_uri": "https://localhost:8080/"
        },
        "id": "nBMmB6CJzvnk",
        "outputId": "aab46058-f149-478e-8f09-ec2bdacb045e"
      },
      "source": [
        "# l1 규제 적용\n",
        "dense = tf.keras.layers.Dense(256, kernel_regularizer='l1', activation='relu')\n",
        "print(dense.get_config()['kernel_regularizer'])\n",
        "\n",
        "# 클래스 인스턴스 적용, alpha 값 변경\n",
        "regularizer = tf.keras.regularizers.l1(l1=0.1)\n",
        "dense = tf.keras.layers.Dense(256, kernel_regularizer=regularizer, activation='relu')\n",
        "print(dense.get_config()['kernel_regularizer'])"
      ],
      "execution_count": null,
      "outputs": [
        {
          "output_type": "stream",
          "text": [
            "{'class_name': 'L1', 'config': {'l1': 0.009999999776482582}}\n",
            "{'class_name': 'L1', 'config': {'l1': 0.10000000149011612}}\n"
          ],
          "name": "stdout"
        }
      ]
    },
    {
      "cell_type": "markdown",
      "metadata": {
        "id": "yGLMFgK220bh"
      },
      "source": [
        "## 4-3. 드랍아웃"
      ]
    },
    {
      "cell_type": "code",
      "metadata": {
        "colab": {
          "base_uri": "https://localhost:8080/"
        },
        "id": "_2nE5yoI2rIa",
        "outputId": "7472e8bf-26b1-4427-8ee8-3ea80fda6aa0"
      },
      "source": [
        "# Dropout 25% 비율 적용 (25%의 노드가 삭제)\n",
        "tf.keras.layers.Dropout(0.25)"
      ],
      "execution_count": null,
      "outputs": [
        {
          "output_type": "execute_result",
          "data": {
            "text/plain": [
              "<tensorflow.python.keras.layers.core.Dropout at 0x7f0fca87e1d0>"
            ]
          },
          "metadata": {
            "tags": []
          },
          "execution_count": 7
        }
      ]
    },
    {
      "cell_type": "markdown",
      "metadata": {
        "id": "TSPUXVR2J11X"
      },
      "source": [
        "## 4-4. 배치 정규화"
      ]
    },
    {
      "cell_type": "code",
      "metadata": {
        "colab": {
          "base_uri": "https://localhost:8080/"
        },
        "id": "wn4CWL_K3tkc",
        "outputId": "6b15658c-2360-41c7-d132-6b04888c84d1"
      },
      "source": [
        "# Model A: Dense + ReLU\n",
        "model_a = tf.keras.Sequential([\n",
        "    tf.keras.layers.Flatten(input_shape=(28, 28)),\n",
        "    tf.keras.layers.Dense(64, activation='relu'),\n",
        "    tf.keras.layers.Dense(32, activation='relu'),\n",
        "    tf.keras.layers.Dense(10, activation='softmax'),\n",
        "])\n",
        "model_a.summary()"
      ],
      "execution_count": null,
      "outputs": [
        {
          "output_type": "stream",
          "text": [
            "Model: \"sequential\"\n",
            "_________________________________________________________________\n",
            "Layer (type)                 Output Shape              Param #   \n",
            "=================================================================\n",
            "flatten (Flatten)            (None, 784)               0         \n",
            "_________________________________________________________________\n",
            "dense_6 (Dense)              (None, 64)                50240     \n",
            "_________________________________________________________________\n",
            "dense_7 (Dense)              (None, 32)                2080      \n",
            "_________________________________________________________________\n",
            "dense_8 (Dense)              (None, 10)                330       \n",
            "=================================================================\n",
            "Total params: 52,650\n",
            "Trainable params: 52,650\n",
            "Non-trainable params: 0\n",
            "_________________________________________________________________\n"
          ],
          "name": "stdout"
        }
      ]
    },
    {
      "cell_type": "code",
      "metadata": {
        "id": "Sjh59kkOuDhA",
        "colab": {
          "base_uri": "https://localhost:8080/"
        },
        "outputId": "50e60c02-b083-4d22-9679-5e83f68e4776"
      },
      "source": [
        "# Model B: Dense + BatchNorm + ReLU\n",
        "model_b = tf.keras.Sequential([\n",
        "    tf.keras.layers.Flatten(input_shape=(28, 28)),\n",
        "    tf.keras.layers.Dense(64),\n",
        "    # 배치정규화 적용\n",
        "    tf.keras.layers.BatchNormalization(),\n",
        "    # 배치정규화 후 활성화 함수 적용\n",
        "    tf.keras.layers.Activation('relu'),\n",
        "\n",
        "    tf.keras.layers.Dense(32),\n",
        "    # 배치정규화 적용\n",
        "    tf.keras.layers.BatchNormalization(),\n",
        "    # 배치정규화 후 활성화 함수 적용\n",
        "    tf.keras.layers.Activation('relu'),\n",
        "\n",
        "    tf.keras.layers.Dense(10, activation='softmax'),\n",
        "])\n",
        "model_b.summary()"
      ],
      "execution_count": null,
      "outputs": [
        {
          "output_type": "stream",
          "text": [
            "Model: \"sequential_1\"\n",
            "_________________________________________________________________\n",
            "Layer (type)                 Output Shape              Param #   \n",
            "=================================================================\n",
            "flatten_1 (Flatten)          (None, 784)               0         \n",
            "_________________________________________________________________\n",
            "dense_9 (Dense)              (None, 64)                50240     \n",
            "_________________________________________________________________\n",
            "batch_normalization (BatchNo (None, 64)                256       \n",
            "_________________________________________________________________\n",
            "activation (Activation)      (None, 64)                0         \n",
            "_________________________________________________________________\n",
            "dense_10 (Dense)             (None, 32)                2080      \n",
            "_________________________________________________________________\n",
            "batch_normalization_1 (Batch (None, 32)                128       \n",
            "_________________________________________________________________\n",
            "activation_1 (Activation)    (None, 32)                0         \n",
            "_________________________________________________________________\n",
            "dense_11 (Dense)             (None, 10)                330       \n",
            "=================================================================\n",
            "Total params: 53,034\n",
            "Trainable params: 52,842\n",
            "Non-trainable params: 192\n",
            "_________________________________________________________________\n"
          ],
          "name": "stdout"
        }
      ]
    },
    {
      "cell_type": "markdown",
      "metadata": {
        "id": "rkbav_uwJ6Tq"
      },
      "source": [
        "## 4-5. 활성화 함수"
      ]
    },
    {
      "cell_type": "code",
      "metadata": {
        "id": "ioLNEQNg3T8u",
        "colab": {
          "base_uri": "https://localhost:8080/"
        },
        "outputId": "07765969-d80b-409d-ba9b-f36fe8910494"
      },
      "source": [
        "# LeakyReLU 기본 설정\n",
        "tf.keras.layers.LeakyReLU()\n",
        "\n",
        "# LeakyReLU, alpha=0.2 로 변경\n",
        "tf.keras.layers.LeakyReLU(alpha=0.2)"
      ],
      "execution_count": null,
      "outputs": [
        {
          "output_type": "execute_result",
          "data": {
            "text/plain": [
              "<tensorflow.python.keras.layers.advanced_activations.LeakyReLU at 0x7f0f95bf2450>"
            ]
          },
          "metadata": {
            "tags": []
          },
          "execution_count": 10
        }
      ]
    },
    {
      "cell_type": "code",
      "metadata": {
        "id": "CHsonIffUsL2",
        "colab": {
          "base_uri": "https://localhost:8080/"
        },
        "outputId": "3a005223-eb4d-4fe3-8d64-220b73f0cdbc"
      },
      "source": [
        "# Model C: Dense + BatchNorm + LeakyReLU(0.2)\n",
        "model_c = tf.keras.Sequential([\n",
        "    tf.keras.layers.Flatten(input_shape=(28, 28)),\n",
        "    tf.keras.layers.Dense(64),\n",
        "    # 배치정규화 적용\n",
        "    tf.keras.layers.BatchNormalization(),\n",
        "    # LeakyReLU, alpha=0.2 적용\n",
        "    tf.keras.layers.LeakyReLU(alpha=0.2),\n",
        "\n",
        "    tf.keras.layers.Dense(32),\n",
        "    # 배치정규화 적용\n",
        "    tf.keras.layers.BatchNormalization(),\n",
        "    # LeakyReLU, alpha=0.2 적용\n",
        "    tf.keras.layers.LeakyReLU(alpha=0.2),\n",
        "\n",
        "    tf.keras.layers.Dense(10, activation='softmax'),\n",
        "])\n",
        "\n",
        "# 모델 요약\n",
        "model_c.summary()"
      ],
      "execution_count": null,
      "outputs": [
        {
          "output_type": "stream",
          "text": [
            "Model: \"sequential_2\"\n",
            "_________________________________________________________________\n",
            "Layer (type)                 Output Shape              Param #   \n",
            "=================================================================\n",
            "flatten_2 (Flatten)          (None, 784)               0         \n",
            "_________________________________________________________________\n",
            "dense_12 (Dense)             (None, 64)                50240     \n",
            "_________________________________________________________________\n",
            "batch_normalization_2 (Batch (None, 64)                256       \n",
            "_________________________________________________________________\n",
            "leaky_re_lu_2 (LeakyReLU)    (None, 64)                0         \n",
            "_________________________________________________________________\n",
            "dense_13 (Dense)             (None, 32)                2080      \n",
            "_________________________________________________________________\n",
            "batch_normalization_3 (Batch (None, 32)                128       \n",
            "_________________________________________________________________\n",
            "leaky_re_lu_3 (LeakyReLU)    (None, 32)                0         \n",
            "_________________________________________________________________\n",
            "dense_14 (Dense)             (None, 10)                330       \n",
            "=================================================================\n",
            "Total params: 53,034\n",
            "Trainable params: 52,842\n",
            "Non-trainable params: 192\n",
            "_________________________________________________________________\n"
          ],
          "name": "stdout"
        }
      ]
    },
    {
      "cell_type": "code",
      "metadata": {
        "id": "QO4hIMAn0JiS"
      },
      "source": [
        "model_a.compile(optimizer='adam', loss='sparse_categorical_crossentropy', metrics=['accuracy'])\n",
        "model_b.compile(optimizer='adam', loss='sparse_categorical_crossentropy', metrics=['accuracy'])\n",
        "model_c.compile(optimizer='adam', loss='sparse_categorical_crossentropy', metrics=['accuracy'])\n",
        "\n",
        "# Model A: Dense + ReLU\n",
        "history_a = model_a.fit(x_train, y_train, \n",
        "                        validation_data=(x_test, y_test), \n",
        "                        epochs=10)\n",
        "\n",
        "# Model B: Dense + BatchNorm + ReLU\n",
        "history_b = model_b.fit(x_train, y_train, \n",
        "                        validation_data=(x_test, y_test), \n",
        "                        epochs=10)\n",
        "\n",
        "# Model C: Dense + BatchNorm + LeakyReLU(0.2)\n",
        "history_c = model_c.fit(x_train, y_train, \n",
        "                        validation_data=(x_test, y_test), \n",
        "                        epochs=10)"
      ],
      "execution_count": null,
      "outputs": []
    },
    {
      "cell_type": "code",
      "metadata": {
        "colab": {
          "base_uri": "https://localhost:8080/",
          "height": 572
        },
        "id": "_mkn51mV0koD",
        "outputId": "9661cdd5-2d7c-4030-ec80-2bf40a6504ed"
      },
      "source": [
        "import matplotlib.pyplot as plt\n",
        "import numpy as np\n",
        "\n",
        "plt.figure(figsize=(12, 9))\n",
        "plt.plot(np.arange(1, 11), history_a.history['val_loss'], color='navy', linestyle=':')\n",
        "plt.plot(np.arange(1, 11), history_b.history['val_loss'], color='tomato', linestyle='-.')\n",
        "plt.plot(np.arange(1, 11), history_c.history['val_loss'], color='green', linestyle='-')\n",
        "\n",
        "plt.title('Losses', fontsize=20)\n",
        "plt.xlabel('Epochs')\n",
        "plt.ylabel('Losses')\n",
        "plt.legend(['ReLU', 'BatchNorm + ReLU','batchnorm + LeakyReLU'], fontsize=12)\n",
        "plt.show()"
      ],
      "execution_count": null,
      "outputs": [
        {
          "output_type": "display_data",
          "data": {
            "image/png": "[encoded data removed]",
            "text/plain": [
              "<Figure size 864x648 with 1 Axes>"
            ]
          },
          "metadata": {
            "tags": [],
            "needs_background": "light"
          }
        }
      ]
    }
  ]
}