{
  "nbformat": 4,
  "nbformat_minor": 0,
  "metadata": {
    "colab": {
      "name": "3.6_model_save_load.ipynb",
      "provenance": [],
      "collapsed_sections": []
    },
    "kernelspec": {
      "name": "python3",
      "display_name": "Python 3"
    },
    "language_info": {
      "name": "python"
    },
    "accelerator": "GPU"
  },
  "cells": [
    {
      "cell_type": "markdown",
      "metadata": {
        "id": "AumqPzjMh-yR"
      },
      "source": [
        "[구글 코랩(Colab)에서 실행하기](https://colab.research.google.com/github/lovedlim/tensorflow/blob/main/Part%203/3.6_model_save_load.ipynb)"
      ]
    },
    {
      "cell_type": "code",
      "metadata": {
        "id": "KyNMoYyfog0w",
        "colab": {
          "base_uri": "https://localhost:8080/"
        },
        "outputId": "89bdfa19-50dd-4c98-f56c-b64a9fbb9d6d"
      },
      "source": [
        "import tensorflow as tf\n",
        "\n",
        "# 케라스의 내장 데이터셋에서 mnist 데이터셋을 로드\n",
        "mnist = tf.keras.datasets.mnist\n",
        "\n",
        "# load_data()로 데이터셋을 로드 합니다.\n",
        "(x_train, y_train), (x_test, y_test) = mnist.load_data()\n",
        "\n",
        "# 데이터 정규화\n",
        "x_train = x_train / x_train.max()\n",
        "x_test = x_test / x_test.max()"
      ],
      "execution_count": null,
      "outputs": [
        {
          "output_type": "stream",
          "text": [
            "Downloading data from https://storage.googleapis.com/tensorflow/tf-keras-datasets/mnist.npz\n",
            "11493376/11490434 [==============================] - 0s 0us/step\n"
          ],
          "name": "stdout"
        }
      ]
    },
    {
      "cell_type": "code",
      "metadata": {
        "colab": {
          "base_uri": "https://localhost:8080/"
        },
        "id": "NbSqS5jDobyE",
        "outputId": "0315e97a-de8f-46f1-db11-3e3c3143e79b"
      },
      "source": [
        "model = tf.keras.Sequential([\n",
        "    tf.keras.layers.Flatten(input_shape=(28, 28)), \n",
        "    tf.keras.layers.Dense(256, activation='relu'), \n",
        "    tf.keras.layers.Dense(64, activation='relu'), \n",
        "    tf.keras.layers.Dense(32, activation='relu'), \n",
        "    tf.keras.layers.Dense(10, activation='softmax'), # 노드는 10개가 되어야 한다.\n",
        "])\n",
        "\n",
        "model.compile(optimizer='adam', loss='sparse_categorical_crossentropy', metrics=['accuracy'])\n",
        "\n",
        "model.fit(x_train, y_train,\n",
        "            validation_data=(x_test, y_test), \n",
        "            epochs=10, \n",
        "            )"
      ],
      "execution_count": null,
      "outputs": [
        {
          "output_type": "stream",
          "text": [
            "Epoch 1/10\n",
            "1875/1875 [==============================] - 8s 3ms/step - loss: 0.4112 - accuracy: 0.8764 - val_loss: 0.0986 - val_accuracy: 0.9696\n",
            "Epoch 2/10\n",
            "1875/1875 [==============================] - 5s 3ms/step - loss: 0.0947 - accuracy: 0.9707 - val_loss: 0.0972 - val_accuracy: 0.9715\n",
            "Epoch 3/10\n",
            "1875/1875 [==============================] - 5s 3ms/step - loss: 0.0611 - accuracy: 0.9814 - val_loss: 0.0772 - val_accuracy: 0.9757\n",
            "Epoch 4/10\n",
            "1875/1875 [==============================] - 5s 3ms/step - loss: 0.0432 - accuracy: 0.9866 - val_loss: 0.0880 - val_accuracy: 0.9737\n",
            "Epoch 5/10\n",
            "1875/1875 [==============================] - 5s 3ms/step - loss: 0.0355 - accuracy: 0.9886 - val_loss: 0.0806 - val_accuracy: 0.9778\n",
            "Epoch 6/10\n",
            "1875/1875 [==============================] - 5s 3ms/step - loss: 0.0281 - accuracy: 0.9910 - val_loss: 0.0839 - val_accuracy: 0.9778\n",
            "Epoch 7/10\n",
            "1875/1875 [==============================] - 5s 3ms/step - loss: 0.0263 - accuracy: 0.9916 - val_loss: 0.0895 - val_accuracy: 0.9771\n",
            "Epoch 8/10\n",
            "1875/1875 [==============================] - 5s 3ms/step - loss: 0.0212 - accuracy: 0.9934 - val_loss: 0.0938 - val_accuracy: 0.9766\n",
            "Epoch 9/10\n",
            "1875/1875 [==============================] - 5s 3ms/step - loss: 0.0197 - accuracy: 0.9935 - val_loss: 0.0822 - val_accuracy: 0.9799\n",
            "Epoch 10/10\n",
            "1875/1875 [==============================] - 5s 3ms/step - loss: 0.0179 - accuracy: 0.9938 - val_loss: 0.1269 - val_accuracy: 0.9736\n"
          ],
          "name": "stdout"
        },
        {
          "output_type": "execute_result",
          "data": {
            "text/plain": [
              "<tensorflow.python.keras.callbacks.History at 0x7f3681f4d710>"
            ]
          },
          "metadata": {
            "tags": []
          },
          "execution_count": 2
        }
      ]
    },
    {
      "cell_type": "markdown",
      "metadata": {
        "id": "2w1VlK0TOOx2"
      },
      "source": [
        "## 6-1. 모델을 파일로 저장"
      ]
    },
    {
      "cell_type": "code",
      "metadata": {
        "id": "idkqd8ntonY6"
      },
      "source": [
        "# 모델을 h5 포맷으로 저장\n",
        "model.save('h5-model.h5')"
      ],
      "execution_count": null,
      "outputs": []
    },
    {
      "cell_type": "markdown",
      "metadata": {
        "id": "geoiVzC2OR3i"
      },
      "source": [
        "## 6-2. 저장된 모델을 복원"
      ]
    },
    {
      "cell_type": "code",
      "metadata": {
        "colab": {
          "base_uri": "https://localhost:8080/"
        },
        "id": "jgpwTMQOpD0e",
        "outputId": "723e1c59-ff4c-423a-9fd1-c300e0e7460f"
      },
      "source": [
        "# 모델 복원\n",
        "h5_model = tf.keras.models.load_model('h5-model.h5')\n",
        "h5_model.summary()"
      ],
      "execution_count": null,
      "outputs": [
        {
          "output_type": "stream",
          "text": [
            "Model: \"sequential\"\n",
            "_________________________________________________________________\n",
            "Layer (type)                 Output Shape              Param #   \n",
            "=================================================================\n",
            "flatten (Flatten)            (None, 784)               0         \n",
            "_________________________________________________________________\n",
            "dense (Dense)                (None, 256)               200960    \n",
            "_________________________________________________________________\n",
            "dense_1 (Dense)              (None, 64)                16448     \n",
            "_________________________________________________________________\n",
            "dense_2 (Dense)              (None, 32)                2080      \n",
            "_________________________________________________________________\n",
            "dense_3 (Dense)              (None, 10)                330       \n",
            "=================================================================\n",
            "Total params: 219,818\n",
            "Trainable params: 219,818\n",
            "Non-trainable params: 0\n",
            "_________________________________________________________________\n"
          ],
          "name": "stdout"
        }
      ]
    },
    {
      "cell_type": "code",
      "metadata": {
        "colab": {
          "base_uri": "https://localhost:8080/"
        },
        "id": "CCOb4DKRpUxx",
        "outputId": "21d9ee7c-e0f3-416c-edb0-2f23ad222a72"
      },
      "source": [
        "# 모델 검증\n",
        "loss, acc = h5_model.evaluate(x_test, y_test, verbose=0)\n",
        "print(f'h5 model] loss: {loss:.5f}, acc: {acc:.5f}')"
      ],
      "execution_count": null,
      "outputs": [
        {
          "output_type": "stream",
          "text": [
            "h5 model] loss: 0.12686, acc: 0.97360\n"
          ],
          "name": "stdout"
        }
      ]
    },
    {
      "cell_type": "markdown",
      "metadata": {
        "id": "WQR16fw2Ojnz"
      },
      "source": [
        "## SavedModel 포맷으로 저장"
      ]
    },
    {
      "cell_type": "code",
      "metadata": {
        "colab": {
          "base_uri": "https://localhost:8080/"
        },
        "id": "1H3xOetvoxxz",
        "outputId": "e41cdd30-ae51-42e2-e295-e29165235324"
      },
      "source": [
        "# 모델을 SavedModel 포맷으로 저장\n",
        "model.save('saved-model')"
      ],
      "execution_count": null,
      "outputs": [
        {
          "output_type": "stream",
          "text": [
            "INFO:tensorflow:Assets written to: saved-model/assets\n"
          ],
          "name": "stdout"
        }
      ]
    },
    {
      "cell_type": "code",
      "metadata": {
        "colab": {
          "base_uri": "https://localhost:8080/"
        },
        "id": "ELrPtzBkpC5y",
        "outputId": "df59b9c1-fc7c-427b-80f5-407c87d76414"
      },
      "source": [
        "# 모델 복원\n",
        "saved_model = tf.keras.models.load_model('saved-model')\n",
        "saved_model.summary()"
      ],
      "execution_count": null,
      "outputs": [
        {
          "output_type": "stream",
          "text": [
            "Model: \"sequential\"\n",
            "_________________________________________________________________\n",
            "Layer (type)                 Output Shape              Param #   \n",
            "=================================================================\n",
            "flatten (Flatten)            (None, 784)               0         \n",
            "_________________________________________________________________\n",
            "dense (Dense)                (None, 256)               200960    \n",
            "_________________________________________________________________\n",
            "dense_1 (Dense)              (None, 64)                16448     \n",
            "_________________________________________________________________\n",
            "dense_2 (Dense)              (None, 32)                2080      \n",
            "_________________________________________________________________\n",
            "dense_3 (Dense)              (None, 10)                330       \n",
            "=================================================================\n",
            "Total params: 219,818\n",
            "Trainable params: 219,818\n",
            "Non-trainable params: 0\n",
            "_________________________________________________________________\n"
          ],
          "name": "stdout"
        }
      ]
    },
    {
      "cell_type": "code",
      "metadata": {
        "colab": {
          "base_uri": "https://localhost:8080/"
        },
        "id": "SkeqChijpQXt",
        "outputId": "8f5b5c01-1658-4292-f539-02cd240cb534"
      },
      "source": [
        "# 모델 검증 (HDF5 포맷)\n",
        "loss, acc = h5_model.evaluate(x_test, y_test, verbose=0)\n",
        "print(f'h5 model] loss: {loss:.5f}, acc: {acc:.5f}')\n",
        "\n",
        "# 모델 검증 (SavedModel 포맷)\n",
        "loss, acc = saved_model.evaluate(x_test, y_test, verbose=0)\n",
        "print(f'saved_model] loss: {loss:.5f}, acc: {acc:.5f}')"
      ],
      "execution_count": null,
      "outputs": [
        {
          "output_type": "stream",
          "text": [
            "h5 model] loss: 0.12686, acc: 0.97360\n",
            "saved_model] loss: 0.12686, acc: 0.97360\n"
          ],
          "name": "stdout"
        }
      ]
    }
  ]
}