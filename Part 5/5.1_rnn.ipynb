{
  "nbformat": 4,
  "nbformat_minor": 0,
  "metadata": {
    "colab": {
      "name": "5.1_rnn.ipynb",
      "provenance": [],
      "collapsed_sections": []
    },
    "kernelspec": {
      "name": "python3",
      "display_name": "Python 3"
    }
  },
  "cells": [
    {
      "cell_type": "markdown",
      "metadata": {
        "id": "iODzVwc4rdRT"
      },
      "source": [
        "[구글 코랩(Colab)에서 실행하기](https://colab.research.google.com/github/lovedlim/tensorflow/blob/main/Part%205/5.1_rnn.ipynb)"
      ]
    },
    {
      "cell_type": "markdown",
      "metadata": {
        "id": "CT77VN9zxC2W"
      },
      "source": [
        "## 임베딩"
      ]
    },
    {
      "cell_type": "code",
      "metadata": {
        "id": "uiZ9kWJ9plDc",
        "colab": {
          "base_uri": "https://localhost:8080/"
        },
        "outputId": "546a81ac-7964-4899-cde2-c1a3bccdee0d"
      },
      "source": [
        "# 라이브러리 불러오기\n",
        "import tensorflow as tf\n",
        "\n",
        "# 임베딩 레이어\n",
        "embedding_layer = tf.keras.layers.Embedding(100, 3)\n",
        "result = embedding_layer(tf.constant([12,8,15, 20])) #더미 데이터 입력\n",
        "print(result)"
      ],
      "execution_count": null,
      "outputs": [
        {
          "output_type": "stream",
          "text": [
            "tf.Tensor(\n",
            "[[ 0.02650649 -0.03870631  0.02221387]\n",
            " [-0.01329124  0.00753369  0.02704499]\n",
            " [-0.01264749 -0.02551993  0.02355143]\n",
            " [ 0.01762089 -0.02397168 -0.00142975]], shape=(4, 3), dtype=float32)\n"
          ],
          "name": "stdout"
        }
      ]
    },
    {
      "cell_type": "code",
      "metadata": {
        "colab": {
          "base_uri": "https://localhost:8080/"
        },
        "id": "FteNMA48BkHl",
        "outputId": "f0fcc58a-f48e-4e9a-a505-062d2e39b229"
      },
      "source": [
        "# 임베딩 레이어 활용\n",
        "model = tf.keras.Sequential()\n",
        "model.add(tf.keras.layers.Embedding(100, 3, input_length=32))\n",
        "model.add(tf.keras.layers.LSTM(units=32))\n",
        "model.add(tf.keras.layers.Dense(units=1))\n",
        "model.summary()"
      ],
      "execution_count": null,
      "outputs": [
        {
          "output_type": "stream",
          "text": [
            "Model: \"sequential\"\n",
            "_________________________________________________________________\n",
            "Layer (type)                 Output Shape              Param #   \n",
            "=================================================================\n",
            "embedding_1 (Embedding)      (None, 32, 3)             300       \n",
            "_________________________________________________________________\n",
            "lstm (LSTM)                  (None, 32)                4608      \n",
            "_________________________________________________________________\n",
            "dense (Dense)                (None, 1)                 33        \n",
            "=================================================================\n",
            "Total params: 4,941\n",
            "Trainable params: 4,941\n",
            "Non-trainable params: 0\n",
            "_________________________________________________________________\n"
          ],
          "name": "stdout"
        }
      ]
    },
    {
      "cell_type": "code",
      "metadata": {
        "colab": {
          "base_uri": "https://localhost:8080/"
        },
        "id": "G2xKwklKFq1z",
        "outputId": "42813a32-9dda-4cc1-dbce-ac36f9fdffbd"
      },
      "source": [
        "# 라이브러리 불러오기\n",
        "import tensorflow as tf\n",
        "from tensorflow.keras.models import Sequential\n",
        "from tensorflow.keras.layers import Embedding, LSTM, Dense\n",
        "\n",
        "# 임베딩 레이어 활용\n",
        "model = Sequential()\n",
        "model.add(Embedding(100, 3, input_length=32))\n",
        "model.add(LSTM(32))\n",
        "model.add(Dense(1))\n",
        "model.summary()"
      ],
      "execution_count": null,
      "outputs": [
        {
          "output_type": "stream",
          "text": [
            "Model: \"sequential_1\"\n",
            "_________________________________________________________________\n",
            "Layer (type)                 Output Shape              Param #   \n",
            "=================================================================\n",
            "embedding_2 (Embedding)      (None, 32, 3)             300       \n",
            "_________________________________________________________________\n",
            "lstm_1 (LSTM)                (None, 32)                4608      \n",
            "_________________________________________________________________\n",
            "dense_1 (Dense)              (None, 1)                 33        \n",
            "=================================================================\n",
            "Total params: 4,941\n",
            "Trainable params: 4,941\n",
            "Non-trainable params: 0\n",
            "_________________________________________________________________\n"
          ],
          "name": "stdout"
        }
      ]
    },
    {
      "cell_type": "markdown",
      "metadata": {
        "id": "zpquLYfzmwQ7"
      },
      "source": [
        "### 양방향 RNN"
      ]
    },
    {
      "cell_type": "code",
      "metadata": {
        "colab": {
          "base_uri": "https://localhost:8080/"
        },
        "id": "bRGr1ij0mwCH",
        "outputId": "a92ed145-5c29-45df-eaf0-ddb464db719b"
      },
      "source": [
        "# Bidirectional LSTM\n",
        "from tensorflow.keras.layers import Bidirectional\n",
        "\n",
        "model = Sequential()\n",
        "model.add(Embedding(100,3))\n",
        "model.add(Bidirectional(LSTM(32))) # 양방향 RNN\n",
        "model.add(Dense(1))\n",
        "model.summary()"
      ],
      "execution_count": null,
      "outputs": [
        {
          "output_type": "stream",
          "text": [
            "Model: \"sequential_2\"\n",
            "_________________________________________________________________\n",
            "Layer (type)                 Output Shape              Param #   \n",
            "=================================================================\n",
            "embedding_3 (Embedding)      (None, None, 3)           300       \n",
            "_________________________________________________________________\n",
            "bidirectional (Bidirectional (None, 64)                9216      \n",
            "_________________________________________________________________\n",
            "dense_2 (Dense)              (None, 1)                 65        \n",
            "=================================================================\n",
            "Total params: 9,581\n",
            "Trainable params: 9,581\n",
            "Non-trainable params: 0\n",
            "_________________________________________________________________\n"
          ],
          "name": "stdout"
        }
      ]
    },
    {
      "cell_type": "markdown",
      "metadata": {
        "id": "wsvwy2nJnYfP"
      },
      "source": [
        "### 스태킹 RNN"
      ]
    },
    {
      "cell_type": "code",
      "metadata": {
        "colab": {
          "base_uri": "https://localhost:8080/"
        },
        "id": "F-VVGz3umvWL",
        "outputId": "8414c36b-b85d-43ca-f7af-43834fd4902e"
      },
      "source": [
        "# 스태킹RNN 예제\n",
        "model = Sequential()\n",
        "model.add(Embedding(100,32))\n",
        "model.add(LSTM(32, return_sequences=True))  # 전체 시퀀스 출력 (batch_size, timesteps, units)\n",
        "model.add(LSTM(32))\n",
        "model.add(Dense(1))\n",
        "model.summary()"
      ],
      "execution_count": null,
      "outputs": [
        {
          "output_type": "stream",
          "text": [
            "Model: \"sequential_3\"\n",
            "_________________________________________________________________\n",
            "Layer (type)                 Output Shape              Param #   \n",
            "=================================================================\n",
            "embedding_4 (Embedding)      (None, None, 32)          3200      \n",
            "_________________________________________________________________\n",
            "lstm_3 (LSTM)                (None, None, 32)          8320      \n",
            "_________________________________________________________________\n",
            "lstm_4 (LSTM)                (None, 32)                8320      \n",
            "_________________________________________________________________\n",
            "dense_3 (Dense)              (None, 1)                 33        \n",
            "=================================================================\n",
            "Total params: 19,873\n",
            "Trainable params: 19,873\n",
            "Non-trainable params: 0\n",
            "_________________________________________________________________\n"
          ],
          "name": "stdout"
        }
      ]
    },
    {
      "cell_type": "markdown",
      "metadata": {
        "id": "3KbFYEQu9lRZ"
      },
      "source": [
        "### 순환 드롭아웃"
      ]
    },
    {
      "cell_type": "code",
      "metadata": {
        "id": "u5P15IVN9jZx",
        "colab": {
          "base_uri": "https://localhost:8080/"
        },
        "outputId": "f66f2251-9b0b-4f9a-b25c-b740e5d664cb"
      },
      "source": [
        "# 순환 드룹아웃\n",
        "model = Sequential()\n",
        "model.add(Embedding(100, 32))\n",
        "model.add(LSTM(32, recurrent_dropout=0.2, dropout=0.2))\n",
        "model.add(Dense(1, activation='sigmoid'))\n",
        "model.summary()"
      ],
      "execution_count": null,
      "outputs": [
        {
          "output_type": "stream",
          "text": [
            "Model: \"sequential_4\"\n",
            "_________________________________________________________________\n",
            "Layer (type)                 Output Shape              Param #   \n",
            "=================================================================\n",
            "embedding_5 (Embedding)      (None, None, 32)          3200      \n",
            "_________________________________________________________________\n",
            "lstm_5 (LSTM)                (None, 32)                8320      \n",
            "_________________________________________________________________\n",
            "dense_4 (Dense)              (None, 1)                 33        \n",
            "=================================================================\n",
            "Total params: 11,553\n",
            "Trainable params: 11,553\n",
            "Non-trainable params: 0\n",
            "_________________________________________________________________\n"
          ],
          "name": "stdout"
        }
      ]
    },
    {
      "cell_type": "code",
      "metadata": {
        "id": "XNUd7vnEORY4"
      },
      "source": [
        ""
      ],
      "execution_count": null,
      "outputs": []
    }
  ]
}