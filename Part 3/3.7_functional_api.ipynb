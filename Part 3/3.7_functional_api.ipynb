{
  "nbformat": 4,
  "nbformat_minor": 0,
  "metadata": {
    "colab": {
      "name": "3.7_functional_api.ipynb",
      "provenance": [],
      "collapsed_sections": []
    },
    "kernelspec": {
      "name": "python3",
      "display_name": "Python 3"
    },
    "language_info": {
      "name": "python"
    }
  },
  "cells": [
    {
      "cell_type": "markdown",
      "metadata": {
        "id": "ELhi1016iIzp"
      },
      "source": [
        "[구글 코랩(Colab)에서 실행하기](https://colab.research.google.com/github/lovedlim/tensorflow/blob/main/Part%203/3.7_functional_api.ipynb)"
      ]
    },
    {
      "cell_type": "code",
      "metadata": {
        "colab": {
          "base_uri": "https://localhost:8080/"
        },
        "id": "0gFfCsucxtYA",
        "outputId": "2c68f287-ca9b-42fd-f038-4cdadc546664"
      },
      "source": [
        "import tensorflow as tf\n",
        "\n",
        "# 케라스의 내장 데이터셋에서 mnist 데이터셋을 로드\n",
        "mnist = tf.keras.datasets.mnist\n",
        "\n",
        "# load_data()로 데이터셋을 로드 합니다.\n",
        "(x_train, y_train), (x_test, y_test) = mnist.load_data()\n",
        "\n",
        "# 데이터 정규화\n",
        "x_train = x_train / x_train.max()\n",
        "x_test = x_test / x_test.max()"
      ],
      "execution_count": null,
      "outputs": [
        {
          "output_type": "stream",
          "text": [
            "Downloading data from https://storage.googleapis.com/tensorflow/tf-keras-datasets/mnist.npz\n",
            "11493376/11490434 [==============================] - 0s 0us/step\n"
          ],
          "name": "stdout"
        }
      ]
    },
    {
      "cell_type": "markdown",
      "metadata": {
        "id": "ouYDsJ6gx8Ju"
      },
      "source": [
        "## Sequential API"
      ]
    },
    {
      "cell_type": "code",
      "metadata": {
        "id": "eP7lJ1hnx55g"
      },
      "source": [
        "model = tf.keras.Sequential([\n",
        "    tf.keras.layers.Flatten(input_shape=(28, 28)), \n",
        "    tf.keras.layers.Dense(256, activation='relu'), \n",
        "    tf.keras.layers.Dense(64, activation='relu'), \n",
        "    tf.keras.layers.Dense(32, activation='relu'), \n",
        "    tf.keras.layers.Dense(10, activation='softmax'), \n",
        "])"
      ],
      "execution_count": null,
      "outputs": []
    },
    {
      "cell_type": "markdown",
      "metadata": {
        "id": "Upm8ZRoCyGvj"
      },
      "source": [
        "## 7-1. Functional API"
      ]
    },
    {
      "cell_type": "code",
      "metadata": {
        "id": "MLn-S0y6yDJk"
      },
      "source": [
        "# 모델의 레이어를 체인 구조로 연결 Input 레이어 정의\n",
        "input_layer = tf.keras.Input(shape=(28, 28), name='InputLayer')\n",
        "\n",
        "# 모델의 레이어를 체인 구조로 연결\n",
        "x1 = tf.keras.layers.Flatten(name='Flatten')(input_layer)\n",
        "x2 = tf.keras.layers.Dense(256, activation='relu', name='Dense1')(x1)\n",
        "x3 = tf.keras.layers.Dense(64, activation='relu', name='Dense2')(x2)\n",
        "x4 = tf.keras.layers.Dense(10, activation='softmax', name='OutputLayer')(x3)"
      ],
      "execution_count": null,
      "outputs": []
    },
    {
      "cell_type": "code",
      "metadata": {
        "colab": {
          "base_uri": "https://localhost:8080/"
        },
        "id": "5rHY0vqMyJx7",
        "outputId": "cd4dc564-cc4b-4c7d-fea7-4f39913f9259"
      },
      "source": [
        "# 모델 생성\n",
        "func_model = tf.keras.Model(inputs=input_layer, outputs=x4, name='FunctionalModel')\n",
        "\n",
        "# 모델 요약\n",
        "func_model.summary()"
      ],
      "execution_count": null,
      "outputs": [
        {
          "output_type": "stream",
          "text": [
            "Model: \"FunctionalModel\"\n",
            "_________________________________________________________________\n",
            "Layer (type)                 Output Shape              Param #   \n",
            "=================================================================\n",
            "InputLayer (InputLayer)      [(None, 28, 28)]          0         \n",
            "_________________________________________________________________\n",
            "Flatten (Flatten)            (None, 784)               0         \n",
            "_________________________________________________________________\n",
            "Dense1 (Dense)               (None, 256)               200960    \n",
            "_________________________________________________________________\n",
            "Dense2 (Dense)               (None, 64)                16448     \n",
            "_________________________________________________________________\n",
            "OutputLayer (Dense)          (None, 10)                650       \n",
            "=================================================================\n",
            "Total params: 218,058\n",
            "Trainable params: 218,058\n",
            "Non-trainable params: 0\n",
            "_________________________________________________________________\n"
          ],
          "name": "stdout"
        }
      ]
    },
    {
      "cell_type": "code",
      "metadata": {
        "colab": {
          "base_uri": "https://localhost:8080/",
          "height": 533
        },
        "id": "V55Qnw3RyVcv",
        "outputId": "1ee83c51-ca65-4596-cf9c-5c9864ef0789"
      },
      "source": [
        "from tensorflow.keras.utils import plot_model\n",
        "\n",
        "# 구조도 시각화\n",
        "plot_model(func_model, show_shapes=True, show_layer_names=True, to_file='model.png')"
      ],
      "execution_count": null,
      "outputs": [
        {
          "output_type": "execute_result",
          "data": {
            "image/png": "[encoded data removed]",
            "text/plain": [
              "<IPython.core.display.Image object>"
            ]
          },
          "metadata": {
            "tags": []
          },
          "execution_count": 5
        }
      ]
    },
    {
      "cell_type": "code",
      "metadata": {
        "colab": {
          "base_uri": "https://localhost:8080/"
        },
        "id": "TWRTVaF3yf-F",
        "outputId": "158be4d4-2c91-4924-df96-97ce4ab6a6ed"
      },
      "source": [
        "# 컴파일\n",
        "func_model.compile(optimizer='adam', loss='sparse_categorical_crossentropy', metrics=['accuracy'])\n",
        "\n",
        "# 훈련\n",
        "func_model.fit(x_train, y_train, epochs=3)\n",
        "\n",
        "# 검증\n",
        "loss, acc = func_model.evaluate(x_test, y_test, verbose=0)\n",
        "print(f'Functional Model] loss: {loss:.5f}, acc: {acc:.5f}')"
      ],
      "execution_count": null,
      "outputs": [
        {
          "output_type": "stream",
          "text": [
            "Epoch 1/3\n",
            "1875/1875 [==============================] - 5s 3ms/step - loss: 0.3814 - accuracy: 0.8862\n",
            "Epoch 2/3\n",
            "1875/1875 [==============================] - 5s 3ms/step - loss: 0.0942 - accuracy: 0.9713\n",
            "Epoch 3/3\n",
            "1875/1875 [==============================] - 5s 2ms/step - loss: 0.0596 - accuracy: 0.9810\n",
            "Functional Model] loss: 0.07591, acc: 0.97510\n"
          ],
          "name": "stdout"
        }
      ]
    },
    {
      "cell_type": "markdown",
      "metadata": {
        "id": "51b6HutbyQvB"
      },
      "source": [
        "## 7-2. Model Subsclassing"
      ]
    },
    {
      "cell_type": "code",
      "metadata": {
        "id": "tZienRgpyT3F"
      },
      "source": [
        "class MyModel(tf.keras.Model):\n",
        "    \n",
        "    def __init__(self):\n",
        "        super(MyModel, self).__init__()\n",
        "        # 초기값 설정\n",
        "        self.flatten = tf.keras.layers.Flatten()\n",
        "        self.dense1 = tf.keras.layers.Dense(256, activation='relu')\n",
        "        self.dense2 = tf.keras.layers.Dense(64, activation='relu')\n",
        "        self.dense3 = tf.keras.layers.Dense(10, activation='softmax')\n",
        "        \n",
        "    # class overiding\n",
        "    # 학습용 함수 정의\n",
        "    # x는 input\n",
        "    def call(self, x):\n",
        "        x = self.flatten(x)\n",
        "        x = self.dense1(x)\n",
        "        x = self.dense2(x)\n",
        "        x = self.dense3(x)\n",
        "        return x"
      ],
      "execution_count": null,
      "outputs": []
    },
    {
      "cell_type": "code",
      "metadata": {
        "colab": {
          "base_uri": "https://localhost:8080/"
        },
        "id": "9STSr6y_zBcX",
        "outputId": "81352285-10b4-4776-b316-ba298242dcb5"
      },
      "source": [
        "# 모델 생성\n",
        "mymodel = MyModel()\n",
        "\n",
        "# 모델의 이름 설정\n",
        "mymodel._name = 'subclass_model'\n",
        "\n",
        "# 모델 input 정의\n",
        "mymodel(tf.keras.layers.Input(shape=(28, 28)))\n",
        "\n",
        "# 모델 요약\n",
        "mymodel.summary()"
      ],
      "execution_count": null,
      "outputs": [
        {
          "output_type": "stream",
          "text": [
            "Model: \"subclass_model\"\n",
            "_________________________________________________________________\n",
            "Layer (type)                 Output Shape              Param #   \n",
            "=================================================================\n",
            "flatten_1 (Flatten)          multiple                  0         \n",
            "_________________________________________________________________\n",
            "dense_4 (Dense)              multiple                  200960    \n",
            "_________________________________________________________________\n",
            "dense_5 (Dense)              multiple                  16448     \n",
            "_________________________________________________________________\n",
            "dense_6 (Dense)              multiple                  650       \n",
            "=================================================================\n",
            "Total params: 218,058\n",
            "Trainable params: 218,058\n",
            "Non-trainable params: 0\n",
            "_________________________________________________________________\n"
          ],
          "name": "stdout"
        }
      ]
    },
    {
      "cell_type": "code",
      "metadata": {
        "colab": {
          "base_uri": "https://localhost:8080/"
        },
        "id": "9kvnsExm2DHr",
        "outputId": "e914865d-fcba-41b4-cf98-ae423eb5a162"
      },
      "source": [
        "# 컴파일\n",
        "mymodel.compile(optimizer='adam', loss='sparse_categorical_crossentropy', metrics=['accuracy'])\n",
        "\n",
        "# 훈련\n",
        "mymodel.fit(x_train, y_train, epochs=3)\n",
        "\n",
        "# 검증\n",
        "loss, acc = mymodel.evaluate(x_test, y_test, verbose=0)\n",
        "print(f'Subclassing Model] loss: {loss:.5f}, acc: {acc:.5f}')"
      ],
      "execution_count": null,
      "outputs": [
        {
          "output_type": "stream",
          "text": [
            "Epoch 1/3\n",
            "1875/1875 [==============================] - 5s 3ms/step - loss: 0.3767 - accuracy: 0.8876\n",
            "Epoch 2/3\n",
            "1875/1875 [==============================] - 5s 2ms/step - loss: 0.0909 - accuracy: 0.9719\n",
            "Epoch 3/3\n",
            "1875/1875 [==============================] - 5s 2ms/step - loss: 0.0575 - accuracy: 0.9812\n",
            "Subclassing Model] loss: 0.09731, acc: 0.96950\n"
          ],
          "name": "stdout"
        }
      ]
    },
    {
      "cell_type": "markdown",
      "metadata": {
        "id": "5ATIMvv4zSHS"
      },
      "source": [
        "## 7-3. 생성자 parameter를 활용한 생성"
      ]
    },
    {
      "cell_type": "code",
      "metadata": {
        "id": "R2RmeiW9zNGy"
      },
      "source": [
        "class MyModel(tf.keras.Model):\n",
        "    \n",
        "    # 생성자 parameter 추가\n",
        "    def __init__(self, units, num_classes):\n",
        "        super(MyModel, self).__init__()\n",
        "        # 초기값 설정\n",
        "        self.flatten = tf.keras.layers.Flatten()\n",
        "        self.dense1 = tf.keras.layers.Dense(units, activation='relu')\n",
        "        self.dense2 = tf.keras.layers.Dense(units/4, activation='relu')\n",
        "        self.dense3 = tf.keras.layers.Dense(num_classes, activation='softmax')\n",
        "        \n",
        "    # class overiding\n",
        "    # 학습용 함수 정의\n",
        "    # x는 input\n",
        "    def call(self, x):\n",
        "        x = self.flatten(x)\n",
        "        x = self.dense1(x)\n",
        "        x = self.dense2(x)\n",
        "        x = self.dense3(x)\n",
        "        return x"
      ],
      "execution_count": null,
      "outputs": []
    },
    {
      "cell_type": "code",
      "metadata": {
        "colab": {
          "base_uri": "https://localhost:8080/"
        },
        "id": "vLCp_dg5zYFp",
        "outputId": "279f91ee-9fe3-4d9f-f911-04863e0881bd"
      },
      "source": [
        "# 모델 생성\n",
        "mymodel = MyModel(256, 10)\n",
        "\n",
        "# 모델 input 정의\n",
        "mymodel(tf.keras.layers.Input(shape=(28, 28)))\n",
        "\n",
        "# 모델 요약\n",
        "mymodel.summary()"
      ],
      "execution_count": null,
      "outputs": [
        {
          "output_type": "stream",
          "text": [
            "Model: \"my_model_1\"\n",
            "_________________________________________________________________\n",
            "Layer (type)                 Output Shape              Param #   \n",
            "=================================================================\n",
            "flatten_2 (Flatten)          multiple                  0         \n",
            "_________________________________________________________________\n",
            "dense_7 (Dense)              multiple                  200960    \n",
            "_________________________________________________________________\n",
            "dense_8 (Dense)              multiple                  16448     \n",
            "_________________________________________________________________\n",
            "dense_9 (Dense)              multiple                  650       \n",
            "=================================================================\n",
            "Total params: 218,058\n",
            "Trainable params: 218,058\n",
            "Non-trainable params: 0\n",
            "_________________________________________________________________\n"
          ],
          "name": "stdout"
        }
      ]
    },
    {
      "cell_type": "code",
      "metadata": {
        "colab": {
          "base_uri": "https://localhost:8080/"
        },
        "id": "NSf_ZrlLzgQl",
        "outputId": "3857d818-3fa2-4647-eff0-4bfac9f15426"
      },
      "source": [
        "# 컴파일\n",
        "mymodel.compile(optimizer='adam', loss='sparse_categorical_crossentropy', metrics=['accuracy'])\n",
        "\n",
        "# 훈련\n",
        "mymodel.fit(x_train, y_train, epochs=3)\n",
        "\n",
        "# 검증\n",
        "loss, acc = mymodel.evaluate(x_test, y_test, verbose=0)\n",
        "print(f'Subclassing Model w. parameters] loss: {loss:.5f}, acc: {acc:.5f}')"
      ],
      "execution_count": null,
      "outputs": [
        {
          "output_type": "stream",
          "text": [
            "Epoch 1/3\n",
            "1875/1875 [==============================] - 5s 2ms/step - loss: 0.3845 - accuracy: 0.8891\n",
            "Epoch 2/3\n",
            "1875/1875 [==============================] - 4s 2ms/step - loss: 0.0930 - accuracy: 0.9716\n",
            "Epoch 3/3\n",
            "1875/1875 [==============================] - 4s 2ms/step - loss: 0.0574 - accuracy: 0.9816\n",
            "Subclassing Model w. parameters] loss: 0.09074, acc: 0.97080\n"
          ],
          "name": "stdout"
        }
      ]
    }
  ]
}