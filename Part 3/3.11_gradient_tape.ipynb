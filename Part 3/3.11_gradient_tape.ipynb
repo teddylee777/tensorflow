{
  "nbformat": 4,
  "nbformat_minor": 0,
  "metadata": {
    "colab": {
      "name": "3.11_gradient_tape.ipynb",
      "provenance": [],
      "collapsed_sections": []
    },
    "kernelspec": {
      "name": "python3",
      "display_name": "Python 3"
    },
    "language_info": {
      "name": "python"
    }
  },
  "cells": [
    {
      "cell_type": "markdown",
      "metadata": {
        "id": "maQpPLK7ixK2"
      },
      "source": [
        "[구글 코랩(Colab)에서 실행하기](https://colab.research.google.com/github/lovedlim/tensorflow/blob/main/Part%203/3.11_gradient_tape.ipynb)"
      ]
    },
    {
      "cell_type": "markdown",
      "metadata": {
        "id": "baxsTTZhfoCC"
      },
      "source": [
        "## 8-3-2. 자동미분"
      ]
    },
    {
      "cell_type": "code",
      "metadata": {
        "id": "onVbwy5LLCK3",
        "colab": {
          "base_uri": "https://localhost:8080/"
        },
        "outputId": "5bd671f6-dc17-4978-c0b0-e80d50c4d43b"
      },
      "source": [
        "import numpy as np\n",
        "import matplotlib.pyplot as plt\n",
        "import tensorflow as tf\n",
        "\n",
        "# a, b의 Variable 를 생성\n",
        "a = tf.Variable([1, 2, 3, 4, 5], dtype=tf.float32)\n",
        "b = tf.Variable([10, 20, 30, 40, 50], dtype=tf.float32)\n",
        "\n",
        "# 미분 계산을 위해서 a, b가 미분 가능한 객체인지 확인\n",
        "print(f'a.trainable: {a.trainable}\\nb.trainable: {b.trainable}')"
      ],
      "execution_count": null,
      "outputs": [
        {
          "output_type": "stream",
          "text": [
            "a.trainable: True\n",
            "b.trainable: True\n"
          ],
          "name": "stdout"
        }
      ]
    },
    {
      "cell_type": "code",
      "metadata": {
        "colab": {
          "base_uri": "https://localhost:8080/"
        },
        "id": "jpBI1p-rMTjh",
        "outputId": "7335f5d5-794f-4096-bb18-df8cab7b4d03"
      },
      "source": [
        "# c = a * b\n",
        "# c를 a 대한 편미분 => b\n",
        "# c를 b 대한 편미분 => c\n",
        "with tf.GradientTape() as tape:\n",
        "    c = a * b\n",
        "grads = tape.gradient(c, [a, b])\n",
        "tf.print(f'dc/da: {grads[0]}')\n",
        "tf.print(f'dc/db: {grads[1]}')"
      ],
      "execution_count": null,
      "outputs": [
        {
          "output_type": "stream",
          "text": [
            "dc/da: [10. 20. 30. 40. 50.]\n",
            "dc/db: [1. 2. 3. 4. 5.]\n"
          ],
          "name": "stdout"
        }
      ]
    },
    {
      "cell_type": "markdown",
      "metadata": {
        "id": "9Ih24eVkfijY"
      },
      "source": [
        "## 단순선형회귀"
      ]
    },
    {
      "cell_type": "code",
      "metadata": {
        "colab": {
          "base_uri": "https://localhost:8080/"
        },
        "id": "T4LBwwyuM5Hn",
        "outputId": "1d1d221a-74db-44f7-8bf8-714fb3a4785a"
      },
      "source": [
        "x = tf.Variable(np.random.normal(size=(100, )), dtype=tf.float32)\n",
        "y = 2*x + 3\n",
        "print(f'x[:5]: {x[:5].numpy()}\\ny[:5]: {y[:5].numpy()}')"
      ],
      "execution_count": null,
      "outputs": [
        {
          "output_type": "stream",
          "text": [
            "x[:5]: [-0.14403531  0.11135218  2.1489954  -1.2511883  -0.5731737 ]\n",
            "y[:5]: [2.7119293  3.2227044  7.297991   0.49762344 1.8536526 ]\n"
          ],
          "name": "stdout"
        }
      ]
    },
    {
      "cell_type": "code",
      "metadata": {
        "colab": {
          "base_uri": "https://localhost:8080/",
          "height": 265
        },
        "id": "3ruPkfwBR4vC",
        "outputId": "46688bba-4a99-469a-d612-a8ee3e23b2fa"
      },
      "source": [
        "fig, ax = plt.subplots(figsize=(6, 4))\n",
        "ax.plot(x.numpy(), y.numpy())\n",
        "ax.grid()\n",
        "plt.show()"
      ],
      "execution_count": null,
      "outputs": [
        {
          "output_type": "display_data",
          "data": {
            "image/png": "[encoded data removed]",
            "text/plain": [
              "<Figure size 432x288 with 1 Axes>"
            ]
          },
          "metadata": {
            "tags": [],
            "needs_background": "light"
          }
        }
      ]
    },
    {
      "cell_type": "code",
      "metadata": {
        "colab": {
          "base_uri": "https://localhost:8080/"
        },
        "id": "cB_q3qNqSTSM",
        "outputId": "ac1a0902-da3a-47bd-fd09-0b3cca306b4a"
      },
      "source": [
        "# 학습률, 최대 Epoch 정의\n",
        "learning_rate = 0.25\n",
        "EPOCHS = 100\n",
        "\n",
        "# w, b 초기값을 0.0으로 설정. float 타입을 가져야 한다.\n",
        "w = tf.Variable(0.0)\n",
        "b = tf.Variable(0.0)\n",
        "\n",
        "for epoch in range(EPOCHS):\n",
        "    with tf.GradientTape() as tape:\n",
        "        # y_hat(예측 값)\n",
        "        y_hat = w*x + b\n",
        "        # 손실 계산(MSE)\n",
        "        loss = tf.reduce_mean((y_hat - y)**2)\n",
        "    \n",
        "    # 그라디언트 계산\n",
        "    dw, db = tape.gradient(loss, [w, b])\n",
        "\n",
        "    # 그라이언트 업데이트\n",
        "    w = tf.Variable(w - learning_rate * dw)\n",
        "    b = tf.Variable(b - learning_rate * db)\n",
        "\n",
        "    print(f'epoch: {epoch}, loss: {loss.numpy():.4f}, w: {w.numpy():.4f}, b: {b.numpy():.4f}')\n",
        "\n",
        "    # Error가 0.0005보다 작으면 루프 종료\n",
        "    if loss.numpy() < 0.0005:\n",
        "        break"
      ],
      "execution_count": null,
      "outputs": [
        {
          "output_type": "stream",
          "text": [
            "epoch: 0, loss: 11.6724, w: 0.8198, b: 1.3989\n",
            "epoch: 1, loss: 3.5346, w: 1.3121, b: 2.1397\n",
            "epoch: 2, loss: 1.0800, w: 1.6028, b: 2.5351\n",
            "epoch: 3, loss: 0.3321, w: 1.7722, b: 2.7475\n",
            "epoch: 4, loss: 0.1026, w: 1.8701, b: 2.8622\n",
            "epoch: 5, loss: 0.0318, w: 1.9262, b: 2.9245\n",
            "epoch: 6, loss: 0.0099, w: 1.9582, b: 2.9585\n",
            "epoch: 7, loss: 0.0031, w: 1.9764, b: 2.9772\n",
            "epoch: 8, loss: 0.0010, w: 1.9867, b: 2.9874\n",
            "epoch: 9, loss: 0.0003, w: 1.9925, b: 2.9930\n"
          ],
          "name": "stdout"
        }
      ]
    },
    {
      "cell_type": "code",
      "metadata": {
        "id": "wfnzM9NynUH2"
      },
      "source": [
        ""
      ],
      "execution_count": null,
      "outputs": []
    }
  ]
}